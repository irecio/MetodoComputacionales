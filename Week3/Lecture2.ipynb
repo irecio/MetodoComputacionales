{
 "cells": [
  {
   "cell_type": "code",
   "execution_count": 1,
   "metadata": {},
   "outputs": [],
   "source": [
    "import numpy             as np\n",
    "import matplotlib.pyplot as plt\n",
    "from matplotlib          import rc \n",
    "from tqdm import tqdm"
   ]
  },
  {
   "cell_type": "code",
   "execution_count": 3,
   "metadata": {},
   "outputs": [
    {
     "data": {
      "text/html": [
       "\n",
       "        <iframe\n",
       "            width=\"550\"\n",
       "            height=\"400\"\n",
       "            src=\"Lectures/MonteCarlo.pdf\"\n",
       "            frameborder=\"0\"\n",
       "            allowfullscreen\n",
       "        ></iframe>\n",
       "        "
      ],
      "text/plain": [
       "<IPython.lib.display.IFrame at 0x7fcf6c032050>"
      ]
     },
     "execution_count": 3,
     "metadata": {},
     "output_type": "execute_result"
    }
   ],
   "source": [
    "from IPython.display import IFrame, display\n",
    "file = 'Lectures/MonteCarlo.pdf'\n",
    "IFrame(file, width=550, height=400)"
   ]
  },
  {
   "cell_type": "markdown",
   "metadata": {},
   "source": [
    "Queremos calcular el segundo momento de la distribución usando el método de Montecarlo.\n",
    "$$ x \\sim exp(4) $$ \n",
    "$$ f(x) = \\frac{1}{4}e^{\\frac{-x}{4}} $$  \n",
    "$$ E(x^{2}) = \\int_{0}^{\\infty}\\frac{1}{4} x^{2} e^{\\frac{-x}{4}} = 32$$\n",
    "Hacer cambio de variable $y = \\frac{1}{1+x}$"
   ]
  },
  {
   "cell_type": "code",
   "execution_count": 5,
   "metadata": {},
   "outputs": [],
   "source": [
    "def FunctionExp(y):\n",
    "    \n",
    "    if(y.any() != 0):\n",
    "        return ( (1/y - 1)**2 * np.exp( -(1/y - 1)/4 ) ) / (4*y**2)\n",
    "    else:\n",
    "        return 0.\n",
    "\n",
    "def IntegralExacta():\n",
    "    return 32."
   ]
  },
  {
   "cell_type": "code",
   "execution_count": 6,
   "metadata": {},
   "outputs": [],
   "source": [
    "def MCIntegral(N = 100):\n",
    "    x = np.random.rand(N)\n",
    "    return np.sum(FunctionExp(x))/N"
   ]
  },
  {
   "cell_type": "code",
   "execution_count": 10,
   "metadata": {},
   "outputs": [
    {
     "name": "stdout",
     "output_type": "stream",
     "text": [
      "[0.12702212 0.31107512 0.03603595 0.01651535 0.0205389  0.02150515\n",
      " 0.00471912 0.00228469]\n"
     ]
    }
   ],
   "source": [
    "n_intentos = 8\n",
    "puntos = np.int_(np.logspace(2,6,n_intentos))\n",
    "diferencias = np.ones(n_intentos)\n",
    "\n",
    "for i in range(n_intentos):\n",
    "    a = IntegralExacta()\n",
    "    b = MCIntegral(N = puntos[i])\n",
    "    diferencias[i] = np.abs( (a-b)/a )\n",
    "\n",
    "print(diferencias)"
   ]
  },
  {
   "cell_type": "code",
   "execution_count": 11,
   "metadata": {},
   "outputs": [
    {
     "data": {
      "image/png": "[encoded data removed]",
      "text/plain": [
       "<Figure size 432x288 with 1 Axes>"
      ]
     },
     "metadata": {
      "needs_background": "light"
     },
     "output_type": "display_data"
    }
   ],
   "source": [
    "plt.plot(puntos, diferencias)\n",
    "#plt.loglog()\n",
    "plt.yscale('log')\n",
    "plt.xlabel(\"$N_{puntos}$\")\n",
    "plt.ylabel(\"|Error relativo|\")\n",
    "plt.show()"
   ]
  },
  {
   "cell_type": "markdown",
   "metadata": {},
   "source": [
    "En general es posible utilizar los puntos muestrales que siguen una dsitribución $g(x)$ para integrar una función $f(x)$. La siguiente aproximación de satisface:\n",
    "\n",
    "$$ \\frac{\\int g(x)f(x)dx}{\\int g(x)dx} = < f(x) > \\approx \\frac{1}{N} \\sum_{i=1}^{N} f(x_{i}) $$,\n",
    "\n",
    "donde $g(x)$ es la función de densidad de probabilidad, que podría no estar normalizada. Por ejemplo, $\\int_{0}^{\\infty} e^{-x} sin(x) dx$ puede ser estimada usando la densidad de probabilidad de la exponencial y promediando el valor de $sin(x)$ en esos puntos."
   ]
  },
  {
   "cell_type": "code",
   "execution_count": 26,
   "metadata": {},
   "outputs": [],
   "source": [
    "def f(x):\n",
    "    return np.sin(x)\n",
    "\n",
    "def IntegralExacta():\n",
    "    return 0.5\n",
    "\n",
    "def MCIntegral(N = 100):\n",
    "    #x = np.random.rand( N )\n",
    "    x = np.random.exponential( size = N )\n",
    "    return np.sum(f(x))/N"
   ]
  },
  {
   "cell_type": "code",
   "execution_count": 27,
   "metadata": {},
   "outputs": [
    {
     "name": "stdout",
     "output_type": "stream",
     "text": [
      "0.5020351398371031\n"
     ]
    }
   ],
   "source": [
    "print(MCIntegral( 10000 ))"
   ]
  },
  {
   "cell_type": "code",
   "execution_count": 28,
   "metadata": {},
   "outputs": [
    {
     "name": "stdout",
     "output_type": "stream",
     "text": [
      "[0.10487166 0.05268181 0.02299241 0.00164172 0.00419884 0.00437853\n",
      " 0.00119864 0.001099  ]\n"
     ]
    }
   ],
   "source": [
    "n_intentos = 8\n",
    "puntos = np.int_(np.logspace(2,6,n_intentos))\n",
    "diferencias = np.ones(n_intentos)\n",
    "\n",
    "for i in range(n_intentos):\n",
    "    a = IntegralExacta()\n",
    "    b = MCIntegral(N = puntos[i])\n",
    "    diferencias[i] = np.abs( (a-b)/a )  \n",
    "\n",
    "print(diferencias)"
   ]
  },
  {
   "cell_type": "code",
   "execution_count": 29,
   "metadata": {},
   "outputs": [
    {
     "data": {
      "text/plain": [
       "Text(0,0.5,'|Error|')"
      ]
     },
     "execution_count": 29,
     "metadata": {},
     "output_type": "execute_result"
    },
    {
     "data": {
      "image/png": "[encoded data removed]",
      "text/plain": [
       "<Figure size 432x288 with 1 Axes>"
      ]
     },
     "metadata": {
      "needs_background": "light"
     },
     "output_type": "display_data"
    }
   ],
   "source": [
    "plt.plot(puntos, diferencias)\n",
    "plt.loglog()\n",
    "plt.xlabel(\"$N_{puntos}$\")\n",
    "plt.ylabel(\"|Error|\")"
   ]
  },
  {
   "cell_type": "code",
   "execution_count": null,
   "metadata": {},
   "outputs": [],
   "source": []
  }
 ],
 "metadata": {
  "kernelspec": {
   "display_name": "Python 3",
   "language": "python",
   "name": "python3"
  },
  "language_info": {
   "codemirror_mode": {
    "name": "ipython",
    "version": 2
   },
   "file_extension": ".py",
   "mimetype": "text/x-python",
   "name": "python",
   "nbconvert_exporter": "python",
   "pygments_lexer": "ipython2",
   "version": "2.7.16"
  }
 },
 "nbformat": 4,
 "nbformat_minor": 2
}
