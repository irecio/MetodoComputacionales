{
 "cells": [
  {
   "cell_type": "code",
   "execution_count": 1,
   "metadata": {},
   "outputs": [
    {
     "name": "stdout",
     "output_type": "stream",
     "text": [
      "Using matplotlib backend: Qt5Agg\n",
      "Populating the interactive namespace from numpy and matplotlib\n"
     ]
    }
   ],
   "source": [
    " # %matplotlib inline\n",
    "%pylab\n",
    "import numpy as np\n",
    "import cv2"
   ]
  },
  {
   "cell_type": "code",
   "execution_count": 2,
   "metadata": {},
   "outputs": [
    {
     "data": {
      "text/html": [
       "\n",
       "        <iframe\n",
       "            width=\"550\"\n",
       "            height=\"400\"\n",
       "            src=\"Lectures/FFT2.pdf\"\n",
       "            frameborder=\"0\"\n",
       "            allowfullscreen\n",
       "        ></iframe>\n",
       "        "
      ],
      "text/plain": [
       "<IPython.lib.display.IFrame at 0x7f6dee119890>"
      ]
     },
     "execution_count": 2,
     "metadata": {},
     "output_type": "execute_result"
    }
   ],
   "source": [
    "from IPython.display import IFrame, display\n",
    "file = 'Lectures/FFT2.pdf'\n",
    "IFrame(file, width=550, height=400)"
   ]
  },
  {
   "cell_type": "code",
   "execution_count": 3,
   "metadata": {},
   "outputs": [],
   "source": [
    "# Cargamos la imagen\n",
    "\n",
    "image = cv2.imread('images/car.png')\n",
    "cv2.imshow('ImagenOriginal',image)"
   ]
  },
  {
   "cell_type": "code",
   "execution_count": 4,
   "metadata": {},
   "outputs": [],
   "source": [
    "# Reescalar imagen\n",
    "Nx, Ny = 512,512\n",
    "image=cv2.resize(image,(Nx,Ny))\n",
    "# Escala de grises\n",
    "image_gray=cv2.cvtColor(image,cv2.COLOR_RGB2GRAY)\n",
    "cv2.imshow('ImagenGrayScale',image_gray)\n",
    "# Conversion a punto flotante para realizar matematicas\n",
    "image_gray_float=np.float64(image_gray)"
   ]
  },
  {
   "cell_type": "code",
   "execution_count": 5,
   "metadata": {},
   "outputs": [],
   "source": [
    "# Obtener la fft\n",
    "\n",
    "FFT = np.fft.fft2(image_gray_float)\n",
    "FFT = np.fft.fftshift(FFT)\n",
    "\n",
    "# Obtener la magnitud de la transformada de Fourier\n",
    "\n",
    "FFTA = np.abs(FFT)\n",
    "\n",
    "# Escalar en logaritmos\n",
    "\n",
    "FFTLog = 20*np.log10(FFTA)"
   ]
  },
  {
   "cell_type": "code",
   "execution_count": 42,
   "metadata": {},
   "outputs": [],
   "source": [
    "# Mostrar la imagen en su espectro de frecuencias\n",
    "\n",
    "cv2.imshow('Espectro de Fourier', np.uint8(255*FFTLog/np.max(FFTLog)) )"
   ]
  },
  {
   "cell_type": "code",
   "execution_count": 7,
   "metadata": {},
   "outputs": [
    {
     "name": "stdout",
     "output_type": "stream",
     "text": [
      "[[0.99609375 0.99414254 0.99219519 ... 0.99414254 0.99609375 0.99804879]\n",
      " [0.99414254 0.9921875  0.9902363  ... 0.9921875  0.99414254 0.99610141]\n",
      " [0.99219519 0.9902363  0.98828125 ... 0.9902363  0.99219519 0.99415789]\n",
      " ...\n",
      " [0.99414254 0.9921875  0.9902363  ... 0.9921875  0.99414254 0.99610141]\n",
      " [0.99609375 0.99414254 0.99219519 ... 0.99414254 0.99609375 0.99804879]\n",
      " [0.99804879 0.99610141 0.99415789 ... 0.99610141 0.99804879 1.        ]]\n"
     ]
    }
   ],
   "source": [
    "# Vamos a diseñar el filtro para nuestra imagen\n",
    "\n",
    "F1 = np.arange( -0.5*Nx+1, 0.5*Nx+1, 1)\n",
    "F2 = np.arange( -0.5*Ny+1, 0.5*Ny+1, 1)\n",
    "[X, Y] = np.meshgrid(F1,F2)\n",
    "D = np.sqrt(X**2 + Y**2)\n",
    "D = D/np.max(D)\n",
    "print(D)"
   ]
  },
  {
   "cell_type": "code",
   "execution_count": 43,
   "metadata": {},
   "outputs": [],
   "source": [
    "# Definimos un radio de corte\n",
    "\n",
    "D0 = 0.05\n",
    "D02 = 0.7\n",
    "\n",
    "Huv = np.zeros((Nx,Ny))\n",
    "\n",
    "#Filtro de bajas frecuencias\n",
    "\n",
    "for i in range(Nx):\n",
    "    for j in range(Ny):\n",
    "        if(D[i,j] < D0):\n",
    "            Huv[i,j] = 1.\n",
    "        #if(D[i,j] > D02):\n",
    "        #    Huv[i,j] = 1.\n",
    "            \n",
    "#print(Huv)"
   ]
  },
  {
   "cell_type": "code",
   "execution_count": 44,
   "metadata": {},
   "outputs": [],
   "source": [
    "cv2.imshow('FiltrodeBajaF', np.uint8(255*Huv))"
   ]
  },
  {
   "cell_type": "code",
   "execution_count": 45,
   "metadata": {},
   "outputs": [],
   "source": [
    "# Usemos el teorema de convolucion\n",
    "\n",
    "Guv = Huv*FFT"
   ]
  },
  {
   "cell_type": "code",
   "execution_count": 46,
   "metadata": {},
   "outputs": [],
   "source": [
    "# Calculamos la magnitud\n",
    "\n",
    "GuvA = np.abs(Guv)\n",
    "\n",
    "# Escalamos\n",
    "\n",
    "GuvA = np.uint8( 255*GuvA/np.max(GuvA) )"
   ]
  },
  {
   "cell_type": "code",
   "execution_count": 47,
   "metadata": {},
   "outputs": [],
   "source": [
    "# Visualizar el espectro con filtro\n",
    "cv2.imshow('Espectro_Fourier_Filtro', np.uint8( 255*GuvA ))"
   ]
  },
  {
   "cell_type": "code",
   "execution_count": 48,
   "metadata": {},
   "outputs": [],
   "source": [
    "\n",
    "# Ahora tomemos la transformada inversa para obtener la imagen fina\n",
    "\n",
    "Gxy = np.fft.ifft2(Guv)\n",
    "Gxy = np.abs(Gxy)\n",
    "Gxy = np.uint8(Gxy)"
   ]
  },
  {
   "cell_type": "code",
   "execution_count": 49,
   "metadata": {},
   "outputs": [],
   "source": [
    "cv2.imshow('ImagenConFiltro',Gxy)"
   ]
  },
  {
   "cell_type": "code",
   "execution_count": null,
   "metadata": {},
   "outputs": [],
   "source": []
  }
 ],
 "metadata": {
  "kernelspec": {
   "display_name": "Python 3",
   "language": "python",
   "name": "python3"
  },
  "language_info": {
   "codemirror_mode": {
    "name": "ipython",
    "version": 2
   },
   "file_extension": ".py",
   "mimetype": "text/x-python",
   "name": "python",
   "nbconvert_exporter": "python",
   "pygments_lexer": "ipython2",
   "version": "2.7.16"
  }
 },
 "nbformat": 4,
 "nbformat_minor": 2
}
