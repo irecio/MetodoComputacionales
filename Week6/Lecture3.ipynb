{
 "cells": [
  {
   "cell_type": "code",
   "execution_count": 1,
   "metadata": {},
   "outputs": [
    {
     "name": "stdout",
     "output_type": "stream",
     "text": [
      "Using matplotlib backend: Qt5Agg\n",
      "Populating the interactive namespace from numpy and matplotlib\n"
     ]
    }
   ],
   "source": [
    "%pylab\n",
    "# %matplotlib inline\n",
    "import numpy as np\n",
    "import matplotlib.pyplot as plt\n",
    "from skimage import io\n",
    "from scipy import fftpack\n",
    "import cv2"
   ]
  },
  {
   "cell_type": "markdown",
   "metadata": {},
   "source": [
    "# Limpieza de imagenes"
   ]
  },
  {
   "cell_type": "code",
   "execution_count": 2,
   "metadata": {},
   "outputs": [
    {
     "data": {
      "text/plain": [
       "<matplotlib.image.AxesImage at 0x7fb968190150>"
      ]
     },
     "execution_count": 2,
     "metadata": {},
     "output_type": "execute_result"
    }
   ],
   "source": [
    "# Cargar un imagen\n",
    "image = io.imread('images/moonlanding.png')\n",
    "f, ax = plt.subplots(figsize=(4,4))\n",
    "ax.imshow(image)"
   ]
  },
  {
   "cell_type": "code",
   "execution_count": 3,
   "metadata": {},
   "outputs": [
    {
     "name": "stdout",
     "output_type": "stream",
     "text": [
      "((474, 630), dtype('uint8'))\n"
     ]
    }
   ],
   "source": [
    "M, N = image.shape\n",
    "print( (M,N), image.dtype )"
   ]
  },
  {
   "cell_type": "code",
   "execution_count": 4,
   "metadata": {},
   "outputs": [],
   "source": [
    "# Tomemos la transformada de Fourier\n",
    "\n",
    "FFT = fftpack.fftn(image)\n",
    "\n",
    "# Tomar la norma del coeficiente de Fourier\n",
    "FFTA = np.abs(FFT)\n",
    "\n",
    "# Correr las frecuencias bajas al cero\n",
    "FFTA = fftpack.fftshift(FFTA)"
   ]
  },
  {
   "cell_type": "code",
   "execution_count": 5,
   "metadata": {},
   "outputs": [
    {
     "data": {
      "text/plain": [
       "Text(0.5,1,'Spectrum')"
      ]
     },
     "execution_count": 5,
     "metadata": {},
     "output_type": "execute_result"
    }
   ],
   "source": [
    "f, ax = plt.subplots(figsize=(5,5))\n",
    "ax.imshow(np.log(1+FFTA), cmap='viridis',\n",
    "          extent=(-N // 2, N // 2, -M // 2, M //2))\n",
    "\n",
    "\n",
    "ax.set_title('Spectrum')"
   ]
  },
  {
   "cell_type": "code",
   "execution_count": 6,
   "metadata": {},
   "outputs": [],
   "source": [
    "# Ajustar el centro del espectro a cero\n",
    "K = 40\n",
    "FFTA[M // 2 - K: M // 2 + K, N // 2 - K: N // 2 + K] = 0"
   ]
  },
  {
   "cell_type": "code",
   "execution_count": 7,
   "metadata": {},
   "outputs": [],
   "source": [
    "# Encontrar los picos en el espacio de frecuencias \n",
    "picos = FFTA < np.percentile(FFTA, 98)\n",
    "\n",
    "# Alinear picos con el espectro original\n",
    "\n",
    "picos = fftpack.ifftshift(picos)"
   ]
  },
  {
   "cell_type": "code",
   "execution_count": 8,
   "metadata": {},
   "outputs": [],
   "source": [
    "# Vamos a hacer una copia de la transformada de Fourier\n",
    "FFTCopy = FFT.copy()\n",
    "\n",
    "# Ajustar picos a cero\n",
    "\n",
    "FFTCopy = FFTCopy * picos.astype(int)"
   ]
  },
  {
   "cell_type": "code",
   "execution_count": 9,
   "metadata": {},
   "outputs": [
    {
     "data": {
      "text/plain": [
       "Text(0.5,1,'Spectrum despues de la supresion')"
      ]
     },
     "execution_count": 9,
     "metadata": {},
     "output_type": "execute_result"
    }
   ],
   "source": [
    "f, ax = plt.subplots(figsize=(5,5))\n",
    "ax.imshow(np.log10(1.+ np.abs(FFTCopy)), cmap='viridis')\n",
    "ax.set_title('Spectrum despues de la supresion')"
   ]
  },
  {
   "cell_type": "code",
   "execution_count": 10,
   "metadata": {},
   "outputs": [],
   "source": [
    "# Encontra la nueva imagen filtrada. \n",
    "image_filtrada = np.real( fftpack.ifft2(FFTCopy) )"
   ]
  },
  {
   "cell_type": "code",
   "execution_count": 11,
   "metadata": {},
   "outputs": [
    {
     "data": {
      "text/plain": [
       "Text(0.5,1,'Imagen_Filtrada')"
      ]
     },
     "execution_count": 11,
     "metadata": {},
     "output_type": "execute_result"
    }
   ],
   "source": [
    "f, ax = plt.subplots(figsize=(5,5))\n",
    "ax.imshow(image_filtrada)\n",
    "ax.set_title('Imagen_Filtrada')"
   ]
  },
  {
   "cell_type": "markdown",
   "metadata": {},
   "source": [
    "# References\n",
    "\n",
    "https://www.oreilly.com/library/view/elegant-scipy/9781491922927/ch04.html"
   ]
  },
  {
   "cell_type": "markdown",
   "metadata": {},
   "source": [
    "# Bordes.\n",
    "\n",
    "Lugares de la imagen donde hay un cambio brusco de la intensidad.\n",
    "\n",
    "$$ dI(x,y) = \\sqrt{ \\bigg(\\frac{dI(x,y)}{dx}\\bigg)^{2} + \\bigg(\\frac{dI(x,y)}{dx}\\bigg)^{2} }  $$"
   ]
  },
  {
   "cell_type": "code",
   "execution_count": 12,
   "metadata": {},
   "outputs": [],
   "source": [
    "# !pip install opencv-python"
   ]
  },
  {
   "cell_type": "code",
   "execution_count": 13,
   "metadata": {},
   "outputs": [
    {
     "data": {
      "text/plain": [
       "<matplotlib.image.AxesImage at 0x7fb95c2a3a10>"
      ]
     },
     "execution_count": 13,
     "metadata": {},
     "output_type": "execute_result"
    }
   ],
   "source": [
    "image = cv2.imread('images/car.png')\n",
    "f, ax = plt.subplots(figsize=(4,4))\n",
    "ax.imshow(image)"
   ]
  },
  {
   "cell_type": "code",
   "execution_count": 14,
   "metadata": {},
   "outputs": [],
   "source": [
    "# Redimensionar a imagen cuadrada\n",
    "\n",
    "Nx, Ny = 512,512\n",
    "image = cv2.resize(image, (Nx,Ny))\n",
    "cv2.imshow('ImagenOriginal',image)\n",
    "# Pasar a escala de grises\n",
    "image = cv2.cvtColor(image,cv2.COLOR_RGB2GRAY)"
   ]
  },
  {
   "cell_type": "code",
   "execution_count": 15,
   "metadata": {},
   "outputs": [],
   "source": [
    "kernel1=np.array([-0.5,0,0.5])\n",
    "kernel2=np.array([[-0.5],[0],[0.5]])\n",
    "\n",
    "# Filtros de Sobel\n",
    "Hsx=np.array([[-1,0,1],[-2,0,2],[-1,0,1]])\n",
    "Hsy=np.transpose(Hsx)\n",
    "\n",
    "bordex = cv2.filter2D(image, -1, kernel1)\n",
    "bordey = cv2.filter2D(image, -1, kernel2)\n",
    "\n",
    "\n",
    "# Calcular la Magnitud\n",
    "\n",
    "Mxy = np.sqrt(bordex**2 + bordey**2)\n",
    "\n",
    "# Normalizacion a 1\n",
    "Mxy = Mxy/np.max(Mxy)\n",
    "\n",
    "# Aplicar el filtro, retorna color blanco si se cumple la condicion\n",
    "mask = np.where(Mxy>0.1,255,0)\n",
    "mask = np.uint8(mask)\n",
    "cv2.imshow('Border',mask)"
   ]
  },
  {
   "cell_type": "code",
   "execution_count": null,
   "metadata": {},
   "outputs": [],
   "source": [
    "video = cv2.VideoCapture(0)\n",
    "\n",
    "while True:\n",
    "    # Lectura de imagenes\n",
    "    ret, frame1 = video.read()\n",
    "    frame = cv2.cvtColor(frame1,cv2.COLOR_RGB2GRAY)\n",
    "    \n",
    "    # Conversion de entero a flotante\n",
    "    frame_float = frame.astype(float)\n",
    "    \n",
    "    # Kernel De Sobel\n",
    "    Hsx=np.array([[-1,0,1],[-2,0,2],[-1,0,1]])\n",
    "    Hsy=np.transpose(Hsx)\n",
    "    \n",
    "    bordex = cv2.filter2D(frame_float,-1,Hsx)\n",
    "    bordey = cv2.filter2D(frame_float,-1,Hsy)\n",
    "    \n",
    "    # Calcular la magnitud\n",
    "    Mxy = np.sqrt(bordex**2+bordey**2)\n",
    "    \n",
    "    # Normalizacion a 1\n",
    "    Mxy = Mxy/np.max(Mxy)\n",
    "    \n",
    "    # Segmentacion retorna blanco si es verdadero\n",
    "    mask = np.where(Mxy>0.2,255,0)\n",
    "    mask = np.uint8(mask)\n",
    "    \n",
    "    cv2.imshow('Border',mask)\n",
    "    \n",
    "    k=cv2.waitKey(1)&0xFF\n",
    "    if(k==ord('p')):\n",
    "        print('Exit')\n",
    "        break\n",
    "\n",
    "video.release()\n",
    "cv2.destroyAllWindows()\n",
    "    "
   ]
  },
  {
   "cell_type": "code",
   "execution_count": null,
   "metadata": {},
   "outputs": [],
   "source": []
  }
 ],
 "metadata": {
  "kernelspec": {
   "display_name": "Python 3",
   "language": "python",
   "name": "python3"
  },
  "language_info": {
   "codemirror_mode": {
    "name": "ipython",
    "version": 2
   },
   "file_extension": ".py",
   "mimetype": "text/x-python",
   "name": "python",
   "nbconvert_exporter": "python",
   "pygments_lexer": "ipython2",
   "version": "2.7.16"
  }
 },
 "nbformat": 4,
 "nbformat_minor": 2
}
