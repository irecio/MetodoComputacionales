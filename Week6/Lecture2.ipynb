{
 "cells": [
  {
   "cell_type": "code",
   "execution_count": 1,
   "metadata": {},
   "outputs": [],
   "source": [
    "import numpy as np\n",
    "import matplotlib.pyplot as plt\n",
    "from numpy.fft import fft, ifft, fftfreq\n",
    "\n",
    "from scipy.io.wavfile import write, read"
   ]
  },
  {
   "cell_type": "code",
   "execution_count": 2,
   "metadata": {},
   "outputs": [
    {
     "data": {
      "text/html": [
       "\n",
       "        <iframe\n",
       "            width=\"550\"\n",
       "            height=\"400\"\n",
       "            src=\"Lectures/FFT.pdf\"\n",
       "            frameborder=\"0\"\n",
       "            allowfullscreen\n",
       "        ></iframe>\n",
       "        "
      ],
      "text/plain": [
       "<IPython.lib.display.IFrame at 0x7fe8fca84650>"
      ]
     },
     "execution_count": 2,
     "metadata": {},
     "output_type": "execute_result"
    }
   ],
   "source": [
    "from IPython.display import IFrame, display\n",
    "file = 'Lectures/FFT.pdf'\n",
    "IFrame(file, width=550, height=400)"
   ]
  },
  {
   "cell_type": "code",
   "execution_count": 3,
   "metadata": {},
   "outputs": [],
   "source": [
    "#Definimos frecuencia\n",
    "f = 1\n",
    "fs = 6 # Medidas por segundos"
   ]
  },
  {
   "cell_type": "code",
   "execution_count": 4,
   "metadata": {},
   "outputs": [],
   "source": [
    "# Vamos crear nuestra serie de tiempo\n",
    "\n",
    "t = np.linspace(0.,1., 2*fs, endpoint=False)\n",
    "\n",
    "# Tomemos una señal periodica\n",
    "\n",
    "x = np.cos(2.*np.pi*f*t)\n",
    "\n",
    "# Tomemos una no peridica\n",
    "\n",
    "x1 = np.sin( np.sqrt(t) )"
   ]
  },
  {
   "cell_type": "code",
   "execution_count": 5,
   "metadata": {},
   "outputs": [
    {
     "data": {
      "text/plain": [
       "Text(0,0.5,'$tiempo[s]$')"
      ]
     },
     "execution_count": 5,
     "metadata": {},
     "output_type": "execute_result"
    },
    {
     "data": {
      "image/png": "[encoded data removed]",
      "text/plain": [
       "<Figure size 432x288 with 1 Axes>"
      ]
     },
     "metadata": {
      "needs_background": "light"
     },
     "output_type": "display_data"
    }
   ],
   "source": [
    "plt.figure()\n",
    "plt.scatter(t,x, c='black')\n",
    "plt.scatter(t,x1, c='blue')\n",
    "plt.grid()\n",
    "plt.xlim(0,1.4)\n",
    "plt.xlabel(r'$Amplitud$')\n",
    "plt.ylabel(r'$tiempo[s]$')"
   ]
  },
  {
   "cell_type": "code",
   "execution_count": 12,
   "metadata": {},
   "outputs": [],
   "source": [
    "def GetFFT(x):\n",
    "    \n",
    "    Npoints = len(x)\n",
    "    c = (2.0*np.pi)/len(x)\n",
    "    \n",
    "    fft = []\n",
    "    \n",
    "    \n",
    "    for k in range(Npoints):\n",
    "           \n",
    "        Re = 0.\n",
    "        Im = 0.\n",
    "        \n",
    "        for n in range(Npoints):\n",
    "            \n",
    "            Re += x[n]*np.cos( c*k*n )\n",
    "            Im -= x[n]*np.sin( c*k*n )\n",
    "    \n",
    "        fft = np.append(fft, complex(Re, Im))\n",
    "    \n",
    "    return fft     "
   ]
  },
  {
   "cell_type": "code",
   "execution_count": 9,
   "metadata": {},
   "outputs": [
    {
     "name": "stdout",
     "output_type": "stream",
     "text": [
      "[ 6.74927923+0.00000000e+00j -0.85805865+1.09374894e+00j\n",
      " -0.62514174+5.66638142e-01j -0.56334478+3.40744526e-01j\n",
      " -0.53840593+2.00630362e-01j -0.5275074 +9.39989177e-02j\n",
      " -0.52436225-3.49359854e-15j -0.5275074 -9.39989177e-02j\n",
      " -0.53840593-2.00630362e-01j -0.56334478-3.40744526e-01j\n",
      " -0.62514174-5.66638142e-01j -0.85805865-1.09374894e+00j]\n"
     ]
    }
   ],
   "source": [
    "Xw = GetFFT(x1)\n",
    "print(Xw)"
   ]
  },
  {
   "cell_type": "markdown",
   "metadata": {},
   "source": [
    "# FFT de numpy"
   ]
  },
  {
   "cell_type": "code",
   "execution_count": 11,
   "metadata": {},
   "outputs": [
    {
     "name": "stdout",
     "output_type": "stream",
     "text": [
      "[ 6.74927923+0.j         -0.85805865+1.09374894j -0.62514174+0.56663814j\n",
      " -0.56334478+0.34074453j -0.53840593+0.20063036j -0.5275074 +0.09399892j\n",
      " -0.52436225+0.j         -0.5275074 -0.09399892j -0.53840593-0.20063036j\n",
      " -0.56334478-0.34074453j -0.62514174-0.56663814j -0.85805865-1.09374894j]\n"
     ]
    }
   ],
   "source": [
    "Xw1 = fft(x1)\n",
    "print(Xw1)"
   ]
  },
  {
   "cell_type": "code",
   "execution_count": null,
   "metadata": {},
   "outputs": [],
   "source": []
  }
 ],
 "metadata": {
  "kernelspec": {
   "display_name": "Python 3",
   "language": "python",
   "name": "python3"
  },
  "language_info": {
   "codemirror_mode": {
    "name": "ipython",
    "version": 2
   },
   "file_extension": ".py",
   "mimetype": "text/x-python",
   "name": "python",
   "nbconvert_exporter": "python",
   "pygments_lexer": "ipython2",
   "version": "2.7.16"
  }
 },
 "nbformat": 4,
 "nbformat_minor": 2
}
