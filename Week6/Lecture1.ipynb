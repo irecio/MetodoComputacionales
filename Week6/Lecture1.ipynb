{
 "cells": [
  {
   "cell_type": "code",
   "execution_count": 1,
   "metadata": {},
   "outputs": [],
   "source": [
    "# pylab\n",
    "import numpy as np\n",
    "import matplotlib.pyplot as plt\n",
    "import scipy as sp\n",
    "from scipy import integrate"
   ]
  },
  {
   "cell_type": "code",
   "execution_count": 2,
   "metadata": {},
   "outputs": [
    {
     "data": {
      "text/html": [
       "\n",
       "        <iframe\n",
       "            width=\"550\"\n",
       "            height=\"400\"\n",
       "            src=\"Lectures/SeriesFourier.pdf\"\n",
       "            frameborder=\"0\"\n",
       "            allowfullscreen\n",
       "        ></iframe>\n",
       "        "
      ],
      "text/plain": [
       "<IPython.lib.display.IFrame at 0x7f1112c74c50>"
      ]
     },
     "execution_count": 2,
     "metadata": {},
     "output_type": "execute_result"
    }
   ],
   "source": [
    "from IPython.display import IFrame, display\n",
    "file = 'Lectures/SeriesFourier.pdf'\n",
    "IFrame(file, width=550, height=400)"
   ]
  },
  {
   "cell_type": "markdown",
   "metadata": {},
   "source": [
    "# Series de Fourier\n",
    "\n",
    "$$ f(t) \\approx \\frac{a_{0}}{2} + \\sum_{n=1}^{\\infty} [  a_{n} cos(\\frac{2\\pi n}{T}t) + b_{n} sin( \\frac{2\\pi n}{T} t)  ]  $$ \n",
    "\n",
    "donde $a_{0}$, $a_{n}$ y $b_{n}$ son los coeficientes de fourier \n",
    "\n",
    "$a_{0} = \\frac{2}{T} \\int_{-T/2}^{T/2} f(t)dt $,   $a_{n} = \\frac{2}{T} \\int_{-T/2}^{T/2} f(t)cos(\\frac{2\\pi n}{T}t) dt $ y   $b_{n} = \\frac{2}{T} \\int_{-T/2}^{T/2} f(t)sin(\\frac{2\\pi n}{T}t) dt $"
   ]
  },
  {
   "cell_type": "markdown",
   "metadata": {},
   "source": [
    "## Hagamos un par de ejemplos usando integrate "
   ]
  },
  {
   "cell_type": "markdown",
   "metadata": {},
   "source": [
    "$$ y(t)=t,  \\ -1 < t < 1  $$\n",
    "\n",
    "$$ y(t) = \\left\\{ \\begin{array}{cc}\n",
    "1 & -1 < t < 0 \\\\\n",
    "0 &  0 < t < 1 \\\\\n",
    "\\end{array}\n",
    "\\right.\n",
    "$$"
   ]
  },
  {
   "cell_type": "code",
   "execution_count": 3,
   "metadata": {},
   "outputs": [],
   "source": [
    "# definimos f(t)\n",
    "def f(t):\n",
    "   # return t\n",
    "    return np.piecewise( t, [t<0, t>=0], [lambda t:1, lambda t: 0] )  "
   ]
  },
  {
   "cell_type": "code",
   "execution_count": 4,
   "metadata": {},
   "outputs": [],
   "source": [
    "def GetFourier(t, T, N):\n",
    "    \n",
    "    y = t\n",
    "    \n",
    "    a0, error0 = integrate.quad(lambda t: f(t), -0.5*T, 0.5*T)\n",
    "    a0 *= 2./T\n",
    "    \n",
    "    y = a0\n",
    "    \n",
    "    for n in range(1,N):\n",
    "        an, erroran = integrate.quad(lambda t: f(t)*np.cos( (2*np.pi*n*t)/T ), -0.5*T, 0.5*T)\n",
    "        bn, errorbn = integrate.quad(lambda t: f(t)*np.sin( (2*np.pi*n*t)/T ), -0.5*T, 0.5*T)\n",
    "        y += an*np.cos( (2*np.pi*n*t)/T ) + bn*np.sin( (2*np.pi*n*t)/T ) \n",
    "    \n",
    "    return y"
   ]
  },
  {
   "cell_type": "code",
   "execution_count": 5,
   "metadata": {},
   "outputs": [],
   "source": [
    "t = np.arange(-3.,3.,0.01)\n",
    "y = GetFourier(t,2,50)"
   ]
  },
  {
   "cell_type": "code",
   "execution_count": 6,
   "metadata": {},
   "outputs": [
    {
     "data": {
      "text/plain": [
       "<matplotlib.collections.PathCollection at 0x7f11129557d0>"
      ]
     },
     "execution_count": 6,
     "metadata": {},
     "output_type": "execute_result"
    },
    {
     "data": {
      "image/png": "[encoded data removed]",
      "text/plain": [
       "<Figure size 432x288 with 1 Axes>"
      ]
     },
     "metadata": {
      "needs_background": "light"
     },
     "output_type": "display_data"
    }
   ],
   "source": [
    "fig = plt.figure()\n",
    "#plt.plot(t,y)\n",
    "plt.scatter(t,y, c='k', s=2)"
   ]
  },
  {
   "cell_type": "markdown",
   "metadata": {},
   "source": [
    "# Usemos pygame para visualizar geométricamente la serie."
   ]
  },
  {
   "cell_type": "code",
   "execution_count": 7,
   "metadata": {},
   "outputs": [
    {
     "name": "stdout",
     "output_type": "stream",
     "text": [
      "pygame 1.9.6\n",
      "Hello from the pygame community. https://www.pygame.org/contribute.html\n"
     ]
    }
   ],
   "source": [
    "#!pip install pygame\n",
    "import pygame, time, os"
   ]
  },
  {
   "cell_type": "code",
   "execution_count": 8,
   "metadata": {},
   "outputs": [],
   "source": [
    "os.environ['SDL_VIDEO_CENTERED']='1'"
   ]
  },
  {
   "cell_type": "code",
   "execution_count": 9,
   "metadata": {},
   "outputs": [],
   "source": [
    "# Configurar el entorno de pygame\n",
    "\n",
    "W, H = 1000,500\n",
    "fps = 60\n",
    "pygame.display.set_caption('Serie de Fourier')\n",
    "screen = pygame.display.set_mode((W,H))\n",
    "clock = pygame.time.Clock()"
   ]
  },
  {
   "cell_type": "code",
   "execution_count": 10,
   "metadata": {},
   "outputs": [
    {
     "data": {
      "text/plain": [
       "<rect(0, 0, 1000, 500)>"
      ]
     },
     "execution_count": 10,
     "metadata": {},
     "output_type": "execute_result"
    }
   ],
   "source": [
    "# Configurar Colores\n",
    "\n",
    "white = (230, 230, 230)\n",
    "black = (28, 28, 28)\n",
    "gray = (100, 100, 100)\n",
    "green = (54, 255, 141)\n",
    "gray2 = (80, 80,100)\n",
    "\n",
    "screen.fill(white)"
   ]
  },
  {
   "cell_type": "code",
   "execution_count": 14,
   "metadata": {},
   "outputs": [],
   "source": [
    "N = 1\n",
    "time = 0\n",
    "radio = 0\n",
    "Xp, Yp = 250,250\n",
    "WList = []\n",
    "offset = 300"
   ]
  },
  {
   "cell_type": "code",
   "execution_count": 17,
   "metadata": {},
   "outputs": [],
   "source": [
    "it = 7 # Numero de iteraciones\n",
    "\n",
    "# Para dibujar los ciclos tener en cuenta que el eje X\n",
    "# Son los valores no nulos de la serie\n",
    "# Los radios son los coeficientes en cada armonico"
   ]
  },
  {
   "cell_type": "code",
   "execution_count": null,
   "metadata": {},
   "outputs": [],
   "source": [
    "# Corriendo Simulacion\n",
    "\n",
    "run = True\n",
    "\n",
    "while run:\n",
    "    clock.tick(fps)\n",
    "    screen.fill(white)\n",
    "    for event in pygame.event.get():\n",
    "        if(event.type == pygame.QUIT):\n",
    "            run = False\n",
    "    x = Xp\n",
    "    y = Yp\n",
    "    \n",
    "    for i in range(it):\n",
    "        oldx = x\n",
    "        oldy = y\n",
    "        \n",
    "        omega = 1.\n",
    "        N = i*2+1 # Tomando impares\n",
    "        \n",
    "        # Aca el radio es el coeficiente de fourier\n",
    "        \n",
    "        radio = 100*(4/(N*np.pi))\n",
    "        #radio = 100*(8/(N*np.pi)**2)\n",
    "        \n",
    "        # La proyeccion en Y se pinta,\n",
    "        # La proyeccion en X es solo para los circulos\n",
    "        \n",
    "        x+= int( radio * np.cos(N*omega*time))\n",
    "        y+= int( radio * np.sin(N*omega*time))\n",
    "        \n",
    "       # x+= int( radio * np.sin(N*omega*time))\n",
    "       # y+= int( radio * np.cos(N*omega*time))\n",
    "        \n",
    "        # Dibujando los circulos\n",
    "        pygame.draw.circle(screen,gray, (oldx,oldy), int(radio), 2)\n",
    "        pygame.draw.line(screen, black, (oldx, oldy), (x,y) , 3)\n",
    "        pygame.draw.circle(screen, green, (x,y), 5)\n",
    "        \n",
    "    WList.insert(0,y)\n",
    "    if len(WList) > 1000:\n",
    "        WList.pop()\n",
    "        \n",
    "    pygame.draw.line(screen,gray, (x,y), (Xp + offset, WList[0]),3 )\n",
    "    \n",
    "    for index in range(len(WList)):\n",
    "        pygame.draw.circle(screen, gray2, (index + Xp + offset, WList[index]),3)\n",
    "    \n",
    "    time += 0.01\n",
    "    pygame.display.update()\n",
    "    \n",
    "pygame.quit()"
   ]
  },
  {
   "cell_type": "code",
   "execution_count": null,
   "metadata": {},
   "outputs": [],
   "source": []
  }
 ],
 "metadata": {
  "kernelspec": {
   "display_name": "Python 3",
   "language": "python",
   "name": "python3"
  },
  "language_info": {
   "codemirror_mode": {
    "name": "ipython",
    "version": 2
   },
   "file_extension": ".py",
   "mimetype": "text/x-python",
   "name": "python",
   "nbconvert_exporter": "python",
   "pygments_lexer": "ipython2",
   "version": "2.7.16"
  }
 },
 "nbformat": 4,
 "nbformat_minor": 2
}
