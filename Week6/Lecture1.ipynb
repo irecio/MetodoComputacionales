{
 "cells": [
  {
   "cell_type": "code",
   "execution_count": 3,
   "metadata": {},
   "outputs": [],
   "source": [
    "# pylab\n",
    "import numpy as np\n",
    "import matplotlib.pyplot as plt\n",
    "import scipy as sp\n",
    "from scipy import integrate"
   ]
  },
  {
   "cell_type": "code",
   "execution_count": 4,
   "metadata": {},
   "outputs": [
    {
     "data": {
      "text/html": [
       "\n",
       "        <iframe\n",
       "            width=\"550\"\n",
       "            height=\"400\"\n",
       "            src=\"Lectures/SeriesFourier.pdf\"\n",
       "            frameborder=\"0\"\n",
       "            allowfullscreen\n",
       "        ></iframe>\n",
       "        "
      ],
      "text/plain": [
       "<IPython.lib.display.IFrame at 0x7f96bb94fa50>"
      ]
     },
     "execution_count": 4,
     "metadata": {},
     "output_type": "execute_result"
    }
   ],
   "source": [
    "from IPython.display import IFrame, display\n",
    "file = 'Lectures/SeriesFourier.pdf'\n",
    "IFrame(file, width=550, height=400)"
   ]
  },
  {
   "cell_type": "markdown",
   "metadata": {},
   "source": [
    "# Series de Fourier\n",
    "\n",
    "$$ f(t) \\approx \\frac{a_{0}}{2} + \\sum_{n=1}^{\\infty} [  a_{n} cos(\\frac{2\\pi n}{T}t) + b_{n} sin( \\frac{2\\pi n}{T} t)  ]  $$ \n",
    "\n",
    "donde $a_{0}$, $a_{n}$ y $b_{n}$ son los coeficientes de fourier \n",
    "\n",
    "$a_{0} = \\frac{2}{T} \\int_{-T/2}^{T/2} f(t)dt $,   $a_{n} = \\frac{2}{T} \\int_{-T/2}^{T/2} f(t)cos(\\frac{2\\pi n}{T}t) dt $ y   $b_{n} = \\frac{2}{T} \\int_{-T/2}^{T/2} f(t)sin(\\frac{2\\pi n}{T}t) dt $"
   ]
  },
  {
   "cell_type": "markdown",
   "metadata": {},
   "source": [
    "## Hagamos un par de ejemplos usando integrate "
   ]
  },
  {
   "cell_type": "markdown",
   "metadata": {},
   "source": [
    "$$ y(t)=t,  \\ -1 < t < 1  $$\n",
    "\n",
    "$$ y(t) = \\left\\{ \\begin{array}{cc}\n",
    "1 & -1 < t < 0 \\\\\n",
    "0 &  0 < t < 1 \\\\\n",
    "\\end{array}\n",
    "\\right.\n",
    "$$"
   ]
  },
  {
   "cell_type": "code",
   "execution_count": 5,
   "metadata": {},
   "outputs": [],
   "source": [
    "# definimos f(t)\n",
    "def f(t):\n",
    "    return t"
   ]
  },
  {
   "cell_type": "code",
   "execution_count": 11,
   "metadata": {},
   "outputs": [],
   "source": [
    "def GetFourier(t, T, N):\n",
    "    \n",
    "    y = t\n",
    "    \n",
    "    a0, error0 = integrate.quad(lambda t: f(t), -0.5*T, 0.5*T)\n",
    "    a0 *= 2./T\n",
    "    \n",
    "    y = a0\n",
    "    \n",
    "    for n in range(1,N):\n",
    "        an, erroran = integrate.quad(lambda t: f(t)*np.cos( (2*np.pi*n*t)/T ), -0.5*T, 0.5*T)\n",
    "        bn, errorbn = integrate.quad(lambda t: f(t)*np.sin( (2*np.pi*n*t)/T ), -0.5*T, 0.5*T)\n",
    "        y += an*np.cos( (2*np.pi*n*t)/T ) + bn*np.sin( (2*np.pi*n*t)/T ) \n",
    "    \n",
    "    return y"
   ]
  },
  {
   "cell_type": "code",
   "execution_count": 14,
   "metadata": {},
   "outputs": [],
   "source": [
    "t = np.arange(-3.,3.,0.01)\n",
    "y = GetFourier(t,2,50)"
   ]
  },
  {
   "cell_type": "code",
   "execution_count": 16,
   "metadata": {},
   "outputs": [
    {
     "data": {
      "text/plain": [
       "<matplotlib.collections.PathCollection at 0x7f96bb4ba390>"
      ]
     },
     "execution_count": 16,
     "metadata": {},
     "output_type": "execute_result"
    },
    {
     "data": {
      "image/png": "[encoded data removed]",
      "text/plain": [
       "<Figure size 432x288 with 1 Axes>"
      ]
     },
     "metadata": {
      "needs_background": "light"
     },
     "output_type": "display_data"
    }
   ],
   "source": [
    "fig = plt.figure()\n",
    "#plt.plot(t,y)\n",
    "plt.scatter(t,y)"
   ]
  },
  {
   "cell_type": "code",
   "execution_count": null,
   "metadata": {},
   "outputs": [],
   "source": []
  }
 ],
 "metadata": {
  "kernelspec": {
   "display_name": "Python 3",
   "language": "python",
   "name": "python3"
  },
  "language_info": {
   "codemirror_mode": {
    "name": "ipython",
    "version": 2
   },
   "file_extension": ".py",
   "mimetype": "text/x-python",
   "name": "python",
   "nbconvert_exporter": "python",
   "pygments_lexer": "ipython2",
   "version": "2.7.16"
  }
 },
 "nbformat": 4,
 "nbformat_minor": 2
}
