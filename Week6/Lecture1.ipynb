{
 "cells": [
  {
   "cell_type": "code",
   "execution_count": 3,
   "metadata": {},
   "outputs": [],
   "source": [
    "# pylab\n",
    "import numpy as np\n",
    "import matplotlib.pyplot as plt\n",
    "import scipy as sp\n",
    "from scipy import integrate"
   ]
  },
  {
   "cell_type": "code",
   "execution_count": 4,
   "metadata": {},
   "outputs": [
    {
     "data": {
      "text/html": [
       "\n",
       "        <iframe\n",
       "            width=\"550\"\n",
       "            height=\"400\"\n",
       "            src=\"Lectures/SeriesFourier.pdf\"\n",
       "            frameborder=\"0\"\n",
       "            allowfullscreen\n",
       "        ></iframe>\n",
       "        "
      ],
      "text/plain": [
       "<IPython.lib.display.IFrame at 0x7f96bb94fa50>"
      ]
     },
     "execution_count": 4,
     "metadata": {},
     "output_type": "execute_result"
    }
   ],
   "source": [
    "from IPython.display import IFrame, display\n",
    "file = 'Lectures/SeriesFourier.pdf'\n",
    "IFrame(file, width=550, height=400)"
   ]
  },
  {
   "cell_type": "markdown",
   "metadata": {},
   "source": [
    "# Series de Fourier\n",
    "\n",
    "$$ f(t) \\approx \\frac{a_{0}}{2} + \\sum_{n=1}^{\\infty} [  a_{n} cos(\\frac{2\\pi n}{T}t) + b_{n} sin( \\frac{2\\pi n}{T} t)  ]  $$ \n",
    "\n",
    "donde $a_{0}$, $a_{n}$ y $b_{n}$ son los coeficientes de fourier \n",
    "\n",
    "$a_{0} = \\frac{2}{T} \\int_{-T/2}^{T/2} f(t)dt $,   $a_{n} = \\frac{2}{T} \\int_{-T/2}^{T/2} f(t)cos(\\frac{2\\pi n}{T}t) dt $ y   $b_{n} = \\frac{2}{T} \\int_{-T/2}^{T/2} f(t)sin(\\frac{2\\pi n}{T}t) dt $"
   ]
  },
  {
   "cell_type": "markdown",
   "metadata": {},
   "source": [
    "## Hagamos un par de ejemplos usando integrate "
   ]
  },
  {
   "cell_type": "markdown",
   "metadata": {},
   "source": [
    "$$ y(t)=t,  \\ -1 < t < 1  $$\n",
    "\n",
    "$$ y(t) = \\left\\{ \\begin{array}{cc}\n",
    "1 & -1 < t < 0 \\\\\n",
    "0 &  0 < t < 1 \\\\\n",
    "\\end{array}\n",
    "\\right.\n",
    "$$"
   ]
  },
  {
   "cell_type": "code",
   "execution_count": null,
   "metadata": {},
   "outputs": [],
   "source": []
  }
 ],
 "metadata": {
  "kernelspec": {
   "display_name": "Python 3",
   "language": "python",
   "name": "python3"
  },
  "language_info": {
   "codemirror_mode": {
    "name": "ipython",
    "version": 2
   },
   "file_extension": ".py",
   "mimetype": "text/x-python",
   "name": "python",
   "nbconvert_exporter": "python",
   "pygments_lexer": "ipython2",
   "version": "2.7.16"
  }
 },
 "nbformat": 4,
 "nbformat_minor": 2
}
