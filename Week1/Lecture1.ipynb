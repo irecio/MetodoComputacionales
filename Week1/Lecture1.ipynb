{
 "cells": [
  {
   "cell_type": "code",
   "execution_count": 10,
   "metadata": {},
   "outputs": [],
   "source": [
    "import numpy             as np\n",
    "import matplotlib.pyplot as plt\n",
    "import matplotlib.mlab   as mlab"
   ]
  },
  {
   "cell_type": "code",
   "execution_count": 11,
   "metadata": {},
   "outputs": [
    {
     "name": "stdout",
     "output_type": "stream",
     "text": [
      "[3.15, 2.35, 6.89, 4.52, 3.32]\n"
     ]
    }
   ],
   "source": [
    "# Listas\n",
    "\n",
    "mylista = [3.15,2.35,6.89,4.52,3.32]\n",
    "print(mylista)"
   ]
  },
  {
   "cell_type": "code",
   "execution_count": 3,
   "metadata": {},
   "outputs": [
    {
     "name": "stdout",
     "output_type": "stream",
     "text": [
      "(2.35, 3.32, 6.89, [3.15, 2.35, 6.89, 4.52, 3.32])\n"
     ]
    }
   ],
   "source": [
    "print(mylista[1], mylista[-1], mylista[-3], mylista[:])"
   ]
  },
  {
   "cell_type": "code",
   "execution_count": 16,
   "metadata": {},
   "outputs": [
    {
     "name": "stdout",
     "output_type": "stream",
     "text": [
      "([3.15, 2.35], [3.15, 2.35])\n"
     ]
    }
   ],
   "source": [
    "print(mylista[0:2], mylista[:2])"
   ]
  },
  {
   "cell_type": "code",
   "execution_count": 14,
   "metadata": {},
   "outputs": [
    {
     "name": "stdout",
     "output_type": "stream",
     "text": [
      "([6.89, 4.52, 3.32], [3.15, 2.35])\n"
     ]
    }
   ],
   "source": [
    "print(mylista[2:], mylista[:2])"
   ]
  },
  {
   "cell_type": "code",
   "execution_count": 15,
   "metadata": {},
   "outputs": [
    {
     "name": "stdout",
     "output_type": "stream",
     "text": [
      "[3.15, 2.35, 5.693, 6.89, 4.52, 3.32]\n"
     ]
    }
   ],
   "source": [
    "mylista.insert(2, 5.693)\n",
    "print(mylista)"
   ]
  },
  {
   "cell_type": "code",
   "execution_count": 18,
   "metadata": {},
   "outputs": [
    {
     "data": {
      "text/plain": [
       "2"
      ]
     },
     "execution_count": 18,
     "metadata": {},
     "output_type": "execute_result"
    }
   ],
   "source": [
    "mylista.index(5.693)"
   ]
  },
  {
   "cell_type": "code",
   "execution_count": 19,
   "metadata": {},
   "outputs": [],
   "source": [
    "file = 'data/lectura1.dat'\n",
    "data = np.loadtxt(file, comments='#')"
   ]
  },
  {
   "cell_type": "code",
   "execution_count": 20,
   "metadata": {},
   "outputs": [
    {
     "name": "stdout",
     "output_type": "stream",
     "text": [
      "[[  1.    1.    0.9]\n",
      " [  2.    2.2   7.8]\n",
      " [  3.    2.5  27.5]\n",
      " [  4.    4.4  67. ]\n",
      " [  5.    6.  130. ]]\n"
     ]
    }
   ],
   "source": [
    "print(data)"
   ]
  },
  {
   "cell_type": "code",
   "execution_count": 21,
   "metadata": {},
   "outputs": [
    {
     "name": "stdout",
     "output_type": "stream",
     "text": [
      "[1. 2. 3. 4. 5.]\n"
     ]
    }
   ],
   "source": [
    "tiempo = data[:,0]\n",
    "x = data[:,1]\n",
    "y = data[:,2]\n",
    "print(tiempo)"
   ]
  },
  {
   "cell_type": "code",
   "execution_count": 22,
   "metadata": {},
   "outputs": [
    {
     "data": {
      "image/png": "[encoded data removed]",
      "text/plain": [
       "<Figure size 432x288 with 1 Axes>"
      ]
     },
     "metadata": {
      "needs_background": "light"
     },
     "output_type": "display_data"
    }
   ],
   "source": [
    "plt.plot(tiempo,y,'ro', label='Cinematica')\n",
    "#plt.axis([0,6,0,6])\n",
    "\n",
    "plt.title(\"Posicion vs tiempo\")\n",
    "plt.xlabel('tiempo[s]')\n",
    "plt.ylabel('x[m]')\n",
    "plt.grid()\n",
    "plt.legend()\n",
    "\n",
    "plt.savefig('Fig1.pdf')\n",
    "plt.show()"
   ]
  },
  {
   "cell_type": "code",
   "execution_count": 23,
   "metadata": {},
   "outputs": [
    {
     "data": {
      "image/png": "[encoded data removed]",
      "text/plain": [
       "<Figure size 432x288 with 1 Axes>"
      ]
     },
     "metadata": {
      "needs_background": "light"
     },
     "output_type": "display_data"
    }
   ],
   "source": [
    "fig, ax = plt.subplots()\n",
    "p1 = ax.plot(tiempo, x, 'ro', linewidth=2, label='x vs t')\n",
    "p2 = ax.plot(tiempo, y, 'bo', linewidth=2, label='y vs t')\n",
    "ax.set(xlabel = 'tiempo[s]', ylabel = 'Posicion[m]', title='Posicion vs Tiempo')\n",
    "ax.grid()\n",
    "ax.legend()\n",
    "\n",
    "#plt.xlim(0.,6.)\n",
    "#plt.ylim(0.,150.)\n",
    "\n",
    "\n",
    "plt.show()\n",
    "fig.savefig('Fig2.pdf')"
   ]
  },
  {
   "cell_type": "code",
   "execution_count": 24,
   "metadata": {},
   "outputs": [],
   "source": [
    "def Funcion(t, N0_, alpha_):\n",
    "    return N0_*np.exp(-t*alpha_)"
   ]
  },
  {
   "cell_type": "code",
   "execution_count": 25,
   "metadata": {},
   "outputs": [],
   "source": [
    "N0 = 1000.\n",
    "alpha = 0.8\n",
    "# Rango de la variable independiente\n",
    "t = np.linspace(0.1,2.,100)\n",
    "#print(t)"
   ]
  },
  {
   "cell_type": "code",
   "execution_count": 26,
   "metadata": {},
   "outputs": [],
   "source": [
    "# valores de la funcion para los numeros en el rango de t\n",
    "y = np.zeros(len(t))\n",
    "for i in range(len(t)):\n",
    "        y[i] = Funcion(t[i], N0, alpha)"
   ]
  },
  {
   "cell_type": "code",
   "execution_count": 27,
   "metadata": {},
   "outputs": [
    {
     "data": {
      "image/png": "[encoded data removed]",
      "text/plain": [
       "<Figure size 432x288 with 1 Axes>"
      ]
     },
     "metadata": {
      "needs_background": "light"
     },
     "output_type": "display_data"
    }
   ],
   "source": [
    "fig, ax = plt.subplots()\n",
    "p1 = ax.plot(t, y, 'b', linewidth=1, label='')\n",
    "p2 = ax.plot(np.log(2)/alpha, 0.5*N0, 'ro', linewidth=1, label='mean life time')\n",
    "    \n",
    "ax.set(xlabel = 'tiempo[s]', \n",
    "       ylabel = 'N(t)', \n",
    "       title ='$\\mathrm{Nuclear \\ Decay:} \\ N_{0}=%.0f, \\ \\lambda=%.2f $' %(N0, alpha))\n",
    "\n",
    "ax.grid()\n",
    "ax.legend()\n",
    "plt.savefig('Fig3.pdf')"
   ]
  },
  {
   "cell_type": "code",
   "execution_count": 28,
   "metadata": {},
   "outputs": [],
   "source": [
    "filenames = []\n",
    "mean_ = []"
   ]
  },
  {
   "cell_type": "code",
   "execution_count": 29,
   "metadata": {},
   "outputs": [],
   "source": [
    "def createFig(alpha_, it):\n",
    "    \n",
    "    t = np.linspace(0.01, 10.,50) \n",
    "    y = np.zeros(len(t))\n",
    "    \n",
    "    for i in range(len(t)):\n",
    "        y[i] = Funcion(t[i], N0, alpha_)\n",
    "    \n",
    "    mean = np.log(2)/alpha_\n",
    "    mean_.append(mean)\n",
    "    \n",
    "    fig, ax = plt.subplots()\n",
    "    p1 = ax.plot(t, y, 'b', linewidth=1, label='')\n",
    "    p2 = ax.plot(mean, 0.5*N0, 'ro', linewidth=1, label='mean life time')\n",
    "    \n",
    "    ax.set(xlabel = 'tiempo[s]', \n",
    "           ylabel = 'N(t)', \n",
    "           title ='$\\mathrm{Nuclear \\ Decay: %.0f} \\ N_{0}=%.0f, \\ \\lambda=%.2f \\ \\mu=%.3f$' %(it, N0, alpha_, mean))\n",
    "    ax.grid()\n",
    "    ax.legend()\n",
    "\n",
    "    ##plt.show()\n",
    "    filename = \"Figures/%02d\"%it + \".png\"\n",
    "    filenames.append(filename)\n",
    "    plt.savefig(filename)\n",
    "    plt.close()"
   ]
  },
  {
   "cell_type": "code",
   "execution_count": 30,
   "metadata": {},
   "outputs": [
    {
     "name": "stdout",
     "output_type": "stream",
     "text": [
      "[0.1        0.10909091 0.11818182 0.12727273 0.13636364 0.14545455\n",
      " 0.15454545 0.16363636 0.17272727 0.18181818 0.19090909 0.2\n",
      " 0.20909091 0.21818182 0.22727273 0.23636364 0.24545455 0.25454545\n",
      " 0.26363636 0.27272727 0.28181818 0.29090909 0.3        0.30909091\n",
      " 0.31818182 0.32727273 0.33636364 0.34545455 0.35454545 0.36363636\n",
      " 0.37272727 0.38181818 0.39090909 0.4        0.40909091 0.41818182\n",
      " 0.42727273 0.43636364 0.44545455 0.45454545 0.46363636 0.47272727\n",
      " 0.48181818 0.49090909 0.5        0.50909091 0.51818182 0.52727273\n",
      " 0.53636364 0.54545455 0.55454545 0.56363636 0.57272727 0.58181818\n",
      " 0.59090909 0.6        0.60909091 0.61818182 0.62727273 0.63636364\n",
      " 0.64545455 0.65454545 0.66363636 0.67272727 0.68181818 0.69090909\n",
      " 0.7        0.70909091 0.71818182 0.72727273 0.73636364 0.74545455\n",
      " 0.75454545 0.76363636 0.77272727 0.78181818 0.79090909 0.8\n",
      " 0.80909091 0.81818182 0.82727273 0.83636364 0.84545455 0.85454545\n",
      " 0.86363636 0.87272727 0.88181818 0.89090909 0.9        0.90909091\n",
      " 0.91818182 0.92727273 0.93636364 0.94545455 0.95454545 0.96363636\n",
      " 0.97272727 0.98181818 0.99090909 1.        ]\n"
     ]
    }
   ],
   "source": [
    "alphatest = np.linspace(0.1,1.0,100)\n",
    "print(alphatest)\n",
    "\n",
    "num_fig = 0\n",
    "for i in alphatest:\n",
    "    createFig(i, num_fig)\n",
    "    num_fig += 1"
   ]
  },
  {
   "cell_type": "code",
   "execution_count": 31,
   "metadata": {},
   "outputs": [],
   "source": [
    "!convert Figures/* -loop 0 -delay 20 decay.gif "
   ]
  },
  {
   "cell_type": "code",
   "execution_count": 32,
   "metadata": {},
   "outputs": [
    {
     "name": "stdout",
     "output_type": "stream",
     "text": [
      "[6.931471805599452, 6.353849155132831, 5.865091527814921, 5.446156418685284, 5.083079324106266, 4.765386866349624, 4.485069991858469, 4.235899436755221, 4.012957361136525, 3.812309493079699, 3.6307709457901893, 3.465735902799726, 3.3150517331127816, 3.1769245775664157, 3.0498475944637593, 2.932545763907461, 2.823932957836814, 2.7230782093426424, 2.62917896074462, 2.541539662053133, 2.459554511664322, 2.382693433174812, 2.3104906018664844, 2.2425349959292347, 2.1784625674741136, 2.1179497183776106, 2.0607078340971348, 2.0064786805682626, 1.955030509271641, 1.9061547465398494, 1.859663167355951, 1.8153854728950947, 1.773167206083581, 1.732867951399863, 1.6943597747020887, 1.6575258665563908, 1.6222593587573189, 1.5884622887832078, 1.5560446910529384, 1.5249237972318794, 1.4950233306194898, 1.4662728819537305, 1.4386073558791317, 1.4119664789184072, 1.3862943611198906, 1.3615391046713212, 1.337652453712175, 1.3145894803723102, 1.292308302738881, 1.2707698310265665, 1.2499375387146554, 1.2297772558321611, 1.210256981930063, 1.191346716587406, 1.1730183055629844, 1.1552453009332422, 1.1380028337551342, 1.1212674979646173, 1.1050172443709274, 1.0892312837370568, 1.0738899980506196, 1.0589748591888053, 1.0444683542684108, 1.0303539170485674, 1.016615864821253, 1.0032393402841315, 0.9902102579427791, 0.9775152546358205, 0.9651416438176453, 0.9530773732699249, 0.9413109859456048, 0.9298315836779755, 0.9186287935131805, 0.9076927364475474, 0.8970139983716939, 0.8865836030417905, 0.8763929869148733, 0.8664339756999316, 0.85669876248982, 0.8471798873510443, 0.8378702182592745, 0.8287629332781955, 0.8198515038881075, 0.8111296793786594, 0.8025914722273052, 0.794231144391604, 0.7860431944494226, 0.7780223455264692, 0.7701635339554949, 0.7624618986159398, 0.7549127709068711, 0.7475116653097449, 0.7402542705009125, 0.7331364409768653, 0.726154189158038, 0.7193036779395658, 0.7125812136597569, 0.7059832394592036, 0.6995063290054494, 0.6931471805599453]\n"
     ]
    }
   ],
   "source": [
    "print(mean_)"
   ]
  },
  {
   "cell_type": "code",
   "execution_count": 33,
   "metadata": {},
   "outputs": [],
   "source": [
    "tmp = []\n",
    "\n",
    "for i in range(len(mean_)):\n",
    "    tmp.append([alphatest[i], mean_[i]])\n",
    "\n",
    "Atowrite = np.array(tmp)\n",
    "np.savetxt('final.dat', Atowrite, \n",
    "           fmt='%.10e', \n",
    "           delimiter=' ', \n",
    "           newline='\\n' )"
   ]
  },
  {
   "cell_type": "code",
   "execution_count": null,
   "metadata": {},
   "outputs": [],
   "source": []
  }
 ],
 "metadata": {
  "kernelspec": {
   "display_name": "Python 3",
   "language": "python",
   "name": "python3"
  },
  "language_info": {
   "codemirror_mode": {
    "name": "ipython",
    "version": 2
   },
   "file_extension": ".py",
   "mimetype": "text/x-python",
   "name": "python",
   "nbconvert_exporter": "python",
   "pygments_lexer": "ipython2",
   "version": "2.7.16"
  }
 },
 "nbformat": 4,
 "nbformat_minor": 2
}
