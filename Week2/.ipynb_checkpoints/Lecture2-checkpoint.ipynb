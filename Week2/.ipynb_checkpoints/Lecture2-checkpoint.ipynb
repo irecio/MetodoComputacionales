{
 "cells": [
  {
   "cell_type": "code",
   "execution_count": 1,
   "metadata": {},
   "outputs": [],
   "source": [
    "import numpy             as np\n",
    "import matplotlib.pyplot as plt\n",
    "from matplotlib          import rc \n",
    "from scipy.optimize      import curve_fit\n",
    "import os"
   ]
  },
  {
   "cell_type": "markdown",
   "metadata": {},
   "source": [
    "## Round of errors, encontrar el valor de epsilon para el cual 1. + epsilon = 1. \n",
    "### El error de truncación es una característica del algoritmo. Se expande alrededor de un punto despreciando terminos superiores: truncación para $|x| << 1$:"
   ]
  },
  {
   "cell_type": "markdown",
   "metadata": {},
   "source": [
    "$f(x) = sin(x) = x - \\frac{x^{3}}{6} + \\mathcal{O}(x^{5})$"
   ]
  },
  {
   "cell_type": "code",
   "execution_count": 6,
   "metadata": {},
   "outputs": [
    {
     "name": "stdout",
     "output_type": "stream",
     "text": [
      "1.11022302463e-16\n"
     ]
    }
   ],
   "source": [
    "epsilon = 1.\n",
    "while ( 1. + epsilon != 1 ):\n",
    "    epsilon = 0.5*epsilon\n",
    "\n",
    "print(epsilon)"
   ]
  },
  {
   "cell_type": "code",
   "execution_count": 13,
   "metadata": {},
   "outputs": [
    {
     "name": "stdout",
     "output_type": "stream",
     "text": [
      " x = 3.141593 , epsilon = 2.026120e+00\n",
      " x = 0.785398 , epsilon = 2.454130e-03\n",
      "The ratio of these values is 825.596095 \n"
     ]
    }
   ],
   "source": [
    "def epsilon(x):\n",
    "    return np.sin(x) - (x - (x**3)/6.)\n",
    "\n",
    "x = np.pi\n",
    "\n",
    "#quiero mostrar que la precision va como 2**5 = 32\n",
    "\n",
    "print(\" x = %f , epsilon = %e\" %(x,epsilon(x)))\n",
    "print(\" x = %f , epsilon = %e\" %(x/4,epsilon(x/4)))\n",
    "print(\"The ratio of these values is %f \" %(epsilon(x)/epsilon(x/4)))"
   ]
  },
  {
   "cell_type": "code",
   "execution_count": 14,
   "metadata": {},
   "outputs": [],
   "source": [
    "def Function(x):\n",
    "    return np.sin(x)\n",
    "\n",
    "def ExactDerivative(x):\n",
    "    return np.cos(x)"
   ]
  },
  {
   "cell_type": "code",
   "execution_count": 16,
   "metadata": {},
   "outputs": [],
   "source": [
    "def Fill(f, xi_, xf_, h_):\n",
    "    \n",
    "    X = []\n",
    "    Y = []\n",
    "    \n",
    "    while xi_ < xf_:\n",
    "        X = np.append(X, xi_)\n",
    "        Y = np.append(Y, f(xi_))\n",
    "        xi_ = xi_ + h_\n",
    "        \n",
    "    return X, Y"
   ]
  },
  {
   "cell_type": "code",
   "execution_count": 34,
   "metadata": {},
   "outputs": [
    {
     "name": "stdout",
     "output_type": "stream",
     "text": [
      "0.10471975512\n"
     ]
    }
   ],
   "source": [
    "xi, xf, Npoints = 0., 2*np.pi, 60\n",
    "h = (xf-xi)/float(Npoints)\n",
    "print(h)"
   ]
  },
  {
   "cell_type": "code",
   "execution_count": 36,
   "metadata": {},
   "outputs": [
    {
     "name": "stdout",
     "output_type": "stream",
     "text": [
      "61\n"
     ]
    }
   ],
   "source": [
    "X, Y = Fill(Function, xi, xf, h)\n",
    "X, DY = Fill(ExactDerivative, xi, xf, h)\n",
    "print(len(X))"
   ]
  },
  {
   "cell_type": "code",
   "execution_count": 37,
   "metadata": {},
   "outputs": [
    {
     "data": {
      "image/png": "[encoded data removed]",
      "text/plain": [
       "<Figure size 432x288 with 1 Axes>"
      ]
     },
     "metadata": {
      "needs_background": "light"
     },
     "output_type": "display_data"
    }
   ],
   "source": [
    "plt.plot(X,Y,'ko', label='')\n",
    "plt.title('')\n",
    "plt.xlabel(r'$x$')\n",
    "plt.ylabel(r'$f(x)$')\n",
    "plt.grid()"
   ]
  },
  {
   "cell_type": "code",
   "execution_count": 57,
   "metadata": {},
   "outputs": [],
   "source": [
    "def LefDerivative(f, xi, h):\n",
    "    d = 0\n",
    "    if( h != 0):\n",
    "        d = ( f(xi)-f(xi-h) )/h\n",
    "\n",
    "    return d\n",
    "\n",
    "def RightDerivative(f, xi, h):\n",
    "    d = 0\n",
    "    if( h != 0):\n",
    "        d = ( f(xi+h)-f(xi) )/h\n",
    "\n",
    "    return d\n",
    "\n",
    "def CentralDerivative(f, xi, h):\n",
    "    d = 0\n",
    "    if(h != 0):\n",
    "        d = (f(xi+h)-f(xi-h))/(2*h)\n",
    "    return d  "
   ]
  },
  {
   "cell_type": "code",
   "execution_count": 58,
   "metadata": {},
   "outputs": [
    {
     "name": "stdout",
     "output_type": "stream",
     "text": [
      "0.052312045854834774\n",
      "-0.05231204585483371\n",
      "5.300924469105862e-16\n"
     ]
    }
   ],
   "source": [
    "print(LefDerivative(Function, 0.5*np.pi, h))\n",
    "print(RightDerivative(Function, 0.5*np.pi, h))\n",
    "print(CentralDerivative(Function, 0.5*np.pi, h))"
   ]
  },
  {
   "cell_type": "code",
   "execution_count": 62,
   "metadata": {},
   "outputs": [],
   "source": [
    "Dly = []\n",
    "Dry = []\n",
    "Dcy = []\n",
    "\n",
    "for i in X:\n",
    "    Dly = np.append(Dly, LefDerivative(Function, i, h))\n",
    "    Dry = np.append(Dry, RightDerivative(Function, i, h))\n",
    "    Dcy = np.append(Dcy, CentralDerivative(Function, i, h))\n",
    "    \n",
    "Errorl = abs(Dly-DY)\n",
    "Errorr = abs(Dry-DY)\n",
    "Errorc = abs(Dcy-DY)\n",
    "\n",
    "\n",
    "#for i in range(len(X)):\n",
    "    #print('%f ' r'+-'  ' %e' %(Dly[i], Errorl[i]))"
   ]
  },
  {
   "cell_type": "code",
   "execution_count": 68,
   "metadata": {},
   "outputs": [
    {
     "data": {
      "image/png": "[encoded data removed]",
      "text/plain": [
       "<Figure size 432x288 with 1 Axes>"
      ]
     },
     "metadata": {
      "needs_background": "light"
     },
     "output_type": "display_data"
    }
   ],
   "source": [
    "fig, ax = plt.subplots()\n",
    "p1 = ax.plot(X, Dly, 'r*', label='Left derivative')\n",
    "p2 = ax.plot(X, Dry, 'b*', label='Right derivative')\n",
    "p3 = ax.plot(X, Dcy, 'g*', label='Central derivative')\n",
    "\n",
    "p4 = ax.plot(X, DY, 'k', label='Exact derivative')\n",
    "\n",
    "plt.title('')\n",
    "plt.xlabel(r'$x$')\n",
    "plt.ylabel(r'$\\frac{df(x)}{dx}$')\n",
    "plt.yscale('log')\n",
    "plt.xlim(0.1,0.5)\n",
    "plt.ylim(0.8,1)\n",
    "\n",
    "ax.legend()\n",
    "plt.grid()"
   ]
  },
  {
   "cell_type": "code",
   "execution_count": 72,
   "metadata": {},
   "outputs": [
    {
     "data": {
      "text/plain": [
       "<matplotlib.legend.Legend at 0x7fbfa2f15e50>"
      ]
     },
     "execution_count": 72,
     "metadata": {},
     "output_type": "execute_result"
    },
    {
     "data": {
      "image/png": "[encoded data removed]",
      "text/plain": [
       "<Figure size 432x288 with 1 Axes>"
      ]
     },
     "metadata": {
      "needs_background": "light"
     },
     "output_type": "display_data"
    }
   ],
   "source": [
    "fig, ax = plt.subplots()\n",
    "p1 = ax.plot(X, Errorl, 'r*', label='Error left')\n",
    "p2 = ax.plot(X, Errorr, 'b*', label='Error right')\n",
    "p3 = ax.plot(X, Errorc, 'g*', label='Error central')\n",
    "\n",
    "plt.title('')\n",
    "plt.xlabel(r'$x$')\n",
    "plt.ylabel(r'$\\sigma(\\frac{df(x)}{dx})$')\n",
    "#plt.yscale('log')\n",
    "#plt.ylim(0.00001,1)\n",
    "ax.legend()"
   ]
  },
  {
   "cell_type": "code",
   "execution_count": 55,
   "metadata": {
    "scrolled": true
   },
   "outputs": [
    {
     "data": {
      "text/html": [
       "\n",
       "        <iframe\n",
       "            width=\"600\"\n",
       "            height=\"400\"\n",
       "            src=\"derivatives.pdf\"\n",
       "            frameborder=\"0\"\n",
       "            allowfullscreen\n",
       "        ></iframe>\n",
       "        "
      ],
      "text/plain": [
       "<IPython.lib.display.IFrame at 0x7fbfa36e7f50>"
      ]
     },
     "execution_count": 55,
     "metadata": {},
     "output_type": "execute_result"
    }
   ],
   "source": [
    "from IPython.display import IFrame, display\n",
    "file = 'derivatives.pdf'\n",
    "IFrame(file, width=600, height=400)"
   ]
  },
  {
   "cell_type": "code",
   "execution_count": 80,
   "metadata": {},
   "outputs": [
    {
     "name": "stdout",
     "output_type": "stream",
     "text": [
      "0.0018267026292005549\n",
      "0.0018267026292005549\n"
     ]
    }
   ],
   "source": [
    "# Error global de la estimación\n",
    "\n",
    "Sum_num = 0.\n",
    "Sum_den = 0.\n",
    "\n",
    "for i in range(len(Errorl)):\n",
    "    Sum_num += Errorc[i]**2\n",
    "    Sum_den += DY[i]**2\n",
    "    \n",
    "Error_global = np.sqrt(Sum_num/Sum_den)\n",
    "\n",
    "print(Error_global)\n",
    "print(Error_global)\n"
   ]
  },
  {
   "cell_type": "code",
   "execution_count": null,
   "metadata": {},
   "outputs": [],
   "source": []
  }
 ],
 "metadata": {
  "kernelspec": {
   "display_name": "Python 3",
   "language": "python",
   "name": "python3"
  },
  "language_info": {
   "codemirror_mode": {
    "name": "ipython",
    "version": 2
   },
   "file_extension": ".py",
   "mimetype": "text/x-python",
   "name": "python",
   "nbconvert_exporter": "python",
   "pygments_lexer": "ipython2",
   "version": "2.7.16"
  }
 },
 "nbformat": 4,
 "nbformat_minor": 2
}
