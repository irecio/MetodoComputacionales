{
 "cells": [
  {
   "cell_type": "code",
   "execution_count": 3,
   "metadata": {},
   "outputs": [],
   "source": [
    "import numpy             as np\n",
    "import matplotlib.pyplot as plt\n",
    "from matplotlib          import rc \n",
    "from scipy.optimize      import curve_fit\n",
    "import os\n",
    "from scipy              import integrate\n",
    "import math"
   ]
  },
  {
   "cell_type": "code",
   "execution_count": 2,
   "metadata": {},
   "outputs": [
    {
     "data": {
      "text/html": [
       "\n",
       "        <iframe\n",
       "            width=\"600\"\n",
       "            height=\"400\"\n",
       "            src=\"Lectures/Cuadratura_Gaussiana.pdf\"\n",
       "            frameborder=\"0\"\n",
       "            allowfullscreen\n",
       "        ></iframe>\n",
       "        "
      ],
      "text/plain": [
       "<IPython.lib.display.IFrame at 0x7f34b2ce8810>"
      ]
     },
     "execution_count": 2,
     "metadata": {},
     "output_type": "execute_result"
    }
   ],
   "source": [
    "from IPython.display import IFrame, display\n",
    "file = 'Lectures/Cuadratura_Gaussiana.pdf'\n",
    "IFrame(file, width=600, height=400)"
   ]
  },
  {
   "cell_type": "code",
   "execution_count": 32,
   "metadata": {},
   "outputs": [
    {
     "name": "stdout",
     "output_type": "stream",
     "text": [
      "(array([-0.90617985, -0.53846931,  0.        ,  0.53846931,  0.90617985]), array([0.23692689, 0.47862867, 0.56888889, 0.47862867, 0.23692689]))\n"
     ]
    }
   ],
   "source": [
    "deg = 5\n",
    "x, w = np.polynomial.legendre.leggauss(deg)\n",
    "print(x, w)"
   ]
  },
  {
   "cell_type": "code",
   "execution_count": 28,
   "metadata": {},
   "outputs": [
    {
     "name": "stdout",
     "output_type": "stream",
     "text": [
      "1.0\n"
     ]
    }
   ],
   "source": [
    "a = 0\n",
    "b = 0.5*np.pi\n",
    "f = lambda x : np.cos(x)\n",
    "print(f(0.))"
   ]
  },
  {
   "cell_type": "code",
   "execution_count": 33,
   "metadata": {},
   "outputs": [
    {
     "name": "stdout",
     "output_type": "stream",
     "text": [
      "1.000000000039565\n"
     ]
    }
   ],
   "source": [
    "t = 0.5*( (b-a)*x + a + b )\n",
    "Integral = 0.5*(b-a)*sum( w*f(t) )\n",
    "print(Integral)"
   ]
  },
  {
   "cell_type": "code",
   "execution_count": 34,
   "metadata": {},
   "outputs": [],
   "source": [
    "import sympy as sym"
   ]
  },
  {
   "cell_type": "code",
   "execution_count": 50,
   "metadata": {},
   "outputs": [
    {
     "name": "stdout",
     "output_type": "stream",
     "text": [
      "(sqrt(x**2 + 1), x/sqrt(x**2 + 1), -x**2/(x**2 + 1)**(3/2) + 1/sqrt(x**2 + 1))\n"
     ]
    }
   ],
   "source": [
    "x = sym.Symbol('x', real=True)\n",
    "funcion   = sym.sqrt(x**2+1)\n",
    "dfuncion  = sym.diff(funcion,x)\n",
    "d2funcion = sym.diff(dfuncion, x)\n",
    "print(funcion, dfuncion, d2funcion)"
   ]
  },
  {
   "cell_type": "code",
   "execution_count": 51,
   "metadata": {},
   "outputs": [],
   "source": [
    "# para usarlas númericamente\n",
    "fn   = sym.lambdify([x], funcion,  'numpy') \n",
    "dfn  = sym.lambdify([x], dfuncion, 'numpy') \n",
    "d2fn = sym.lambdify([x], d2funcion,'numpy') "
   ]
  },
  {
   "cell_type": "code",
   "execution_count": 42,
   "metadata": {},
   "outputs": [],
   "source": [
    "x = np.linspace(0,3,20)"
   ]
  },
  {
   "cell_type": "code",
   "execution_count": 52,
   "metadata": {},
   "outputs": [
    {
     "data": {
      "image/png": "[encoded data removed]",
      "text/plain": [
       "<Figure size 432x288 with 1 Axes>"
      ]
     },
     "metadata": {
      "needs_background": "light"
     },
     "output_type": "display_data"
    }
   ],
   "source": [
    "x = np.linspace(-10,10,100)\n",
    "plt.plot(x,fn(x),x,dfn(x),x,d2fn(x))\n",
    "plt.legend(['f(x)','df(x)','d2f(x)'])\n",
    "plt.show()"
   ]
  },
  {
   "cell_type": "code",
   "execution_count": 53,
   "metadata": {},
   "outputs": [],
   "source": [
    "def CreateLegendPoly(n):\n",
    "    x = sym.Symbol('x', real=True)\n",
    "    y = sym.Symbol('y', real=True)\n",
    "    \n",
    "    y = (x**2 -1)**n\n",
    "    poly = sym.diff(y,x,n)/( 2**n * math.factorial(n))\n",
    "    \n",
    "    return poly"
   ]
  },
  {
   "cell_type": "code",
   "execution_count": 54,
   "metadata": {},
   "outputs": [
    {
     "name": "stdout",
     "output_type": "stream",
     "text": [
      "(3*x**2 - 1)/2\n"
     ]
    }
   ],
   "source": [
    "poly2 = CreateLegendPoly(2)\n",
    "print(poly2)"
   ]
  },
  {
   "cell_type": "code",
   "execution_count": 55,
   "metadata": {},
   "outputs": [
    {
     "name": "stdout",
     "output_type": "stream",
     "text": [
      "1\n",
      "x\n",
      "(3*x**2 - 1)/2\n",
      "x*(5*x**2 - 3)/2\n",
      "(8*x**4 + 24*x**2*(x**2 - 1) + 3*(x**2 - 1)**2)/8\n",
      "x*(8*x**4 + 40*x**2*(x**2 - 1) + 15*(x**2 - 1)**2)/8\n",
      "(16*x**6 + 120*x**4*(x**2 - 1) + 90*x**2*(x**2 - 1)**2 + 5*(x**2 - 1)**3)/16\n",
      "x*(16*x**6 + 168*x**4*(x**2 - 1) + 210*x**2*(x**2 - 1)**2 + 35*(x**2 - 1)**3)/16\n",
      "(128*x**8 + 1792*x**6*(x**2 - 1) + 3360*x**4*(x**2 - 1)**2 + 1120*x**2*(x**2 - 1)**3 + 35*(x**2 - 1)**4)/128\n",
      "x*(128*x**8 + 2304*x**6*(x**2 - 1) + 6048*x**4*(x**2 - 1)**2 + 3360*x**2*(x**2 - 1)**3 + 315*(x**2 - 1)**4)/128\n"
     ]
    }
   ],
   "source": [
    "for i in range(0,10):\n",
    "    print(CreateLegendPoly(i))"
   ]
  },
  {
   "cell_type": "code",
   "execution_count": null,
   "metadata": {},
   "outputs": [],
   "source": []
  }
 ],
 "metadata": {
  "kernelspec": {
   "display_name": "Python 3",
   "language": "python",
   "name": "python3"
  },
  "language_info": {
   "codemirror_mode": {
    "name": "ipython",
    "version": 2
   },
   "file_extension": ".py",
   "mimetype": "text/x-python",
   "name": "python",
   "nbconvert_exporter": "python",
   "pygments_lexer": "ipython2",
   "version": "2.7.16"
  }
 },
 "nbformat": 4,
 "nbformat_minor": 2
}
