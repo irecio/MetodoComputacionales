{
 "cells": [
  {
   "cell_type": "code",
   "execution_count": 1,
   "metadata": {},
   "outputs": [],
   "source": [
    "import numpy             as np\n",
    "import matplotlib.pyplot as plt\n",
    "from matplotlib          import rc \n",
    "from scipy.optimize      import curve_fit\n",
    "import os"
   ]
  },
  {
   "cell_type": "code",
   "execution_count": 7,
   "metadata": {},
   "outputs": [
    {
     "data": {
      "text/html": [
       "\n",
       "        <iframe\n",
       "            width=\"550\"\n",
       "            height=\"400\"\n",
       "            src=\"Lectures/Interpolacion_Newton.pdf\"\n",
       "            frameborder=\"0\"\n",
       "            allowfullscreen\n",
       "        ></iframe>\n",
       "        "
      ],
      "text/plain": [
       "<IPython.lib.display.IFrame at 0x7fb58a82e9d0>"
      ]
     },
     "execution_count": 7,
     "metadata": {},
     "output_type": "execute_result"
    }
   ],
   "source": [
    "from IPython.display import IFrame, display\n",
    "file = 'Lectures/Interpolacion_Newton.pdf'\n",
    "IFrame(file, width=550, height=400)"
   ]
  },
  {
   "cell_type": "markdown",
   "metadata": {},
   "source": [
    "# Método de Newton-Raphson\n",
    "$x_{n+1} = x_{n} - \\frac{f'(x_{n})}{f(x_{n})}$"
   ]
  },
  {
   "cell_type": "code",
   "execution_count": 26,
   "metadata": {},
   "outputs": [],
   "source": [
    "def Function(x):\n",
    "    #return x**x - 100\n",
    "    return x**3 - 4*x**2 -2\n",
    "    #return (2*x**4 - 2*x**3 + x**2 + 3*x - 4)\n",
    "\n",
    "def Derivada(f,x,h):\n",
    "    d = 0\n",
    "    if(h != 0):\n",
    "        d = (f(x+h)-f(x-h))/(2*h)\n",
    "    return d"
   ]
  },
  {
   "cell_type": "code",
   "execution_count": 32,
   "metadata": {},
   "outputs": [],
   "source": [
    "xi , xf, Npoints = 0.,5.,50\n",
    "h = (xf-xi)/float(Npoints)\n",
    "\n",
    "X = np.linspace(xi,xf,Npoints)\n",
    "Y = Function(X)"
   ]
  },
  {
   "cell_type": "code",
   "execution_count": 33,
   "metadata": {},
   "outputs": [
    {
     "data": {
      "image/png": "[encoded data removed]",
      "text/plain": [
       "<Figure size 432x288 with 1 Axes>"
      ]
     },
     "metadata": {
      "needs_background": "light"
     },
     "output_type": "display_data"
    }
   ],
   "source": [
    "plt.plot(X,Y,'b', label='f(x)')\n",
    "#plt.plot(X,DY,'r', label='f(x)')\n",
    "#plt.yscale('log')\n",
    "#plt.ylim(0.01, 10)\n",
    "plt.xlabel(r'$x$')\n",
    "plt.ylabel(r'$\\frac{f(x)}{dx}$')\n",
    "plt.grid()\n",
    "plt.show()"
   ]
  },
  {
   "cell_type": "code",
   "execution_count": 14,
   "metadata": {},
   "outputs": [],
   "source": [
    "def NewtonMethod(Function, Derivada, xn, error, iteracion):\n",
    "    precision = 1.0e-3\n",
    "    h = 1.0e-4\n",
    "    \n",
    "    if( (error > precision) and (iteracion < 10000) ):\n",
    "        \n",
    "        try:\n",
    "            xn1 = xn - (Function(xn))/Derivada(Function, xn, h)\n",
    "            error = abs(xn1-xn)/abs(xn1)\n",
    "            \n",
    "            NewtonMethod(Function, Derivada, xn1, error, iteracion+1)\n",
    "        except ZeroDivisionError:\n",
    "            print(\"Division by Zero\")\n",
    "    else:\n",
    "        print('xn=%f, f(xn)=%f, f\\'(xn)=%f' %(xn, Function(xn), Derivada(Function, xn, h)))"
   ]
  },
  {
   "cell_type": "code",
   "execution_count": 35,
   "metadata": {},
   "outputs": [
    {
     "name": "stdout",
     "output_type": "stream",
     "text": [
      "xn=4.117943, f(xn)=0.000008, f'(xn)=17.928815\n"
     ]
    }
   ],
   "source": [
    "test = np.linspace(-100.,100.200)\n",
    "\n",
    "#for i in test:\n",
    "NewtonMethod(Function, Derivada, 60, 1000, 0)"
   ]
  },
  {
   "cell_type": "markdown",
   "metadata": {},
   "source": [
    "# Interpolación de lagrange\n",
    "\n",
    "$p_{n}(x) = \\sum_{i = 0}^{n} L_{i}(x)f(x_{i}), \\ $\n",
    "$L_{i}(x) = \\prod_{j \\neq i} \\frac{x - x_{j}}{x_{i} - x_{j}}$"
   ]
  },
  {
   "cell_type": "code",
   "execution_count": 36,
   "metadata": {},
   "outputs": [],
   "source": [
    "def Lagrange(x, xi, j, n):\n",
    "    prod = 1.0\n",
    "    for k in range(n+1):\n",
    "        if(k != j):\n",
    "            prod = prod*(x - xi[k])/(xi[j]-xi[k])\n",
    "    return prod"
   ]
  },
  {
   "cell_type": "code",
   "execution_count": 39,
   "metadata": {},
   "outputs": [],
   "source": [
    "def Poly(x, xi, fxi, n):\n",
    "    summ = 0\n",
    "    for j in range(n+1):\n",
    "        summ = summ + fxi[j]*Lagrange(x,xi,j,n)\n",
    "    return summ"
   ]
  },
  {
   "cell_type": "code",
   "execution_count": 47,
   "metadata": {},
   "outputs": [
    {
     "name": "stdout",
     "output_type": "stream",
     "text": [
      "(array([ 2. ,  2.5,  3. ,  3.5,  4. ,  4.5,  5. ,  5.5,  6. ,  6.5,  7. ,\n",
      "        7.5,  8. ,  8.5,  9. ,  9.5, 10. , 10.5, 11. , 11.5, 12. ]), array([ 7. ,  7.5,  8. ,  8.5,  9. ,  9.5, 10. , 10.5, 11. , 11.5, 12. ,\n",
      "       12.5, 13. , 13.5, 14. , 14.5, 15. , 15.5, 16. , 16.5, 17. ]))\n"
     ]
    }
   ],
   "source": [
    "X1 = [5.,10.]\n",
    "Y1 = [10., 15.]\n",
    "\n",
    "Data_ = np.arange(2., 12.+0.5, 0.5)\n",
    "\n",
    "px1 = Poly(Data_, X1, Y1, 1)\n",
    "print(Data_, px1)"
   ]
  },
  {
   "cell_type": "code",
   "execution_count": 48,
   "metadata": {},
   "outputs": [
    {
     "data": {
      "text/plain": [
       "<matplotlib.collections.PathCollection at 0x7fb58a1037d0>"
      ]
     },
     "execution_count": 48,
     "metadata": {},
     "output_type": "execute_result"
    },
    {
     "data": {
      "image/png": "[encoded data removed]",
      "text/plain": [
       "<Figure size 432x288 with 1 Axes>"
      ]
     },
     "metadata": {
      "needs_background": "light"
     },
     "output_type": "display_data"
    }
   ],
   "source": [
    "plt.plot(Data_,px1,'r', label='p(x)')\n",
    "plt.scatter(X1,Y1,label='f(x)')"
   ]
  },
  {
   "cell_type": "code",
   "execution_count": 62,
   "metadata": {},
   "outputs": [
    {
     "name": "stdout",
     "output_type": "stream",
     "text": [
      "(array([-2. , -1.5, -1. , -0.5,  0. ,  0.5,  1. ,  1.5,  2. ,  2.5,  3. ,\n",
      "        3.5,  4. ,  4.5,  5. ]), array([5.     , 3.93125, 3.     , 2.21875, 1.6    , 1.15625, 0.9    ,\n",
      "       0.84375, 1.     , 1.38125, 2.     , 2.86875, 4.     , 5.40625,\n",
      "       7.1    ]))\n"
     ]
    }
   ],
   "source": [
    "X1 = [-1,2,3,4]\n",
    "Y1 = [3,1,2,4]\n",
    "\n",
    "Data_ = np.arange(-2., 5.+0.5, 0.5)\n",
    "px3 = Poly(Data_, X1, Y1, 3)\n",
    "print(Data_, px3)"
   ]
  },
  {
   "cell_type": "code",
   "execution_count": 63,
   "metadata": {},
   "outputs": [
    {
     "data": {
      "text/plain": [
       "<matplotlib.collections.PathCollection at 0x7fb58a2cabd0>"
      ]
     },
     "execution_count": 63,
     "metadata": {},
     "output_type": "execute_result"
    },
    {
     "data": {
      "image/png": "[encoded data removed]",
      "text/plain": [
       "<Figure size 432x288 with 1 Axes>"
      ]
     },
     "metadata": {
      "needs_background": "light"
     },
     "output_type": "display_data"
    }
   ],
   "source": [
    "plt.plot(Data_,px3,'r', label='p(x)')\n",
    "plt.scatter(X1,Y1,label='f(x)')"
   ]
  },
  {
   "cell_type": "code",
   "execution_count": 64,
   "metadata": {},
   "outputs": [],
   "source": [
    "def f(x):\n",
    "    return 1/(25*x**2 + 1)"
   ]
  },
  {
   "cell_type": "code",
   "execution_count": 81,
   "metadata": {},
   "outputs": [
    {
     "name": "stdout",
     "output_type": "stream",
     "text": [
      "0.2\n"
     ]
    }
   ],
   "source": [
    "xi, xf = -1., +1.\n",
    "n = 10 # Grado del polinomio\n",
    "\n",
    "h = (xf-xi)/n\n",
    "print(h)\n",
    "\n",
    "X = np.arange(xi, xf+h, h)\n",
    "Y = f(X)"
   ]
  },
  {
   "cell_type": "code",
   "execution_count": 82,
   "metadata": {},
   "outputs": [
    {
     "name": "stdout",
     "output_type": "stream",
     "text": [
      "0.002\n"
     ]
    }
   ],
   "source": [
    "h2 = (xf-xi)/1000 \n",
    "print(h2)\n",
    "Data = np.arange(xi, xf+h2, h2)"
   ]
  },
  {
   "cell_type": "code",
   "execution_count": 83,
   "metadata": {},
   "outputs": [],
   "source": [
    "px = Poly(Data, X, Y, n)\n",
    "fx = f(Data)"
   ]
  },
  {
   "cell_type": "code",
   "execution_count": 84,
   "metadata": {},
   "outputs": [
    {
     "data": {
      "text/plain": [
       "[<matplotlib.lines.Line2D at 0x7fb589e03610>]"
      ]
     },
     "execution_count": 84,
     "metadata": {},
     "output_type": "execute_result"
    },
    {
     "data": {
      "image/png": "[encoded data removed]",
      "text/plain": [
       "<Figure size 432x288 with 1 Axes>"
      ]
     },
     "metadata": {
      "needs_background": "light"
     },
     "output_type": "display_data"
    }
   ],
   "source": [
    "plt.plot(Data,px,'b', label='$p_{%d}(x)$' %(n))\n",
    "plt.plot(Data,fx,'k', label='f(x)')\n",
    "plt.plot(X,Y,'ro', label='puntos interpolacion')"
   ]
  },
  {
   "cell_type": "code",
   "execution_count": null,
   "metadata": {},
   "outputs": [],
   "source": []
  }
 ],
 "metadata": {
  "kernelspec": {
   "display_name": "Python 3",
   "language": "python",
   "name": "python3"
  },
  "language_info": {
   "codemirror_mode": {
    "name": "ipython",
    "version": 2
   },
   "file_extension": ".py",
   "mimetype": "text/x-python",
   "name": "python",
   "nbconvert_exporter": "python",
   "pygments_lexer": "ipython2",
   "version": "2.7.16"
  }
 },
 "nbformat": 4,
 "nbformat_minor": 2
}
