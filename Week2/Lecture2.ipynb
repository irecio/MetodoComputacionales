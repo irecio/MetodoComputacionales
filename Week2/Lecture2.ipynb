{
 "cells": [
  {
   "cell_type": "code",
   "execution_count": 1,
   "metadata": {},
   "outputs": [],
   "source": [
    "import numpy             as np\n",
    "import matplotlib.pyplot as plt\n",
    "from matplotlib          import rc \n",
    "from scipy.optimize      import curve_fit\n",
    "import os"
   ]
  },
  {
   "cell_type": "markdown",
   "metadata": {},
   "source": [
    "## Round of errors, encontrar el valor de epsilon para el cual 1. + epsilon = 1. \n",
    "### El error de truncación es una característica del algoritmo. Se expande alrededor de un punto despreciando terminos superiores: truncación para $|x| << 1$:"
   ]
  },
  {
   "cell_type": "markdown",
   "metadata": {},
   "source": [
    "$f(x) = sin(x) = x - \\frac{x^{3}}{6} + \\mathcal{O}(x^{5})$"
   ]
  },
  {
   "cell_type": "code",
   "execution_count": 6,
   "metadata": {},
   "outputs": [
    {
     "name": "stdout",
     "output_type": "stream",
     "text": [
      "1.11022302463e-16\n"
     ]
    }
   ],
   "source": [
    "epsilon = 1.\n",
    "while ( 1. + epsilon != 1 ):\n",
    "    epsilon = 0.5*epsilon\n",
    "\n",
    "print(epsilon)"
   ]
  },
  {
   "cell_type": "code",
   "execution_count": 13,
   "metadata": {},
   "outputs": [
    {
     "name": "stdout",
     "output_type": "stream",
     "text": [
      " x = 3.141593 , epsilon = 2.026120e+00\n",
      " x = 0.785398 , epsilon = 2.454130e-03\n",
      "The ratio of these values is 825.596095 \n"
     ]
    }
   ],
   "source": [
    "def epsilon(x):\n",
    "    return np.sin(x) - (x - (x**3)/6.)\n",
    "\n",
    "x = np.pi\n",
    "\n",
    "#quiero mostrar que la precision va como 2**5 = 32\n",
    "\n",
    "print(\" x = %f , epsilon = %e\" %(x,epsilon(x)))\n",
    "print(\" x = %f , epsilon = %e\" %(x/4,epsilon(x/4)))\n",
    "print(\"The ratio of these values is %f \" %(epsilon(x)/epsilon(x/4)))"
   ]
  },
  {
   "cell_type": "code",
   "execution_count": 14,
   "metadata": {},
   "outputs": [],
   "source": [
    "def Function(x):\n",
    "    return np.sin(x)\n",
    "\n",
    "def ExactDerivative(x):\n",
    "    return np.cos(x)"
   ]
  },
  {
   "cell_type": "code",
   "execution_count": 16,
   "metadata": {},
   "outputs": [],
   "source": [
    "def Fill(f, xi_, xf_, h_):\n",
    "    \n",
    "    X = []\n",
    "    Y = []\n",
    "    \n",
    "    while xi_ < xf_:\n",
    "        X = np.append(X, xi_)\n",
    "        Y = np.append(Y, f(xi_))\n",
    "        xi_ = xi_ + h_\n",
    "        \n",
    "    return X, Y"
   ]
  },
  {
   "cell_type": "code",
   "execution_count": 34,
   "metadata": {},
   "outputs": [
    {
     "name": "stdout",
     "output_type": "stream",
     "text": [
      "0.10471975512\n"
     ]
    }
   ],
   "source": [
    "xi, xf, Npoints = 0., 2*np.pi, 60\n",
    "h = (xf-xi)/float(Npoints)\n",
    "print(h)"
   ]
  },
  {
   "cell_type": "code",
   "execution_count": 36,
   "metadata": {},
   "outputs": [
    {
     "name": "stdout",
     "output_type": "stream",
     "text": [
      "61\n"
     ]
    }
   ],
   "source": [
    "X, Y = Fill(Function, xi, xf, h)\n",
    "X, DY = Fill(ExactDerivative, xi, xf, h)\n",
    "print(len(X))"
   ]
  },
  {
   "cell_type": "code",
   "execution_count": 37,
   "metadata": {},
   "outputs": [
    {
     "data": {
      "image/png": "[encoded data removed]",
      "text/plain": [
       "<Figure size 432x288 with 1 Axes>"
      ]
     },
     "metadata": {
      "needs_background": "light"
     },
     "output_type": "display_data"
    }
   ],
   "source": [
    "plt.plot(X,Y,'ko', label='')\n",
    "plt.title('')\n",
    "plt.xlabel(r'$x$')\n",
    "plt.ylabel(r'$f(x)$')\n",
    "plt.grid()"
   ]
  },
  {
   "cell_type": "code",
   "execution_count": 49,
   "metadata": {},
   "outputs": [],
   "source": [
    "def LefDerivative(f, xi, h):\n",
    "    d = 0\n",
    "    if( h != 0):\n",
    "        d = ( f(xi)-f(xi-h) )/h\n",
    "\n",
    "    return d\n",
    "\n",
    "def RightDerivative(f, xi, h):\n",
    "    d = 0\n",
    "    if( h != 0):\n",
    "        d = ( f(xi+h)-f(xi) )/h\n",
    "\n",
    "    return d\n",
    "    "
   ]
  },
  {
   "cell_type": "code",
   "execution_count": 50,
   "metadata": {},
   "outputs": [
    {
     "name": "stdout",
     "output_type": "stream",
     "text": [
      "0.052312045854834774\n",
      "-0.05231204585483371\n"
     ]
    }
   ],
   "source": [
    "print(LefDerivative(Function, 0.5*np.pi, h))\n",
    "print(RightDerivative(Function, 0.5*np.pi, h))"
   ]
  },
  {
   "cell_type": "code",
   "execution_count": 51,
   "metadata": {},
   "outputs": [],
   "source": [
    "Dly = []\n",
    "Dry = []\n",
    "\n",
    "for i in X:\n",
    "    Dly = np.append(Dly, LefDerivative(Function, i, h))\n",
    "    Dry = np.append(Dry, RightDerivative(Function, i, h))\n",
    "    \n",
    "Errorl = abs(Dly-DY)\n",
    "Errorr = abs(Dry-DY)\n",
    "\n",
    "\n",
    "#for i in range(len(X)):\n",
    "    #print('%f ' r'+-'  ' %e' %(Dly[i], Errorl[i]))"
   ]
  },
  {
   "cell_type": "code",
   "execution_count": 52,
   "metadata": {},
   "outputs": [
    {
     "data": {
      "image/png": "[encoded data removed]",
      "text/plain": [
       "<Figure size 432x288 with 1 Axes>"
      ]
     },
     "metadata": {
      "needs_background": "light"
     },
     "output_type": "display_data"
    }
   ],
   "source": [
    "fig, ax = plt.subplots()\n",
    "p1 = ax.plot(X, Dly, 'r*', label='Left derivative')\n",
    "p2 = ax.plot(X, Dry, 'b*', label='Right derivative')\n",
    "p3 = ax.plot(X, DY, 'k', label='Exact derivative')\n",
    "\n",
    "plt.title('')\n",
    "plt.xlabel(r'$x$')\n",
    "plt.ylabel(r'$\\frac{df(x)}{dx}$')\n",
    "ax.legend()\n",
    "plt.grid()"
   ]
  },
  {
   "cell_type": "code",
   "execution_count": 53,
   "metadata": {},
   "outputs": [
    {
     "data": {
      "text/plain": [
       "<matplotlib.legend.Legend at 0x7fbfa2d23d50>"
      ]
     },
     "execution_count": 53,
     "metadata": {},
     "output_type": "execute_result"
    },
    {
     "data": {
      "image/png": "[encoded data removed]",
      "text/plain": [
       "<Figure size 432x288 with 1 Axes>"
      ]
     },
     "metadata": {
      "needs_background": "light"
     },
     "output_type": "display_data"
    }
   ],
   "source": [
    "fig, ax = plt.subplots()\n",
    "p1 = ax.plot(X, Errorl, 'r*', label='Error left')\n",
    "p2 = ax.plot(X, Errorr, 'b*', label='Error right')\n",
    "\n",
    "plt.title('')\n",
    "plt.xlabel(r'$x$')\n",
    "plt.ylabel(r'$\\sigma(\\frac{df(x)}{dx})$')\n",
    "ax.legend()"
   ]
  },
  {
   "cell_type": "code",
   "execution_count": null,
   "metadata": {},
   "outputs": [],
   "source": []
  }
 ],
 "metadata": {
  "kernelspec": {
   "display_name": "Python 3",
   "language": "python",
   "name": "python3"
  },
  "language_info": {
   "codemirror_mode": {
    "name": "ipython",
    "version": 2
   },
   "file_extension": ".py",
   "mimetype": "text/x-python",
   "name": "python",
   "nbconvert_exporter": "python",
   "pygments_lexer": "ipython2",
   "version": "2.7.16"
  }
 },
 "nbformat": 4,
 "nbformat_minor": 2
}
