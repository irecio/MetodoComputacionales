{
 "cells": [
  {
   "cell_type": "code",
   "execution_count": 1,
   "metadata": {},
   "outputs": [],
   "source": [
    "import numpy             as np\n",
    "import matplotlib.pyplot as plt\n",
    "from matplotlib          import rc \n",
    "from scipy.optimize      import curve_fit\n",
    "import os"
   ]
  },
  {
   "cell_type": "code",
   "execution_count": 3,
   "metadata": {},
   "outputs": [
    {
     "data": {
      "text/html": [
       "\n",
       "        <iframe\n",
       "            width=\"600\"\n",
       "            height=\"400\"\n",
       "            src=\"Lectures/Integracion.pdf\"\n",
       "            frameborder=\"0\"\n",
       "            allowfullscreen\n",
       "        ></iframe>\n",
       "        "
      ],
      "text/plain": [
       "<IPython.lib.display.IFrame at 0x7fd1f704d9d0>"
      ]
     },
     "execution_count": 3,
     "metadata": {},
     "output_type": "execute_result"
    }
   ],
   "source": [
    "from IPython.display import IFrame, display\n",
    "file = 'Lectures/Integracion.pdf'\n",
    "IFrame(file, width=600, height=400)"
   ]
  },
  {
   "cell_type": "code",
   "execution_count": 4,
   "metadata": {},
   "outputs": [],
   "source": [
    "def Function(x):\n",
    "    return np.sin(x)\n",
    "\n",
    "def ddFunction(f, x, h):\n",
    "    d = 0.\n",
    "    if(h != 0):\n",
    "        d = ( f(x+h) - 2*f(x) + f(x-h) )/h**2\n",
    "    return d"
   ]
  },
  {
   "cell_type": "code",
   "execution_count": 32,
   "metadata": {},
   "outputs": [],
   "source": [
    "xi, xf, Npoints = 0, 0.5*np.pi, 10\n",
    "\n",
    "X = np.linspace(xi, xf, Npoints+1)\n",
    "Y = Function(X)\n",
    "DDY = ddFunction(Function, X, 0.001)\n",
    "\n",
    "#print(X,Y,DDY)"
   ]
  },
  {
   "cell_type": "code",
   "execution_count": 58,
   "metadata": {},
   "outputs": [
    {
     "data": {
      "image/png": "[encoded data removed]",
      "text/plain": [
       "<Figure size 432x288 with 1 Axes>"
      ]
     },
     "metadata": {
      "needs_background": "light"
     },
     "output_type": "display_data"
    }
   ],
   "source": [
    "plt.plot(X,Y,'b', label='f(x)')\n",
    "\n",
    "plt.scatter(X,Y,label='f(x)')\n",
    "\n",
    "plt.xlabel(r'$x$')\n",
    "plt.ylabel(r'$f(x)$')\n",
    "plt.grid()\n",
    "plt.show()"
   ]
  },
  {
   "cell_type": "code",
   "execution_count": 34,
   "metadata": {},
   "outputs": [
    {
     "data": {
      "image/png": "[encoded data removed]",
      "text/plain": [
       "<Figure size 432x288 with 1 Axes>"
      ]
     },
     "metadata": {
      "needs_background": "light"
     },
     "output_type": "display_data"
    }
   ],
   "source": [
    "plt.plot(X, DDY, 'r*', label='d2f(x)')\n",
    "plt.xlabel(r'$x$')\n",
    "plt.ylabel(r'$\\frac{f\\'\\'(x)}{dx^{2}}$')\n",
    "plt.grid()\n",
    "plt.show()"
   ]
  },
  {
   "cell_type": "code",
   "execution_count": 35,
   "metadata": {},
   "outputs": [],
   "source": [
    "def TrapezeMethod(f, X, Y):\n",
    "    \n",
    "    h = (X[-1]-X[0])/(len(X)-1)\n",
    "    \n",
    "    integral = 0.\n",
    "    integral += 0.5*(f(X[0]+f(X[-1])))\n",
    "     \n",
    "    for i in X[1:-1]:\n",
    "        integral += f(i)\n",
    "        \n",
    "    integral = h*integral\n",
    "    \n",
    "    return integral, h"
   ]
  },
  {
   "cell_type": "code",
   "execution_count": 62,
   "metadata": {},
   "outputs": [
    {
     "name": "stdout",
     "output_type": "stream",
     "text": [
      "(0.985492146616649, 0.15707963267948966)\n"
     ]
    }
   ],
   "source": [
    "Integral, step = TrapezeMethod(Function, X, Y)\n",
    "print(Integral, step)"
   ]
  },
  {
   "cell_type": "code",
   "execution_count": 60,
   "metadata": {},
   "outputs": [],
   "source": [
    "def ErrorTrapezeMethod(X,DDY):\n",
    "    DDY_ = np.array(DDY)\n",
    "    mean = np.mean(DDY_)\n",
    "   # max_ = np.amax(DDY_)\n",
    "    max_ = 1.0\n",
    "    print(mean)\n",
    "    \n",
    "    error = -(( X[-1]-X[0] )**3 * max_)/(12.*len(X)**2)\n",
    "    return error"
   ]
  },
  {
   "cell_type": "code",
   "execution_count": 61,
   "metadata": {},
   "outputs": [
    {
     "name": "stdout",
     "output_type": "stream",
     "text": [
      "-0.6230092542742155\n",
      "-0.0026692731301911\n"
     ]
    }
   ],
   "source": [
    "Error = ErrorTrapezeMethod(X,DDY)\n",
    "print(Error)"
   ]
  },
  {
   "cell_type": "code",
   "execution_count": 47,
   "metadata": {},
   "outputs": [
    {
     "name": "stdout",
     "output_type": "stream",
     "text": [
      "0.04263363043541225\n"
     ]
    }
   ],
   "source": [
    "print(step**3*len(X))"
   ]
  },
  {
   "cell_type": "code",
   "execution_count": 53,
   "metadata": {},
   "outputs": [],
   "source": [
    "def SimpsonMethod(f, X, Y):\n",
    "    \n",
    "    h = (X[-1]-X[0])/(len(X)-1)\n",
    "    \n",
    "    integral = 0.\n",
    "    integral += f(X[0])+f(X[-1])\n",
    "    \n",
    "    for i in range(len(X[1:-1])):\n",
    "        \n",
    "        if( i%2 == 0):\n",
    "            integral += 4.*f(X[i+1])\n",
    "            \n",
    "        else:\n",
    "            integral += 2.*f(X[i+1])\n",
    "    \n",
    "    integral = integral*h/3.\n",
    "    \n",
    "    return integral, h"
   ]
  },
  {
   "cell_type": "code",
   "execution_count": 54,
   "metadata": {},
   "outputs": [
    {
     "name": "stdout",
     "output_type": "stream",
     "text": [
      "(1.0000033922209004, 0.15707963267948966)\n"
     ]
    }
   ],
   "source": [
    "Integral, step = SimpsonMethod(Function, X, Y)\n",
    "print(Integral, step)"
   ]
  },
  {
   "cell_type": "markdown",
   "metadata": {},
   "source": [
    "$error = (b-a)\\frac{h^{4}}{180} f^{IV}(\\psi)$"
   ]
  },
  {
   "cell_type": "code",
   "execution_count": 59,
   "metadata": {},
   "outputs": [
    {
     "name": "stdout",
     "output_type": "stream",
     "text": [
      "5.312841749744469e-06\n"
     ]
    }
   ],
   "source": [
    "error = (step**4)*(X[-1]-X[0])/180.\n",
    "print(error)"
   ]
  },
  {
   "cell_type": "code",
   "execution_count": 63,
   "metadata": {},
   "outputs": [
    {
     "name": "stdout",
     "output_type": "stream",
     "text": [
      "[ 0.         -0.15643445 -0.30901697 -0.45399046 -0.5877852  -0.70710672\n",
      " -0.80901693 -0.89100645 -0.95105644 -0.98768826 -0.99999992]\n"
     ]
    }
   ],
   "source": [
    "print(DDY)"
   ]
  },
  {
   "cell_type": "code",
   "execution_count": null,
   "metadata": {},
   "outputs": [],
   "source": [
    "def Function(x):\n",
    "    return np.sin(x)\n",
    "\n",
    "def dFunction(f,x):\n",
    "    h = 0.001\n",
    "    d = (f(x+h)-f(x-h))/(2*h)\n",
    "    return h\n",
    "    \n",
    "def ddFunction(x):\n",
    "    d = 0.\n",
    "    if(h != 0):\n",
    "        d = ( f(x+h) - 2*f(x) + f(x-h) )/h**2\n",
    "    return d"
   ]
  }
 ],
 "metadata": {
  "kernelspec": {
   "display_name": "Python 3",
   "language": "python",
   "name": "python3"
  },
  "language_info": {
   "codemirror_mode": {
    "name": "ipython",
    "version": 2
   },
   "file_extension": ".py",
   "mimetype": "text/x-python",
   "name": "python",
   "nbconvert_exporter": "python",
   "pygments_lexer": "ipython2",
   "version": "2.7.16"
  }
 },
 "nbformat": 4,
 "nbformat_minor": 2
}
