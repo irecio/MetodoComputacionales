{
 "cells": [
  {
   "cell_type": "code",
   "execution_count": 1,
   "metadata": {},
   "outputs": [],
   "source": [
    "# %matplotlib notebook\n",
    "import numpy as np\n",
    "import matplotlib.pyplot as plt\n",
    "from mpl_toolkits.mplot3d import Axes3D\n",
    "from matplotlib import cm\n",
    "\n",
    "import mglearn\n",
    "import sklearn\n",
    "from sklearn.decomposition import PCA\n",
    "from sklearn.datasets import load_breast_cancer"
   ]
  },
  {
   "cell_type": "code",
   "execution_count": 2,
   "metadata": {},
   "outputs": [
    {
     "name": "stdout",
     "output_type": "stream",
     "text": [
      "[[ 3. -1. -1.]\n",
      " [-1.  3.  1.]\n",
      " [ 2.  1.  4.]]\n"
     ]
    }
   ],
   "source": [
    "M = np.array([[3,-1,-1],[-1.,3.,1.],[2.,1.,4.]])\n",
    "print(M)"
   ]
  },
  {
   "cell_type": "code",
   "execution_count": 3,
   "metadata": {},
   "outputs": [
    {
     "name": "stdout",
     "output_type": "stream",
     "text": [
      "[1. 3. 7.]\n"
     ]
    }
   ],
   "source": [
    "b = np.array([1.,3.,7.])\n",
    "print(b)"
   ]
  },
  {
   "cell_type": "markdown",
   "metadata": {},
   "source": [
    "# Método de eliminación Gaussiana\n",
    "\n",
    "1. Diagonalizar la matriz con unos en la diagonal\n",
    "2. Hacer la sustiución hacia atrás $ x_{i} = \\frac{b_{i} - \\sum_{j = i+1}^{n} a_{ij}x_{j}}{a_{ii}} $"
   ]
  },
  {
   "cell_type": "code",
   "execution_count": 11,
   "metadata": {},
   "outputs": [],
   "source": [
    "def GetGaussianElimination(M_, b_):\n",
    "    A = M_.copy()\n",
    "    b = b_.copy()\n",
    "    \n",
    "    A = np.float_(A)\n",
    "    b = np.float_(b)\n",
    "    n=len(b)\n",
    "    \n",
    "    for i in range(n):\n",
    "        # unos en la diagonal\n",
    "        a = A[i,i]\n",
    "        A[i,:] = A[i,:]/a # Dividir toda fila por el valor de la diagonal\n",
    "        b[i] = b[i]/a\n",
    "        \n",
    "        print(A)\n",
    "        for j in range(i+1, n):\n",
    "            a = A[j,i] # Tomar el primer elemento de la segunda fila\n",
    "            A[j,:] = A[j,:] - a*A[i,:] # multiplica el elemento por la fila anterior y suma con la fila actual\n",
    "            b[j] = b[j] - a*b[i]\n",
    "    \n",
    "    x = b.copy()\n",
    "    \n",
    "    return x, A, b"
   ]
  },
  {
   "cell_type": "code",
   "execution_count": 12,
   "metadata": {},
   "outputs": [
    {
     "name": "stdout",
     "output_type": "stream",
     "text": [
      "[[ 1.         -0.33333333 -0.33333333]\n",
      " [-1.          3.          1.        ]\n",
      " [ 2.          1.          4.        ]]\n",
      "[[ 1.         -0.33333333 -0.33333333]\n",
      " [ 0.          1.          0.25      ]\n",
      " [ 0.          1.66666667  4.66666667]]\n",
      "[[ 1.         -0.33333333 -0.33333333]\n",
      " [ 0.          1.          0.25      ]\n",
      " [ 0.          0.          1.        ]]\n",
      "[0.33333333 1.25       1.        ]\n"
     ]
    }
   ],
   "source": [
    "Xsol, NewM, Newb = GetGaussianElimination(M,b)\n",
    "print(Xsol)"
   ]
  },
  {
   "cell_type": "code",
   "execution_count": null,
   "metadata": {},
   "outputs": [],
   "source": []
  }
 ],
 "metadata": {
  "kernelspec": {
   "display_name": "Python 3",
   "language": "python",
   "name": "python3"
  },
  "language_info": {
   "codemirror_mode": {
    "name": "ipython",
    "version": 2
   },
   "file_extension": ".py",
   "mimetype": "text/x-python",
   "name": "python",
   "nbconvert_exporter": "python",
   "pygments_lexer": "ipython2",
   "version": "2.7.16"
  }
 },
 "nbformat": 4,
 "nbformat_minor": 2
}
