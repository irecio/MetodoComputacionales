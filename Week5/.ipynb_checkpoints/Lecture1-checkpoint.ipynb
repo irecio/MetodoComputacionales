{
 "cells": [
  {
   "cell_type": "code",
   "execution_count": 1,
   "metadata": {},
   "outputs": [],
   "source": [
    "%matplotlib notebook\n",
    "import numpy as np\n",
    "import matplotlib.pyplot as plt\n",
    "from mpl_toolkits.mplot3d import Axes3D\n",
    "from matplotlib import cm"
   ]
  },
  {
   "cell_type": "code",
   "execution_count": 28,
   "metadata": {},
   "outputs": [
    {
     "data": {
      "text/html": [
       "\n",
       "        <iframe\n",
       "            width=\"600\"\n",
       "            height=\"400\"\n",
       "            src=\"Lectures/Jacobi_GaussSeidel.pdf\"\n",
       "            frameborder=\"0\"\n",
       "            allowfullscreen\n",
       "        ></iframe>\n",
       "        "
      ],
      "text/plain": [
       "<IPython.lib.display.IFrame at 0x7faafce3ab10>"
      ]
     },
     "execution_count": 28,
     "metadata": {},
     "output_type": "execute_result"
    }
   ],
   "source": [
    "from IPython.display import IFrame, display\n",
    "file = 'Lectures/Jacobi_GaussSeidel.pdf'\n",
    "IFrame(file, width=600, height=400)"
   ]
  },
  {
   "cell_type": "markdown",
   "metadata": {},
   "source": [
    "# Arrays with numpy "
   ]
  },
  {
   "cell_type": "code",
   "execution_count": 4,
   "metadata": {},
   "outputs": [
    {
     "data": {
      "text/plain": [
       "[1.0, 3.0, 6.0, 1.0, 3.0, 6.0]"
      ]
     },
     "execution_count": 4,
     "metadata": {},
     "output_type": "execute_result"
    }
   ],
   "source": [
    "x = [1.,3.,6.]\n",
    "x+x"
   ]
  },
  {
   "cell_type": "code",
   "execution_count": 5,
   "metadata": {},
   "outputs": [
    {
     "data": {
      "text/plain": [
       "array([ 2.,  6., 12.])"
      ]
     },
     "execution_count": 5,
     "metadata": {},
     "output_type": "execute_result"
    }
   ],
   "source": [
    "y = np.array([1.,3.,6.])\n",
    "y+y"
   ]
  },
  {
   "cell_type": "code",
   "execution_count": 6,
   "metadata": {},
   "outputs": [
    {
     "data": {
      "text/plain": [
       "array([ 8.41470985e-01,  3.42921620e+01, -2.17273491e+03])"
      ]
     },
     "execution_count": 6,
     "metadata": {},
     "output_type": "execute_result"
    }
   ],
   "source": [
    "np.sin(y)*y**5"
   ]
  },
  {
   "cell_type": "code",
   "execution_count": 9,
   "metadata": {},
   "outputs": [
    {
     "data": {
      "text/plain": [
       "array([[ 1,  4,  9],\n",
       "       [16, 25, 36],\n",
       "       [49, 64, 81]])"
      ]
     },
     "execution_count": 9,
     "metadata": {},
     "output_type": "execute_result"
    }
   ],
   "source": [
    "a = np.array([[1,2,3],[4,5,6],[7,8,9]])\n",
    "a*a"
   ]
  },
  {
   "cell_type": "code",
   "execution_count": 10,
   "metadata": {},
   "outputs": [
    {
     "data": {
      "text/plain": [
       "array([[ 30,  36,  42],\n",
       "       [ 66,  81,  96],\n",
       "       [102, 126, 150]])"
      ]
     },
     "execution_count": 10,
     "metadata": {},
     "output_type": "execute_result"
    }
   ],
   "source": [
    "np.dot(a,a)"
   ]
  },
  {
   "cell_type": "code",
   "execution_count": 11,
   "metadata": {},
   "outputs": [
    {
     "data": {
      "text/plain": [
       "array([[ 3,  8, 15],\n",
       "       [12, 20, 30],\n",
       "       [21, 32, 45]])"
      ]
     },
     "execution_count": 11,
     "metadata": {},
     "output_type": "execute_result"
    }
   ],
   "source": [
    "x = np.array([3,4,5])\n",
    "a*x"
   ]
  },
  {
   "cell_type": "code",
   "execution_count": 12,
   "metadata": {},
   "outputs": [
    {
     "data": {
      "text/plain": [
       "array([54, 66, 78])"
      ]
     },
     "execution_count": 12,
     "metadata": {},
     "output_type": "execute_result"
    }
   ],
   "source": [
    "np.dot(x,a)"
   ]
  },
  {
   "cell_type": "code",
   "execution_count": 14,
   "metadata": {},
   "outputs": [
    {
     "name": "stdout",
     "output_type": "stream",
     "text": [
      "[[1 2 3]\n",
      " [4 5 6]\n",
      " [7 8 9]]\n",
      "[[1 4 7]\n",
      " [2 5 8]\n",
      " [3 6 9]]\n"
     ]
    }
   ],
   "source": [
    "# Transpuesta\n",
    "print(a)\n",
    "print(a.T)"
   ]
  },
  {
   "cell_type": "code",
   "execution_count": 16,
   "metadata": {},
   "outputs": [
    {
     "name": "stdout",
     "output_type": "stream",
     "text": [
      "[3 4 5]\n",
      "[3 4 5]\n"
     ]
    }
   ],
   "source": [
    "print(x)\n",
    "print(x.T)"
   ]
  },
  {
   "cell_type": "code",
   "execution_count": 17,
   "metadata": {},
   "outputs": [
    {
     "data": {
      "text/plain": [
       "matrix([[1, 2, 3],\n",
       "        [4, 5, 6],\n",
       "        [7, 8, 9]])"
      ]
     },
     "execution_count": 17,
     "metadata": {},
     "output_type": "execute_result"
    }
   ],
   "source": [
    "# Otras formas de definir M\n",
    "np.matrix(\"1,2,3;4,5,6;7,8,9\")"
   ]
  },
  {
   "cell_type": "code",
   "execution_count": 18,
   "metadata": {},
   "outputs": [
    {
     "data": {
      "text/plain": [
       "4"
      ]
     },
     "execution_count": 18,
     "metadata": {},
     "output_type": "execute_result"
    }
   ],
   "source": [
    "a = np.matrix(\"3,4,5\")\n",
    "a[0,1]"
   ]
  },
  {
   "cell_type": "code",
   "execution_count": 21,
   "metadata": {},
   "outputs": [
    {
     "data": {
      "text/plain": [
       "2"
      ]
     },
     "execution_count": 21,
     "metadata": {},
     "output_type": "execute_result"
    }
   ],
   "source": [
    "#np.rank(np.array(a)) # Actualizado\n",
    "np.ndim(np.array(a))"
   ]
  },
  {
   "cell_type": "code",
   "execution_count": 22,
   "metadata": {},
   "outputs": [],
   "source": [
    "# Obtener auto-valores y auto-vectores."
   ]
  },
  {
   "cell_type": "code",
   "execution_count": 25,
   "metadata": {},
   "outputs": [
    {
     "name": "stdout",
     "output_type": "stream",
     "text": [
      "[ 1.61168440e+01 -1.11684397e+00 -1.30367773e-15]\n",
      "[[-0.23197069 -0.78583024  0.40824829]\n",
      " [-0.52532209 -0.08675134 -0.81649658]\n",
      " [-0.8186735   0.61232756  0.40824829]]\n"
     ]
    }
   ],
   "source": [
    "a=np.array([[1.,2,3],[4,5,6],[7,8,9]])\n",
    "evals, evecs = np.linalg.eig(a)\n",
    "print(evals); print(evecs)"
   ]
  },
  {
   "cell_type": "markdown",
   "metadata": {},
   "source": [
    "# Matriz para invertir"
   ]
  },
  {
   "cell_type": "code",
   "execution_count": 26,
   "metadata": {},
   "outputs": [
    {
     "name": "stdout",
     "output_type": "stream",
     "text": [
      "[[ 3. -1. -1.]\n",
      " [-1.  3.  1.]\n",
      " [ 2.  1.  4.]]\n"
     ]
    }
   ],
   "source": [
    "M = np.array([[3,-1,-1],[-1.,3.,1.],[2,1,4]])\n",
    "print(M)"
   ]
  },
  {
   "cell_type": "code",
   "execution_count": 27,
   "metadata": {},
   "outputs": [
    {
     "name": "stdout",
     "output_type": "stream",
     "text": [
      "[1. 3. 7.]\n"
     ]
    }
   ],
   "source": [
    "b = np.array([1.,3.,7.])\n",
    "print(b)"
   ]
  },
  {
   "cell_type": "code",
   "execution_count": 29,
   "metadata": {},
   "outputs": [
    {
     "name": "stdout",
     "output_type": "stream",
     "text": [
      "(array([ 3., -1., -1.]), array([ 3., -1.,  2.]))\n"
     ]
    }
   ],
   "source": [
    "# M.shape[0] para numero de fila\n",
    "# M.shape[1] para numero de columnas\n",
    "n = M.shape[1]\n",
    "x = np.zeros(n)\n",
    "\n",
    "print(M[0,:], M[:,0])"
   ]
  },
  {
   "cell_type": "markdown",
   "metadata": {},
   "source": [
    "# Método de Jacobi\n",
    "\n",
    "$$ x_{i}^{k+1} = \\frac{1}{a_{ii}}( b_{i} - \\sum_{i \\neq j} a_{ij}x_{j}^{k} ), i = 1,2,3,... $$"
   ]
  },
  {
   "cell_type": "code",
   "execution_count": 30,
   "metadata": {},
   "outputs": [],
   "source": [
    "def GetJacobiMethod(Matrix, bvector, itmax, error):\n",
    "    n = Matrix.shape[1]\n",
    "    x = np.zeros(n)\n",
    "    sumk = np.zeros(n)\n",
    "    \n",
    "    it = 0\n",
    "    \n",
    "    residuo = np.linalg.norm(bvector - np.dot(Matrix, x))\n",
    "    \n",
    "    while( residuo > error and it < itmax ):\n",
    "        it += 1\n",
    "        \n",
    "        for i in range(len(Matrix[0,:])):\n",
    "            sum_ = 0\n",
    "            for j in range(len(Matrix[:,0])):\n",
    "                if( i != j ):\n",
    "                    sum_ += Matrix[i][j]*x[j]\n",
    "            \n",
    "            sumk[i] = sum_;\n",
    "            \n",
    "        for i in range(len(Matrix[0,:])):\n",
    "            \n",
    "            if(Matrix[i,i] != 0):\n",
    "                x[i] = (bvector[i]- sumk[i])/Matrix[i,i]\n",
    "            else:\n",
    "                print('No invertible con Jacobi')\n",
    "                return\n",
    "            \n",
    "        print(x)\n",
    "        residuo = np.linalg.norm(bvector - np.dot(Matrix, x))\n",
    "            \n",
    "    return x, it, error"
   ]
  },
  {
   "cell_type": "code",
   "execution_count": 52,
   "metadata": {},
   "outputs": [
    {
     "name": "stdout",
     "output_type": "stream",
     "text": [
      "[0.33333333 1.         1.75      ]\n",
      "[1.25       0.52777778 1.33333333]\n",
      "[0.9537037  0.97222222 0.99305556]\n",
      "[0.98842593 0.98688272 1.03009259]\n",
      "[1.00565844 0.98611111 1.00906636]\n",
      "[0.99839249 0.99886403 1.000643  ]\n",
      "[0.99983568 0.99924983 1.00108775]\n",
      "[1.00011253 0.99958264 1.0002697 ]\n",
      "[0.99995078 0.99994761 1.00004808]\n",
      "[0.99999856 0.99996757 1.00003771]\n",
      "[1.00000176 0.99998695 1.00000883]\n",
      "[0.99999859 0.99999764 1.00000238]\n",
      "[1.00000001 0.99999874 1.00000129]\n",
      "[1.00000001 0.99999957 1.00000031]\n",
      "[0.99999996 0.9999999  1.0000001 ]\n",
      "[1.         0.99999995 1.00000004]\n",
      "[1.         0.99999999 1.00000001]\n",
      "[1. 1. 1.]\n",
      "[1. 1. 1.]\n",
      "[1. 1. 1.]\n",
      "[1. 1. 1.]\n",
      "[1. 1. 1.]\n",
      "[1. 1. 1.]\n",
      "[1. 1. 1.]\n",
      "(23, 1e-10)\n"
     ]
    }
   ],
   "source": [
    "Xsol, it , error = GetJacobiMethod(M, b, 30, 1e-10)\n",
    "print(Xsol)\n",
    "print(it, error)"
   ]
  },
  {
   "cell_type": "code",
   "execution_count": 33,
   "metadata": {},
   "outputs": [],
   "source": [
    "M1 = np.array([[3,-0.1,-0.2],[0.1,7.,-0.3],[0.3,-0.2,10]])\n",
    "b1 = np.array([7.85,-19.3,71.4])"
   ]
  },
  {
   "cell_type": "code",
   "execution_count": 45,
   "metadata": {},
   "outputs": [
    {
     "name": "stdout",
     "output_type": "stream",
     "text": [
      "[ 2.61666667 -2.75714286  7.14      ]\n",
      "[ 3.0007619  -2.48852381  7.00635714]\n",
      "[ 3.00080635 -2.49973844  7.00020667]\n",
      "[ 3.0000225  -2.50000266  6.99998104]\n",
      "[ 2.99999865 -2.50000113  6.99999927]\n",
      "[ 2.99999991 -2.50000001  7.00000002]\n",
      "[ 3.  -2.5  7. ]\n",
      "[ 3.  -2.5  7. ]\n",
      "[ 3.  -2.5  7. ]\n",
      "[ 3.  -2.5  7. ]\n",
      "(9, 1e-10)\n"
     ]
    }
   ],
   "source": [
    "Xsol, it, error = GetJacobiMethod(M1,b1, 30, 1e-10)\n",
    "print(Xsol)\n",
    "print(it, error)"
   ]
  },
  {
   "cell_type": "markdown",
   "metadata": {},
   "source": [
    "# Get T matrix\n",
    "\n",
    "$$ T = D^{-1}R $$"
   ]
  },
  {
   "cell_type": "code",
   "execution_count": 36,
   "metadata": {},
   "outputs": [],
   "source": [
    "def GetTMatrix(Matrix):\n",
    "    \n",
    "    D = np.zeros((Matrix.shape[0],Matrix.shape[1]))\n",
    "    R = np.zeros((Matrix.shape[0],Matrix.shape[1])) \n",
    "    T = np.zeros((Matrix.shape[0],Matrix.shape[1]))\n",
    "    \n",
    "    for i in range(len(Matrix[0,:])):\n",
    "        for j in range(len(Matrix[:,0])):\n",
    "            if( i == j):\n",
    "                D[i,j] = 1./Matrix[i,j]\n",
    "            else:\n",
    "                R[i,j] = Matrix[i,j]\n",
    "                \n",
    "    T = np.dot(D,R)\n",
    "    return T"
   ]
  },
  {
   "cell_type": "code",
   "execution_count": 37,
   "metadata": {},
   "outputs": [
    {
     "name": "stdout",
     "output_type": "stream",
     "text": [
      "[[ 0.         -0.33333333 -0.33333333]\n",
      " [-0.33333333  0.          0.33333333]\n",
      " [ 0.5         0.25        0.        ]]\n"
     ]
    }
   ],
   "source": [
    "T = GetTMatrix(M)\n",
    "print(T)"
   ]
  },
  {
   "cell_type": "markdown",
   "metadata": {},
   "source": [
    "# Teorema\n",
    "\n",
    "Si A es una matriz estrictamente diagonal dominante, entonces la iteración del método de Jacobi converge para cualquier valor inicial.\n",
    "\n",
    "# Teorema\n",
    "\n",
    "La sucesión $x^{k+1} = Tx^{k} + c$, para $k \\ge 0$ converge a la sucesión única $x = Tx + c$ si y sólo si $\\rho(T) < 1$\n",
    "\n",
    "Definición de radio espectral: \n",
    "\n",
    "Si $\\lambda_{1},...,\\lambda_{n}$ son los valores propios de una matriz $A$, entonces su radio espectral $\\rho(A)$ se define como:\n",
    "\n",
    "$$ \\rho(A) := \\underbrace{max}_{i}(|\\lambda_{i}|) $$"
   ]
  },
  {
   "cell_type": "code",
   "execution_count": 39,
   "metadata": {},
   "outputs": [
    {
     "name": "stdout",
     "output_type": "stream",
     "text": [
      "[-0.33333333+0.j          0.16666667+0.23570226j  0.16666667-0.23570226j]\n",
      "[[-0.07412493+0.00000000e+00j  0.60302269+1.38777878e-17j\n",
      "   0.60302269-1.38777878e-17j]\n",
      " [-0.74124932+0.00000000e+00j -0.60302269+0.00000000e+00j\n",
      "  -0.60302269-0.00000000e+00j]\n",
      " [ 0.66712438+0.00000000e+00j  0.30151134-4.26401433e-01j\n",
      "   0.30151134+4.26401433e-01j]]\n"
     ]
    }
   ],
   "source": [
    "# Calculando eigen-valores y eigen-vectores\n",
    "valores, vectores = np.linalg.eig(T)\n",
    "print(valores)\n",
    "print(vectores)"
   ]
  },
  {
   "cell_type": "code",
   "execution_count": 40,
   "metadata": {},
   "outputs": [
    {
     "name": "stdout",
     "output_type": "stream",
     "text": [
      "(array([0.33333333, 0.28867513, 0.28867513]), 0.33333333333333315)\n"
     ]
    }
   ],
   "source": [
    "print(abs(valores), np.amax(abs(valores)))"
   ]
  },
  {
   "cell_type": "markdown",
   "metadata": {},
   "source": [
    "# Método de Gauss-Seidel"
   ]
  },
  {
   "cell_type": "code",
   "execution_count": 42,
   "metadata": {},
   "outputs": [],
   "source": [
    "M = np.array([[3,-1,-1],[-1.,3.,1.],[2,1,4]])\n",
    "b = np.array([1.,3.,7.])\n",
    "n = M.shape[1]\n",
    "x = np.zeros(n)"
   ]
  },
  {
   "cell_type": "code",
   "execution_count": 50,
   "metadata": {},
   "outputs": [],
   "source": [
    "def GetGaussSeidelMethod(Matrix, bvector, itmax, error):\n",
    "    \n",
    "    n = Matrix.shape[1]\n",
    "    x = np.zeros(n)\n",
    "    \n",
    "    r = np.linalg.norm(bvector - np.dot(Matrix, x)) \n",
    "    it = 0\n",
    "    \n",
    "    while r > error and it < itmax:\n",
    "        it += 1\n",
    "        \n",
    "        for i in range(len(Matrix[0,:])):\n",
    "            sum_ = 0\n",
    "            for j in range(len(Matrix[:,0])):\n",
    "                if( i!=j ):\n",
    "                    sum_ += Matrix[i,j]*x[j]\n",
    "            \n",
    "            x[i] = (bvector[i] - sum_)/Matrix[i,i]\n",
    "            \n",
    "        print(x)\n",
    "        r = np.linalg.norm(bvector - np.dot(Matrix, x)) \n",
    "        \n",
    "    return x, r, it"
   ]
  },
  {
   "cell_type": "code",
   "execution_count": 51,
   "metadata": {},
   "outputs": [
    {
     "name": "stdout",
     "output_type": "stream",
     "text": [
      "[0.33333333 1.11111111 1.30555556]\n",
      "[1.13888889 0.94444444 0.94444444]\n",
      "[0.96296296 1.00617284 1.01697531]\n",
      "[1.00771605 0.99691358 0.99691358]\n",
      "[0.99794239 1.00034294 1.00094307]\n",
      "[1.00042867 0.99982853 0.99982853]\n",
      "[0.99988569 1.00001905 1.00005239]\n",
      "[1.00002381 0.99999047 0.99999047]\n",
      "[0.99999365 1.00000106 1.00000291]\n",
      "[1.00000132 0.99999947 0.99999947]\n",
      "[0.99999965 1.00000006 1.00000016]\n",
      "[1.00000007 0.99999997 0.99999997]\n",
      "[0.99999998 1.         1.00000001]\n",
      "[1. 1. 1.]\n",
      "[1. 1. 1.]\n",
      "[1. 1. 1.]\n",
      "[1. 1. 1.]\n",
      "[1. 1. 1.]\n",
      "[1. 1. 1.]\n",
      "(18, 5.8030712832710874e-11)\n"
     ]
    }
   ],
   "source": [
    "Xsol, error, it = GetGaussSeidelMethod(M, b, 30, 1e-10)\n",
    "print(Xsol)\n",
    "print(it, error)"
   ]
  },
  {
   "cell_type": "markdown",
   "metadata": {},
   "source": [
    "# Usando numpy"
   ]
  },
  {
   "cell_type": "code",
   "execution_count": 54,
   "metadata": {},
   "outputs": [
    {
     "name": "stdout",
     "output_type": "stream",
     "text": [
      "[1. 1. 1.]\n"
     ]
    }
   ],
   "source": [
    "Sol = np.linalg.solve(M,b)\n",
    "print(Sol)"
   ]
  },
  {
   "cell_type": "code",
   "execution_count": null,
   "metadata": {},
   "outputs": [],
   "source": []
  }
 ],
 "metadata": {
  "kernelspec": {
   "display_name": "Python 3",
   "language": "python",
   "name": "python3"
  },
  "language_info": {
   "codemirror_mode": {
    "name": "ipython",
    "version": 2
   },
   "file_extension": ".py",
   "mimetype": "text/x-python",
   "name": "python",
   "nbconvert_exporter": "python",
   "pygments_lexer": "ipython2",
   "version": "2.7.16"
  }
 },
 "nbformat": 4,
 "nbformat_minor": 2
}
