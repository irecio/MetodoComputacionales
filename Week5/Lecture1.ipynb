{
 "cells": [
  {
   "cell_type": "code",
   "execution_count": 1,
   "metadata": {},
   "outputs": [],
   "source": [
    "%matplotlib notebook\n",
    "import numpy as np\n",
    "import matplotlib.pyplot as plt\n",
    "from mpl_toolkits.mplot3d import Axes3D\n",
    "from matplotlib import cm"
   ]
  },
  {
   "cell_type": "code",
   "execution_count": 28,
   "metadata": {},
   "outputs": [
    {
     "data": {
      "text/html": [
       "\n",
       "        <iframe\n",
       "            width=\"600\"\n",
       "            height=\"400\"\n",
       "            src=\"Lectures/Jacobi_GaussSeidel.pdf\"\n",
       "            frameborder=\"0\"\n",
       "            allowfullscreen\n",
       "        ></iframe>\n",
       "        "
      ],
      "text/plain": [
       "<IPython.lib.display.IFrame at 0x7faafce3ab10>"
      ]
     },
     "execution_count": 28,
     "metadata": {},
     "output_type": "execute_result"
    }
   ],
   "source": [
    "from IPython.display import IFrame, display\n",
    "file = 'Lectures/Jacobi_GaussSeidel.pdf'\n",
    "IFrame(file, width=600, height=400)"
   ]
  },
  {
   "cell_type": "markdown",
   "metadata": {},
   "source": [
    "# Arrays with numpy "
   ]
  },
  {
   "cell_type": "code",
   "execution_count": 4,
   "metadata": {},
   "outputs": [
    {
     "data": {
      "text/plain": [
       "[1.0, 3.0, 6.0, 1.0, 3.0, 6.0]"
      ]
     },
     "execution_count": 4,
     "metadata": {},
     "output_type": "execute_result"
    }
   ],
   "source": [
    "x = [1.,3.,6.]\n",
    "x+x"
   ]
  },
  {
   "cell_type": "code",
   "execution_count": 5,
   "metadata": {},
   "outputs": [
    {
     "data": {
      "text/plain": [
       "array([ 2.,  6., 12.])"
      ]
     },
     "execution_count": 5,
     "metadata": {},
     "output_type": "execute_result"
    }
   ],
   "source": [
    "y = np.array([1.,3.,6.])\n",
    "y+y"
   ]
  },
  {
   "cell_type": "code",
   "execution_count": 6,
   "metadata": {},
   "outputs": [
    {
     "data": {
      "text/plain": [
       "array([ 8.41470985e-01,  3.42921620e+01, -2.17273491e+03])"
      ]
     },
     "execution_count": 6,
     "metadata": {},
     "output_type": "execute_result"
    }
   ],
   "source": [
    "np.sin(y)*y**5"
   ]
  },
  {
   "cell_type": "code",
   "execution_count": 9,
   "metadata": {},
   "outputs": [
    {
     "data": {
      "text/plain": [
       "array([[ 1,  4,  9],\n",
       "       [16, 25, 36],\n",
       "       [49, 64, 81]])"
      ]
     },
     "execution_count": 9,
     "metadata": {},
     "output_type": "execute_result"
    }
   ],
   "source": [
    "a = np.array([[1,2,3],[4,5,6],[7,8,9]])\n",
    "a*a"
   ]
  },
  {
   "cell_type": "code",
   "execution_count": 10,
   "metadata": {},
   "outputs": [
    {
     "data": {
      "text/plain": [
       "array([[ 30,  36,  42],\n",
       "       [ 66,  81,  96],\n",
       "       [102, 126, 150]])"
      ]
     },
     "execution_count": 10,
     "metadata": {},
     "output_type": "execute_result"
    }
   ],
   "source": [
    "np.dot(a,a)"
   ]
  },
  {
   "cell_type": "code",
   "execution_count": 11,
   "metadata": {},
   "outputs": [
    {
     "data": {
      "text/plain": [
       "array([[ 3,  8, 15],\n",
       "       [12, 20, 30],\n",
       "       [21, 32, 45]])"
      ]
     },
     "execution_count": 11,
     "metadata": {},
     "output_type": "execute_result"
    }
   ],
   "source": [
    "x = np.array([3,4,5])\n",
    "a*x"
   ]
  },
  {
   "cell_type": "code",
   "execution_count": 12,
   "metadata": {},
   "outputs": [
    {
     "data": {
      "text/plain": [
       "array([54, 66, 78])"
      ]
     },
     "execution_count": 12,
     "metadata": {},
     "output_type": "execute_result"
    }
   ],
   "source": [
    "np.dot(x,a)"
   ]
  },
  {
   "cell_type": "code",
   "execution_count": 14,
   "metadata": {},
   "outputs": [
    {
     "name": "stdout",
     "output_type": "stream",
     "text": [
      "[[1 2 3]\n",
      " [4 5 6]\n",
      " [7 8 9]]\n",
      "[[1 4 7]\n",
      " [2 5 8]\n",
      " [3 6 9]]\n"
     ]
    }
   ],
   "source": [
    "# Transpuesta\n",
    "print(a)\n",
    "print(a.T)"
   ]
  },
  {
   "cell_type": "code",
   "execution_count": 16,
   "metadata": {},
   "outputs": [
    {
     "name": "stdout",
     "output_type": "stream",
     "text": [
      "[3 4 5]\n",
      "[3 4 5]\n"
     ]
    }
   ],
   "source": [
    "print(x)\n",
    "print(x.T)"
   ]
  },
  {
   "cell_type": "code",
   "execution_count": 17,
   "metadata": {},
   "outputs": [
    {
     "data": {
      "text/plain": [
       "matrix([[1, 2, 3],\n",
       "        [4, 5, 6],\n",
       "        [7, 8, 9]])"
      ]
     },
     "execution_count": 17,
     "metadata": {},
     "output_type": "execute_result"
    }
   ],
   "source": [
    "# Otras formas de definir M\n",
    "np.matrix(\"1,2,3;4,5,6;7,8,9\")"
   ]
  },
  {
   "cell_type": "code",
   "execution_count": 18,
   "metadata": {},
   "outputs": [
    {
     "data": {
      "text/plain": [
       "4"
      ]
     },
     "execution_count": 18,
     "metadata": {},
     "output_type": "execute_result"
    }
   ],
   "source": [
    "a = np.matrix(\"3,4,5\")\n",
    "a[0,1]"
   ]
  },
  {
   "cell_type": "code",
   "execution_count": 21,
   "metadata": {},
   "outputs": [
    {
     "data": {
      "text/plain": [
       "2"
      ]
     },
     "execution_count": 21,
     "metadata": {},
     "output_type": "execute_result"
    }
   ],
   "source": [
    "#np.rank(np.array(a)) # Actualizado\n",
    "np.ndim(np.array(a))"
   ]
  },
  {
   "cell_type": "code",
   "execution_count": 22,
   "metadata": {},
   "outputs": [],
   "source": [
    "# Obtener auto-valores y auto-vectores."
   ]
  },
  {
   "cell_type": "code",
   "execution_count": 25,
   "metadata": {},
   "outputs": [
    {
     "name": "stdout",
     "output_type": "stream",
     "text": [
      "[ 1.61168440e+01 -1.11684397e+00 -1.30367773e-15]\n",
      "[[-0.23197069 -0.78583024  0.40824829]\n",
      " [-0.52532209 -0.08675134 -0.81649658]\n",
      " [-0.8186735   0.61232756  0.40824829]]\n"
     ]
    }
   ],
   "source": [
    "a=np.array([[1.,2,3],[4,5,6],[7,8,9]])\n",
    "evals, evecs = np.linalg.eig(a)\n",
    "print(evals); print(evecs)"
   ]
  },
  {
   "cell_type": "markdown",
   "metadata": {},
   "source": [
    "# Matriz para invertir"
   ]
  },
  {
   "cell_type": "code",
   "execution_count": 26,
   "metadata": {},
   "outputs": [
    {
     "name": "stdout",
     "output_type": "stream",
     "text": [
      "[[ 3. -1. -1.]\n",
      " [-1.  3.  1.]\n",
      " [ 2.  1.  4.]]\n"
     ]
    }
   ],
   "source": [
    "M = np.array([[3,-1,-1],[-1.,3.,1.],[2,1,4]])\n",
    "print(M)"
   ]
  },
  {
   "cell_type": "code",
   "execution_count": 27,
   "metadata": {},
   "outputs": [
    {
     "name": "stdout",
     "output_type": "stream",
     "text": [
      "[1. 3. 7.]\n"
     ]
    }
   ],
   "source": [
    "b = np.array([1.,3.,7.])\n",
    "print(b)"
   ]
  },
  {
   "cell_type": "code",
   "execution_count": 29,
   "metadata": {},
   "outputs": [
    {
     "name": "stdout",
     "output_type": "stream",
     "text": [
      "(array([ 3., -1., -1.]), array([ 3., -1.,  2.]))\n"
     ]
    }
   ],
   "source": [
    "# M.shape[0] para numero de fila\n",
    "# M.shape[1] para numero de columnas\n",
    "n = M.shape[1]\n",
    "x = np.zeros(n)\n",
    "\n",
    "print(M[0,:], M[:,0])"
   ]
  },
  {
   "cell_type": "markdown",
   "metadata": {},
   "source": [
    "# Método de Jacobi\n",
    "\n",
    "$$ x_{i}^{k+1} = \\frac{1}{a_{ii}}( b_{i} - \\sum_{i \\neq j} a_{ij}x_{j}^{k} ), i = 1,2,3,... $$"
   ]
  },
  {
   "cell_type": "code",
   "execution_count": 30,
   "metadata": {},
   "outputs": [],
   "source": [
    "def GetJacobiMethod(Matrix, bvector, itmax, error):\n",
    "    n = Matrix.shape[1]\n",
    "    x = np.zeros(n)\n",
    "    sumk = np.zeros(n)\n",
    "    \n",
    "    it = 0\n",
    "    \n",
    "    residuo = np.linalg.norm(bvector - np.dot(Matrix, x))\n",
    "    \n",
    "    while( residuo > error and it < itmax ):\n",
    "        it += 1\n",
    "        \n",
    "        for i in range(len(Matrix[0,:])):\n",
    "            sum_ = 0\n",
    "            for j in range(len(Matrix[:,0])):\n",
    "                if( i != j ):\n",
    "                    sum_ += Matrix[i][j]*x[j]\n",
    "            \n",
    "            sumk[i] = sum_;\n",
    "            \n",
    "        for i in range(len(Matrix[0,:])):\n",
    "            \n",
    "            if(Matrix[i,i] != 0):\n",
    "                x[i] = (bvector[i]- sumk[i])/Matrix[i,i]\n",
    "            else:\n",
    "                print('No invertible con Jacobi')\n",
    "                return\n",
    "            \n",
    "        print(x)\n",
    "        residuo = np.linalg.norm(bvector - np.dot(Matrix, x))\n",
    "            \n",
    "    return x, it, error"
   ]
  },
  {
   "cell_type": "code",
   "execution_count": 52,
   "metadata": {},
   "outputs": [
    {
     "name": "stdout",
     "output_type": "stream",
     "text": [
      "[0.33333333 1.         1.75      ]\n",
      "[1.25       0.52777778 1.33333333]\n",
      "[0.9537037  0.97222222 0.99305556]\n",
      "[0.98842593 0.98688272 1.03009259]\n",
      "[1.00565844 0.98611111 1.00906636]\n",
      "[0.99839249 0.99886403 1.000643  ]\n",
      "[0.99983568 0.99924983 1.00108775]\n",
      "[1.00011253 0.99958264 1.0002697 ]\n",
      "[0.99995078 0.99994761 1.00004808]\n",
      "[0.99999856 0.99996757 1.00003771]\n",
      "[1.00000176 0.99998695 1.00000883]\n",
      "[0.99999859 0.99999764 1.00000238]\n",
      "[1.00000001 0.99999874 1.00000129]\n",
      "[1.00000001 0.99999957 1.00000031]\n",
      "[0.99999996 0.9999999  1.0000001 ]\n",
      "[1.         0.99999995 1.00000004]\n",
      "[1.         0.99999999 1.00000001]\n",
      "[1. 1. 1.]\n",
      "[1. 1. 1.]\n",
      "[1. 1. 1.]\n",
      "[1. 1. 1.]\n",
      "[1. 1. 1.]\n",
      "[1. 1. 1.]\n",
      "[1. 1. 1.]\n",
      "(23, 1e-10)\n"
     ]
    }
   ],
   "source": [
    "Xsol, it , error = GetJacobiMethod(M, b, 30, 1e-10)\n",
    "print(Xsol)\n",
    "print(it, error)"
   ]
  },
  {
   "cell_type": "code",
   "execution_count": 33,
   "metadata": {},
   "outputs": [],
   "source": [
    "M1 = np.array([[3,-0.1,-0.2],[0.1,7.,-0.3],[0.3,-0.2,10]])\n",
    "b1 = np.array([7.85,-19.3,71.4])"
   ]
  },
  {
   "cell_type": "code",
   "execution_count": 45,
   "metadata": {},
   "outputs": [
    {
     "name": "stdout",
     "output_type": "stream",
     "text": [
      "[ 2.61666667 -2.75714286  7.14      ]\n",
      "[ 3.0007619  -2.48852381  7.00635714]\n",
      "[ 3.00080635 -2.49973844  7.00020667]\n",
      "[ 3.0000225  -2.50000266  6.99998104]\n",
      "[ 2.99999865 -2.50000113  6.99999927]\n",
      "[ 2.99999991 -2.50000001  7.00000002]\n",
      "[ 3.  -2.5  7. ]\n",
      "[ 3.  -2.5  7. ]\n",
      "[ 3.  -2.5  7. ]\n",
      "[ 3.  -2.5  7. ]\n",
      "(9, 1e-10)\n"
     ]
    }
   ],
   "source": [
    "Xsol, it, error = GetJacobiMethod(M1,b1, 30, 1e-10)\n",
    "print(Xsol)\n",
    "print(it, error)"
   ]
  },
  {
   "cell_type": "markdown",
   "metadata": {},
   "source": [
    "# Get T matrix\n",
    "\n",
    "$$ T = D^{-1}R $$"
   ]
  },
  {
   "cell_type": "code",
   "execution_count": 36,
   "metadata": {},
   "outputs": [],
   "source": [
    "def GetTMatrix(Matrix):\n",
    "    \n",
    "    D = np.zeros((Matrix.shape[0],Matrix.shape[1]))\n",
    "    R = np.zeros((Matrix.shape[0],Matrix.shape[1])) \n",
    "    T = np.zeros((Matrix.shape[0],Matrix.shape[1]))\n",
    "    \n",
    "    for i in range(len(Matrix[0,:])):\n",
    "        for j in range(len(Matrix[:,0])):\n",
    "            if( i == j):\n",
    "                D[i,j] = 1./Matrix[i,j]\n",
    "            else:\n",
    "                R[i,j] = Matrix[i,j]\n",
    "                \n",
    "    T = np.dot(D,R)\n",
    "    return T"
   ]
  },
  {
   "cell_type": "code",
   "execution_count": 37,
   "metadata": {},
   "outputs": [
    {
     "name": "stdout",
     "output_type": "stream",
     "text": [
      "[[ 0.         -0.33333333 -0.33333333]\n",
      " [-0.33333333  0.          0.33333333]\n",
      " [ 0.5         0.25        0.        ]]\n"
     ]
    }
   ],
   "source": [
    "T = GetTMatrix(M)\n",
    "print(T)"
   ]
  },
  {
   "cell_type": "markdown",
   "metadata": {},
   "source": [
    "# Teorema\n",
    "\n",
    "Si A es una matriz estrictamente diagonal dominante, entonces la iteración del método de Jacobi converge para cualquier valor inicial.\n",
    "\n",
    "# Teorema\n",
    "\n",
    "La sucesión $x^{k+1} = Tx^{k} + c$, para $k \\ge 0$ converge a la sucesión única $x = Tx + c$ si y sólo si $\\rho(T) < 1$\n",
    "\n",
    "Definición de radio espectral: \n",
    "\n",
    "Si $\\lambda_{1},...,\\lambda_{n}$ son los valores propios de una matriz $A$, entonces su radio espectral $\\rho(A)$ se define como:\n",
    "\n",
    "$$ \\rho(A) := \\underbrace{max}_{i}(|\\lambda_{i}|) $$"
   ]
  },
  {
   "cell_type": "code",
   "execution_count": 39,
   "metadata": {},
   "outputs": [
    {
     "name": "stdout",
     "output_type": "stream",
     "text": [
      "[-0.33333333+0.j          0.16666667+0.23570226j  0.16666667-0.23570226j]\n",
      "[[-0.07412493+0.00000000e+00j  0.60302269+1.38777878e-17j\n",
      "   0.60302269-1.38777878e-17j]\n",
      " [-0.74124932+0.00000000e+00j -0.60302269+0.00000000e+00j\n",
      "  -0.60302269-0.00000000e+00j]\n",
      " [ 0.66712438+0.00000000e+00j  0.30151134-4.26401433e-01j\n",
      "   0.30151134+4.26401433e-01j]]\n"
     ]
    }
   ],
   "source": [
    "# Calculando eigen-valores y eigen-vectores\n",
    "valores, vectores = np.linalg.eig(T)\n",
    "print(valores)\n",
    "print(vectores)"
   ]
  },
  {
   "cell_type": "code",
   "execution_count": 40,
   "metadata": {},
   "outputs": [
    {
     "name": "stdout",
     "output_type": "stream",
     "text": [
      "(array([0.33333333, 0.28867513, 0.28867513]), 0.33333333333333315)\n"
     ]
    }
   ],
   "source": [
    "print(abs(valores), np.amax(abs(valores)))"
   ]
  },
  {
   "cell_type": "markdown",
   "metadata": {},
   "source": [
    "# Método de Gauss-Seidel"
   ]
  },
  {
   "cell_type": "code",
   "execution_count": 42,
   "metadata": {},
   "outputs": [],
   "source": [
    "M = np.array([[3,-1,-1],[-1.,3.,1.],[2,1,4]])\n",
    "b = np.array([1.,3.,7.])\n",
    "n = M.shape[1]\n",
    "x = np.zeros(n)"
   ]
  },
  {
   "cell_type": "code",
   "execution_count": 50,
   "metadata": {},
   "outputs": [],
   "source": [
    "def GetGaussSeidelMethod(Matrix, bvector, itmax, error):\n",
    "    \n",
    "    n = Matrix.shape[1]\n",
    "    x = np.zeros(n)\n",
    "    \n",
    "    r = np.linalg.norm(bvector - np.dot(Matrix, x)) \n",
    "    it = 0\n",
    "    \n",
    "    while r > error and it < itmax:\n",
    "        it += 1\n",
    "        \n",
    "        for i in range(len(Matrix[0,:])):\n",
    "            sum_ = 0\n",
    "            for j in range(len(Matrix[:,0])):\n",
    "                if( i!=j ):\n",
    "                    sum_ += Matrix[i,j]*x[j]\n",
    "            \n",
    "            x[i] = (bvector[i] - sum_)/Matrix[i,i]\n",
    "            \n",
    "        print(x)\n",
    "        r = np.linalg.norm(bvector - np.dot(Matrix, x)) \n",
    "        \n",
    "    return x, r, it"
   ]
  },
  {
   "cell_type": "code",
   "execution_count": 51,
   "metadata": {},
   "outputs": [
    {
     "name": "stdout",
     "output_type": "stream",
     "text": [
      "[0.33333333 1.11111111 1.30555556]\n",
      "[1.13888889 0.94444444 0.94444444]\n",
      "[0.96296296 1.00617284 1.01697531]\n",
      "[1.00771605 0.99691358 0.99691358]\n",
      "[0.99794239 1.00034294 1.00094307]\n",
      "[1.00042867 0.99982853 0.99982853]\n",
      "[0.99988569 1.00001905 1.00005239]\n",
      "[1.00002381 0.99999047 0.99999047]\n",
      "[0.99999365 1.00000106 1.00000291]\n",
      "[1.00000132 0.99999947 0.99999947]\n",
      "[0.99999965 1.00000006 1.00000016]\n",
      "[1.00000007 0.99999997 0.99999997]\n",
      "[0.99999998 1.         1.00000001]\n",
      "[1. 1. 1.]\n",
      "[1. 1. 1.]\n",
      "[1. 1. 1.]\n",
      "[1. 1. 1.]\n",
      "[1. 1. 1.]\n",
      "[1. 1. 1.]\n",
      "(18, 5.8030712832710874e-11)\n"
     ]
    }
   ],
   "source": [
    "Xsol, error, it = GetGaussSeidelMethod(M, b, 30, 1e-10)\n",
    "print(Xsol)\n",
    "print(it, error)"
   ]
  },
  {
   "cell_type": "markdown",
   "metadata": {},
   "source": [
    "# Usando numpy"
   ]
  },
  {
   "cell_type": "code",
   "execution_count": 54,
   "metadata": {},
   "outputs": [
    {
     "name": "stdout",
     "output_type": "stream",
     "text": [
      "[1. 1. 1.]\n"
     ]
    }
   ],
   "source": [
    "Sol = np.linalg.solve(M,b)\n",
    "print(Sol)"
   ]
  },
  {
   "cell_type": "code",
   "execution_count": 57,
   "metadata": {},
   "outputs": [],
   "source": [
    "x, y = np.linspace(0.,2.,20), np.linspace(0.,2.,20)\n",
    "X, Y = np.meshgrid(x,y)"
   ]
  },
  {
   "cell_type": "code",
   "execution_count": 62,
   "metadata": {},
   "outputs": [],
   "source": [
    "Z1 = (b[0] - M[0,0]*X - M[0,1]*Y)/M[0,2]\n",
    "Z2 = (b[1] - M[1,0]*X - M[1,1]*Y)/M[1,2]\n",
    "Z3 = (b[2] - M[2,0]*X - M[2,1]*Y)/M[2,2]"
   ]
  },
  {
   "cell_type": "code",
   "execution_count": 64,
   "metadata": {},
   "outputs": [
    {
     "data": {
      "application/javascript": [
       "/* Put everything inside the global mpl namespace */\n",
       "window.mpl = {};\n",
       "\n",
       "\n",
       "mpl.get_websocket_type = function() {\n",
       "    if (typeof(WebSocket) !== 'undefined') {\n",
       "        return WebSocket;\n",
       "    } else if (typeof(MozWebSocket) !== 'undefined') {\n",
       "        return MozWebSocket;\n",
       "    } else {\n",
       "        alert('Your browser does not have WebSocket support.' +\n",
       "              'Please try Chrome, Safari or Firefox ≥ 6. ' +\n",
       "              'Firefox 4 and 5 are also supported but you ' +\n",
       "              'have to enable WebSockets in about:config.');\n",
       "    };\n",
       "}\n",
       "\n",
       "mpl.figure = function(figure_id, websocket, ondownload, parent_element) {\n",
       "    this.id = figure_id;\n",
       "\n",
       "    this.ws = websocket;\n",
       "\n",
       "    this.supports_binary = (this.ws.binaryType != undefined);\n",
       "\n",
       "    if (!this.supports_binary) {\n",
       "        var warnings = document.getElementById(\"mpl-warnings\");\n",
       "        if (warnings) {\n",
       "            warnings.style.display = 'block';\n",
       "            warnings.textContent = (\n",
       "                \"This browser does not support binary websocket messages. \" +\n",
       "                    \"Performance may be slow.\");\n",
       "        }\n",
       "    }\n",
       "\n",
       "    this.imageObj = new Image();\n",
       "\n",
       "    this.context = undefined;\n",
       "    this.message = undefined;\n",
       "    this.canvas = undefined;\n",
       "    this.rubberband_canvas = undefined;\n",
       "    this.rubberband_context = undefined;\n",
       "    this.format_dropdown = undefined;\n",
       "\n",
       "    this.image_mode = 'full';\n",
       "\n",
       "    this.root = $('<div/>');\n",
       "    this._root_extra_style(this.root)\n",
       "    this.root.attr('style', 'display: inline-block');\n",
       "\n",
       "    $(parent_element).append(this.root);\n",
       "\n",
       "    this._init_header(this);\n",
       "    this._init_canvas(this);\n",
       "    this._init_toolbar(this);\n",
       "\n",
       "    var fig = this;\n",
       "\n",
       "    this.waiting = false;\n",
       "\n",
       "    this.ws.onopen =  function () {\n",
       "            fig.send_message(\"supports_binary\", {value: fig.supports_binary});\n",
       "            fig.send_message(\"send_image_mode\", {});\n",
       "            if (mpl.ratio != 1) {\n",
       "                fig.send_message(\"set_dpi_ratio\", {'dpi_ratio': mpl.ratio});\n",
       "            }\n",
       "            fig.send_message(\"refresh\", {});\n",
       "        }\n",
       "\n",
       "    this.imageObj.onload = function() {\n",
       "            if (fig.image_mode == 'full') {\n",
       "                // Full images could contain transparency (where diff images\n",
       "                // almost always do), so we need to clear the canvas so that\n",
       "                // there is no ghosting.\n",
       "                fig.context.clearRect(0, 0, fig.canvas.width, fig.canvas.height);\n",
       "            }\n",
       "            fig.context.drawImage(fig.imageObj, 0, 0);\n",
       "        };\n",
       "\n",
       "    this.imageObj.onunload = function() {\n",
       "        fig.ws.close();\n",
       "    }\n",
       "\n",
       "    this.ws.onmessage = this._make_on_message_function(this);\n",
       "\n",
       "    this.ondownload = ondownload;\n",
       "}\n",
       "\n",
       "mpl.figure.prototype._init_header = function() {\n",
       "    var titlebar = $(\n",
       "        '<div class=\"ui-dialog-titlebar ui-widget-header ui-corner-all ' +\n",
       "        'ui-helper-clearfix\"/>');\n",
       "    var titletext = $(\n",
       "        '<div class=\"ui-dialog-title\" style=\"width: 100%; ' +\n",
       "        'text-align: center; padding: 3px;\"/>');\n",
       "    titlebar.append(titletext)\n",
       "    this.root.append(titlebar);\n",
       "    this.header = titletext[0];\n",
       "}\n",
       "\n",
       "\n",
       "\n",
       "mpl.figure.prototype._canvas_extra_style = function(canvas_div) {\n",
       "\n",
       "}\n",
       "\n",
       "\n",
       "mpl.figure.prototype._root_extra_style = function(canvas_div) {\n",
       "\n",
       "}\n",
       "\n",
       "mpl.figure.prototype._init_canvas = function() {\n",
       "    var fig = this;\n",
       "\n",
       "    var canvas_div = $('<div/>');\n",
       "\n",
       "    canvas_div.attr('style', 'position: relative; clear: both; outline: 0');\n",
       "\n",
       "    function canvas_keyboard_event(event) {\n",
       "        return fig.key_event(event, event['data']);\n",
       "    }\n",
       "\n",
       "    canvas_div.keydown('key_press', canvas_keyboard_event);\n",
       "    canvas_div.keyup('key_release', canvas_keyboard_event);\n",
       "    this.canvas_div = canvas_div\n",
       "    this._canvas_extra_style(canvas_div)\n",
       "    this.root.append(canvas_div);\n",
       "\n",
       "    var canvas = $('<canvas/>');\n",
       "    canvas.addClass('mpl-canvas');\n",
       "    canvas.attr('style', \"left: 0; top: 0; z-index: 0; outline: 0\")\n",
       "\n",
       "    this.canvas = canvas[0];\n",
       "    this.context = canvas[0].getContext(\"2d\");\n",
       "\n",
       "    var backingStore = this.context.backingStorePixelRatio ||\n",
       "\tthis.context.webkitBackingStorePixelRatio ||\n",
       "\tthis.context.mozBackingStorePixelRatio ||\n",
       "\tthis.context.msBackingStorePixelRatio ||\n",
       "\tthis.context.oBackingStorePixelRatio ||\n",
       "\tthis.context.backingStorePixelRatio || 1;\n",
       "\n",
       "    mpl.ratio = (window.devicePixelRatio || 1) / backingStore;\n",
       "\n",
       "    var rubberband = $('<canvas/>');\n",
       "    rubberband.attr('style', \"position: absolute; left: 0; top: 0; z-index: 1;\")\n",
       "\n",
       "    var pass_mouse_events = true;\n",
       "\n",
       "    canvas_div.resizable({\n",
       "        start: function(event, ui) {\n",
       "            pass_mouse_events = false;\n",
       "        },\n",
       "        resize: function(event, ui) {\n",
       "            fig.request_resize(ui.size.width, ui.size.height);\n",
       "        },\n",
       "        stop: function(event, ui) {\n",
       "            pass_mouse_events = true;\n",
       "            fig.request_resize(ui.size.width, ui.size.height);\n",
       "        },\n",
       "    });\n",
       "\n",
       "    function mouse_event_fn(event) {\n",
       "        if (pass_mouse_events)\n",
       "            return fig.mouse_event(event, event['data']);\n",
       "    }\n",
       "\n",
       "    rubberband.mousedown('button_press', mouse_event_fn);\n",
       "    rubberband.mouseup('button_release', mouse_event_fn);\n",
       "    // Throttle sequential mouse events to 1 every 20ms.\n",
       "    rubberband.mousemove('motion_notify', mouse_event_fn);\n",
       "\n",
       "    rubberband.mouseenter('figure_enter', mouse_event_fn);\n",
       "    rubberband.mouseleave('figure_leave', mouse_event_fn);\n",
       "\n",
       "    canvas_div.on(\"wheel\", function (event) {\n",
       "        event = event.originalEvent;\n",
       "        event['data'] = 'scroll'\n",
       "        if (event.deltaY < 0) {\n",
       "            event.step = 1;\n",
       "        } else {\n",
       "            event.step = -1;\n",
       "        }\n",
       "        mouse_event_fn(event);\n",
       "    });\n",
       "\n",
       "    canvas_div.append(canvas);\n",
       "    canvas_div.append(rubberband);\n",
       "\n",
       "    this.rubberband = rubberband;\n",
       "    this.rubberband_canvas = rubberband[0];\n",
       "    this.rubberband_context = rubberband[0].getContext(\"2d\");\n",
       "    this.rubberband_context.strokeStyle = \"#000000\";\n",
       "\n",
       "    this._resize_canvas = function(width, height) {\n",
       "        // Keep the size of the canvas, canvas container, and rubber band\n",
       "        // canvas in synch.\n",
       "        canvas_div.css('width', width)\n",
       "        canvas_div.css('height', height)\n",
       "\n",
       "        canvas.attr('width', width * mpl.ratio);\n",
       "        canvas.attr('height', height * mpl.ratio);\n",
       "        canvas.attr('style', 'width: ' + width + 'px; height: ' + height + 'px;');\n",
       "\n",
       "        rubberband.attr('width', width);\n",
       "        rubberband.attr('height', height);\n",
       "    }\n",
       "\n",
       "    // Set the figure to an initial 600x600px, this will subsequently be updated\n",
       "    // upon first draw.\n",
       "    this._resize_canvas(600, 600);\n",
       "\n",
       "    // Disable right mouse context menu.\n",
       "    $(this.rubberband_canvas).bind(\"contextmenu\",function(e){\n",
       "        return false;\n",
       "    });\n",
       "\n",
       "    function set_focus () {\n",
       "        canvas.focus();\n",
       "        canvas_div.focus();\n",
       "    }\n",
       "\n",
       "    window.setTimeout(set_focus, 100);\n",
       "}\n",
       "\n",
       "mpl.figure.prototype._init_toolbar = function() {\n",
       "    var fig = this;\n",
       "\n",
       "    var nav_element = $('<div/>')\n",
       "    nav_element.attr('style', 'width: 100%');\n",
       "    this.root.append(nav_element);\n",
       "\n",
       "    // Define a callback function for later on.\n",
       "    function toolbar_event(event) {\n",
       "        return fig.toolbar_button_onclick(event['data']);\n",
       "    }\n",
       "    function toolbar_mouse_event(event) {\n",
       "        return fig.toolbar_button_onmouseover(event['data']);\n",
       "    }\n",
       "\n",
       "    for(var toolbar_ind in mpl.toolbar_items) {\n",
       "        var name = mpl.toolbar_items[toolbar_ind][0];\n",
       "        var tooltip = mpl.toolbar_items[toolbar_ind][1];\n",
       "        var image = mpl.toolbar_items[toolbar_ind][2];\n",
       "        var method_name = mpl.toolbar_items[toolbar_ind][3];\n",
       "\n",
       "        if (!name) {\n",
       "            // put a spacer in here.\n",
       "            continue;\n",
       "        }\n",
       "        var button = $('<button/>');\n",
       "        button.addClass('ui-button ui-widget ui-state-default ui-corner-all ' +\n",
       "                        'ui-button-icon-only');\n",
       "        button.attr('role', 'button');\n",
       "        button.attr('aria-disabled', 'false');\n",
       "        button.click(method_name, toolbar_event);\n",
       "        button.mouseover(tooltip, toolbar_mouse_event);\n",
       "\n",
       "        var icon_img = $('<span/>');\n",
       "        icon_img.addClass('ui-button-icon-primary ui-icon');\n",
       "        icon_img.addClass(image);\n",
       "        icon_img.addClass('ui-corner-all');\n",
       "\n",
       "        var tooltip_span = $('<span/>');\n",
       "        tooltip_span.addClass('ui-button-text');\n",
       "        tooltip_span.html(tooltip);\n",
       "\n",
       "        button.append(icon_img);\n",
       "        button.append(tooltip_span);\n",
       "\n",
       "        nav_element.append(button);\n",
       "    }\n",
       "\n",
       "    var fmt_picker_span = $('<span/>');\n",
       "\n",
       "    var fmt_picker = $('<select/>');\n",
       "    fmt_picker.addClass('mpl-toolbar-option ui-widget ui-widget-content');\n",
       "    fmt_picker_span.append(fmt_picker);\n",
       "    nav_element.append(fmt_picker_span);\n",
       "    this.format_dropdown = fmt_picker[0];\n",
       "\n",
       "    for (var ind in mpl.extensions) {\n",
       "        var fmt = mpl.extensions[ind];\n",
       "        var option = $(\n",
       "            '<option/>', {selected: fmt === mpl.default_extension}).html(fmt);\n",
       "        fmt_picker.append(option)\n",
       "    }\n",
       "\n",
       "    // Add hover states to the ui-buttons\n",
       "    $( \".ui-button\" ).hover(\n",
       "        function() { $(this).addClass(\"ui-state-hover\");},\n",
       "        function() { $(this).removeClass(\"ui-state-hover\");}\n",
       "    );\n",
       "\n",
       "    var status_bar = $('<span class=\"mpl-message\"/>');\n",
       "    nav_element.append(status_bar);\n",
       "    this.message = status_bar[0];\n",
       "}\n",
       "\n",
       "mpl.figure.prototype.request_resize = function(x_pixels, y_pixels) {\n",
       "    // Request matplotlib to resize the figure. Matplotlib will then trigger a resize in the client,\n",
       "    // which will in turn request a refresh of the image.\n",
       "    this.send_message('resize', {'width': x_pixels, 'height': y_pixels});\n",
       "}\n",
       "\n",
       "mpl.figure.prototype.send_message = function(type, properties) {\n",
       "    properties['type'] = type;\n",
       "    properties['figure_id'] = this.id;\n",
       "    this.ws.send(JSON.stringify(properties));\n",
       "}\n",
       "\n",
       "mpl.figure.prototype.send_draw_message = function() {\n",
       "    if (!this.waiting) {\n",
       "        this.waiting = true;\n",
       "        this.ws.send(JSON.stringify({type: \"draw\", figure_id: this.id}));\n",
       "    }\n",
       "}\n",
       "\n",
       "\n",
       "mpl.figure.prototype.handle_save = function(fig, msg) {\n",
       "    var format_dropdown = fig.format_dropdown;\n",
       "    var format = format_dropdown.options[format_dropdown.selectedIndex].value;\n",
       "    fig.ondownload(fig, format);\n",
       "}\n",
       "\n",
       "\n",
       "mpl.figure.prototype.handle_resize = function(fig, msg) {\n",
       "    var size = msg['size'];\n",
       "    if (size[0] != fig.canvas.width || size[1] != fig.canvas.height) {\n",
       "        fig._resize_canvas(size[0], size[1]);\n",
       "        fig.send_message(\"refresh\", {});\n",
       "    };\n",
       "}\n",
       "\n",
       "mpl.figure.prototype.handle_rubberband = function(fig, msg) {\n",
       "    var x0 = msg['x0'] / mpl.ratio;\n",
       "    var y0 = (fig.canvas.height - msg['y0']) / mpl.ratio;\n",
       "    var x1 = msg['x1'] / mpl.ratio;\n",
       "    var y1 = (fig.canvas.height - msg['y1']) / mpl.ratio;\n",
       "    x0 = Math.floor(x0) + 0.5;\n",
       "    y0 = Math.floor(y0) + 0.5;\n",
       "    x1 = Math.floor(x1) + 0.5;\n",
       "    y1 = Math.floor(y1) + 0.5;\n",
       "    var min_x = Math.min(x0, x1);\n",
       "    var min_y = Math.min(y0, y1);\n",
       "    var width = Math.abs(x1 - x0);\n",
       "    var height = Math.abs(y1 - y0);\n",
       "\n",
       "    fig.rubberband_context.clearRect(\n",
       "        0, 0, fig.canvas.width, fig.canvas.height);\n",
       "\n",
       "    fig.rubberband_context.strokeRect(min_x, min_y, width, height);\n",
       "}\n",
       "\n",
       "mpl.figure.prototype.handle_figure_label = function(fig, msg) {\n",
       "    // Updates the figure title.\n",
       "    fig.header.textContent = msg['label'];\n",
       "}\n",
       "\n",
       "mpl.figure.prototype.handle_cursor = function(fig, msg) {\n",
       "    var cursor = msg['cursor'];\n",
       "    switch(cursor)\n",
       "    {\n",
       "    case 0:\n",
       "        cursor = 'pointer';\n",
       "        break;\n",
       "    case 1:\n",
       "        cursor = 'default';\n",
       "        break;\n",
       "    case 2:\n",
       "        cursor = 'crosshair';\n",
       "        break;\n",
       "    case 3:\n",
       "        cursor = 'move';\n",
       "        break;\n",
       "    }\n",
       "    fig.rubberband_canvas.style.cursor = cursor;\n",
       "}\n",
       "\n",
       "mpl.figure.prototype.handle_message = function(fig, msg) {\n",
       "    fig.message.textContent = msg['message'];\n",
       "}\n",
       "\n",
       "mpl.figure.prototype.handle_draw = function(fig, msg) {\n",
       "    // Request the server to send over a new figure.\n",
       "    fig.send_draw_message();\n",
       "}\n",
       "\n",
       "mpl.figure.prototype.handle_image_mode = function(fig, msg) {\n",
       "    fig.image_mode = msg['mode'];\n",
       "}\n",
       "\n",
       "mpl.figure.prototype.updated_canvas_event = function() {\n",
       "    // Called whenever the canvas gets updated.\n",
       "    this.send_message(\"ack\", {});\n",
       "}\n",
       "\n",
       "// A function to construct a web socket function for onmessage handling.\n",
       "// Called in the figure constructor.\n",
       "mpl.figure.prototype._make_on_message_function = function(fig) {\n",
       "    return function socket_on_message(evt) {\n",
       "        if (evt.data instanceof Blob) {\n",
       "            /* FIXME: We get \"Resource interpreted as Image but\n",
       "             * transferred with MIME type text/plain:\" errors on\n",
       "             * Chrome.  But how to set the MIME type?  It doesn't seem\n",
       "             * to be part of the websocket stream */\n",
       "            evt.data.type = \"image/png\";\n",
       "\n",
       "            /* Free the memory for the previous frames */\n",
       "            if (fig.imageObj.src) {\n",
       "                (window.URL || window.webkitURL).revokeObjectURL(\n",
       "                    fig.imageObj.src);\n",
       "            }\n",
       "\n",
       "            fig.imageObj.src = (window.URL || window.webkitURL).createObjectURL(\n",
       "                evt.data);\n",
       "            fig.updated_canvas_event();\n",
       "            fig.waiting = false;\n",
       "            return;\n",
       "        }\n",
       "        else if (typeof evt.data === 'string' && evt.data.slice(0, 21) == \"data:image/png;base64\") {\n",
       "            fig.imageObj.src = evt.data;\n",
       "            fig.updated_canvas_event();\n",
       "            fig.waiting = false;\n",
       "            return;\n",
       "        }\n",
       "\n",
       "        var msg = JSON.parse(evt.data);\n",
       "        var msg_type = msg['type'];\n",
       "\n",
       "        // Call the  \"handle_{type}\" callback, which takes\n",
       "        // the figure and JSON message as its only arguments.\n",
       "        try {\n",
       "            var callback = fig[\"handle_\" + msg_type];\n",
       "        } catch (e) {\n",
       "            console.log(\"No handler for the '\" + msg_type + \"' message type: \", msg);\n",
       "            return;\n",
       "        }\n",
       "\n",
       "        if (callback) {\n",
       "            try {\n",
       "                // console.log(\"Handling '\" + msg_type + \"' message: \", msg);\n",
       "                callback(fig, msg);\n",
       "            } catch (e) {\n",
       "                console.log(\"Exception inside the 'handler_\" + msg_type + \"' callback:\", e, e.stack, msg);\n",
       "            }\n",
       "        }\n",
       "    };\n",
       "}\n",
       "\n",
       "// from http://stackoverflow.com/questions/1114465/getting-mouse-location-in-canvas\n",
       "mpl.findpos = function(e) {\n",
       "    //this section is from http://www.quirksmode.org/js/events_properties.html\n",
       "    var targ;\n",
       "    if (!e)\n",
       "        e = window.event;\n",
       "    if (e.target)\n",
       "        targ = e.target;\n",
       "    else if (e.srcElement)\n",
       "        targ = e.srcElement;\n",
       "    if (targ.nodeType == 3) // defeat Safari bug\n",
       "        targ = targ.parentNode;\n",
       "\n",
       "    // jQuery normalizes the pageX and pageY\n",
       "    // pageX,Y are the mouse positions relative to the document\n",
       "    // offset() returns the position of the element relative to the document\n",
       "    var x = e.pageX - $(targ).offset().left;\n",
       "    var y = e.pageY - $(targ).offset().top;\n",
       "\n",
       "    return {\"x\": x, \"y\": y};\n",
       "};\n",
       "\n",
       "/*\n",
       " * return a copy of an object with only non-object keys\n",
       " * we need this to avoid circular references\n",
       " * http://stackoverflow.com/a/24161582/3208463\n",
       " */\n",
       "function simpleKeys (original) {\n",
       "  return Object.keys(original).reduce(function (obj, key) {\n",
       "    if (typeof original[key] !== 'object')\n",
       "        obj[key] = original[key]\n",
       "    return obj;\n",
       "  }, {});\n",
       "}\n",
       "\n",
       "mpl.figure.prototype.mouse_event = function(event, name) {\n",
       "    var canvas_pos = mpl.findpos(event)\n",
       "\n",
       "    if (name === 'button_press')\n",
       "    {\n",
       "        this.canvas.focus();\n",
       "        this.canvas_div.focus();\n",
       "    }\n",
       "\n",
       "    var x = canvas_pos.x * mpl.ratio;\n",
       "    var y = canvas_pos.y * mpl.ratio;\n",
       "\n",
       "    this.send_message(name, {x: x, y: y, button: event.button,\n",
       "                             step: event.step,\n",
       "                             guiEvent: simpleKeys(event)});\n",
       "\n",
       "    /* This prevents the web browser from automatically changing to\n",
       "     * the text insertion cursor when the button is pressed.  We want\n",
       "     * to control all of the cursor setting manually through the\n",
       "     * 'cursor' event from matplotlib */\n",
       "    event.preventDefault();\n",
       "    return false;\n",
       "}\n",
       "\n",
       "mpl.figure.prototype._key_event_extra = function(event, name) {\n",
       "    // Handle any extra behaviour associated with a key event\n",
       "}\n",
       "\n",
       "mpl.figure.prototype.key_event = function(event, name) {\n",
       "\n",
       "    // Prevent repeat events\n",
       "    if (name == 'key_press')\n",
       "    {\n",
       "        if (event.which === this._key)\n",
       "            return;\n",
       "        else\n",
       "            this._key = event.which;\n",
       "    }\n",
       "    if (name == 'key_release')\n",
       "        this._key = null;\n",
       "\n",
       "    var value = '';\n",
       "    if (event.ctrlKey && event.which != 17)\n",
       "        value += \"ctrl+\";\n",
       "    if (event.altKey && event.which != 18)\n",
       "        value += \"alt+\";\n",
       "    if (event.shiftKey && event.which != 16)\n",
       "        value += \"shift+\";\n",
       "\n",
       "    value += 'k';\n",
       "    value += event.which.toString();\n",
       "\n",
       "    this._key_event_extra(event, name);\n",
       "\n",
       "    this.send_message(name, {key: value,\n",
       "                             guiEvent: simpleKeys(event)});\n",
       "    return false;\n",
       "}\n",
       "\n",
       "mpl.figure.prototype.toolbar_button_onclick = function(name) {\n",
       "    if (name == 'download') {\n",
       "        this.handle_save(this, null);\n",
       "    } else {\n",
       "        this.send_message(\"toolbar_button\", {name: name});\n",
       "    }\n",
       "};\n",
       "\n",
       "mpl.figure.prototype.toolbar_button_onmouseover = function(tooltip) {\n",
       "    this.message.textContent = tooltip;\n",
       "};\n",
       "mpl.toolbar_items = [[\"Home\", \"Reset original view\", \"fa fa-home icon-home\", \"home\"], [\"Back\", \"Back to  previous view\", \"fa fa-arrow-left icon-arrow-left\", \"back\"], [\"Forward\", \"Forward to next view\", \"fa fa-arrow-right icon-arrow-right\", \"forward\"], [\"\", \"\", \"\", \"\"], [\"Pan\", \"Pan axes with left mouse, zoom with right\", \"fa fa-arrows icon-move\", \"pan\"], [\"Zoom\", \"Zoom to rectangle\", \"fa fa-square-o icon-check-empty\", \"zoom\"], [\"\", \"\", \"\", \"\"], [\"Download\", \"Download plot\", \"fa fa-floppy-o icon-save\", \"download\"]];\n",
       "\n",
       "mpl.extensions = [\"eps\", \"jpeg\", \"pdf\", \"png\", \"ps\", \"raw\", \"svg\", \"tif\"];\n",
       "\n",
       "mpl.default_extension = \"png\";var comm_websocket_adapter = function(comm) {\n",
       "    // Create a \"websocket\"-like object which calls the given IPython comm\n",
       "    // object with the appropriate methods. Currently this is a non binary\n",
       "    // socket, so there is still some room for performance tuning.\n",
       "    var ws = {};\n",
       "\n",
       "    ws.close = function() {\n",
       "        comm.close()\n",
       "    };\n",
       "    ws.send = function(m) {\n",
       "        //console.log('sending', m);\n",
       "        comm.send(m);\n",
       "    };\n",
       "    // Register the callback with on_msg.\n",
       "    comm.on_msg(function(msg) {\n",
       "        //console.log('receiving', msg['content']['data'], msg);\n",
       "        // Pass the mpl event to the overridden (by mpl) onmessage function.\n",
       "        ws.onmessage(msg['content']['data'])\n",
       "    });\n",
       "    return ws;\n",
       "}\n",
       "\n",
       "mpl.mpl_figure_comm = function(comm, msg) {\n",
       "    // This is the function which gets called when the mpl process\n",
       "    // starts-up an IPython Comm through the \"matplotlib\" channel.\n",
       "\n",
       "    var id = msg.content.data.id;\n",
       "    // Get hold of the div created by the display call when the Comm\n",
       "    // socket was opened in Python.\n",
       "    var element = $(\"#\" + id);\n",
       "    var ws_proxy = comm_websocket_adapter(comm)\n",
       "\n",
       "    function ondownload(figure, format) {\n",
       "        window.open(figure.imageObj.src);\n",
       "    }\n",
       "\n",
       "    var fig = new mpl.figure(id, ws_proxy,\n",
       "                           ondownload,\n",
       "                           element.get(0));\n",
       "\n",
       "    // Call onopen now - mpl needs it, as it is assuming we've passed it a real\n",
       "    // web socket which is closed, not our websocket->open comm proxy.\n",
       "    ws_proxy.onopen();\n",
       "\n",
       "    fig.parent_element = element.get(0);\n",
       "    fig.cell_info = mpl.find_output_cell(\"<div id='\" + id + \"'></div>\");\n",
       "    if (!fig.cell_info) {\n",
       "        console.error(\"Failed to find cell for figure\", id, fig);\n",
       "        return;\n",
       "    }\n",
       "\n",
       "    var output_index = fig.cell_info[2]\n",
       "    var cell = fig.cell_info[0];\n",
       "\n",
       "};\n",
       "\n",
       "mpl.figure.prototype.handle_close = function(fig, msg) {\n",
       "    var width = fig.canvas.width/mpl.ratio\n",
       "    fig.root.unbind('remove')\n",
       "\n",
       "    // Update the output cell to use the data from the current canvas.\n",
       "    fig.push_to_output();\n",
       "    var dataURL = fig.canvas.toDataURL();\n",
       "    // Re-enable the keyboard manager in IPython - without this line, in FF,\n",
       "    // the notebook keyboard shortcuts fail.\n",
       "    IPython.keyboard_manager.enable()\n",
       "    $(fig.parent_element).html('<img src=\"' + dataURL + '\" width=\"' + width + '\">');\n",
       "    fig.close_ws(fig, msg);\n",
       "}\n",
       "\n",
       "mpl.figure.prototype.close_ws = function(fig, msg){\n",
       "    fig.send_message('closing', msg);\n",
       "    // fig.ws.close()\n",
       "}\n",
       "\n",
       "mpl.figure.prototype.push_to_output = function(remove_interactive) {\n",
       "    // Turn the data on the canvas into data in the output cell.\n",
       "    var width = this.canvas.width/mpl.ratio\n",
       "    var dataURL = this.canvas.toDataURL();\n",
       "    this.cell_info[1]['text/html'] = '<img src=\"' + dataURL + '\" width=\"' + width + '\">';\n",
       "}\n",
       "\n",
       "mpl.figure.prototype.updated_canvas_event = function() {\n",
       "    // Tell IPython that the notebook contents must change.\n",
       "    IPython.notebook.set_dirty(true);\n",
       "    this.send_message(\"ack\", {});\n",
       "    var fig = this;\n",
       "    // Wait a second, then push the new image to the DOM so\n",
       "    // that it is saved nicely (might be nice to debounce this).\n",
       "    setTimeout(function () { fig.push_to_output() }, 1000);\n",
       "}\n",
       "\n",
       "mpl.figure.prototype._init_toolbar = function() {\n",
       "    var fig = this;\n",
       "\n",
       "    var nav_element = $('<div/>')\n",
       "    nav_element.attr('style', 'width: 100%');\n",
       "    this.root.append(nav_element);\n",
       "\n",
       "    // Define a callback function for later on.\n",
       "    function toolbar_event(event) {\n",
       "        return fig.toolbar_button_onclick(event['data']);\n",
       "    }\n",
       "    function toolbar_mouse_event(event) {\n",
       "        return fig.toolbar_button_onmouseover(event['data']);\n",
       "    }\n",
       "\n",
       "    for(var toolbar_ind in mpl.toolbar_items){\n",
       "        var name = mpl.toolbar_items[toolbar_ind][0];\n",
       "        var tooltip = mpl.toolbar_items[toolbar_ind][1];\n",
       "        var image = mpl.toolbar_items[toolbar_ind][2];\n",
       "        var method_name = mpl.toolbar_items[toolbar_ind][3];\n",
       "\n",
       "        if (!name) { continue; };\n",
       "\n",
       "        var button = $('<button class=\"btn btn-default\" href=\"#\" title=\"' + name + '\"><i class=\"fa ' + image + ' fa-lg\"></i></button>');\n",
       "        button.click(method_name, toolbar_event);\n",
       "        button.mouseover(tooltip, toolbar_mouse_event);\n",
       "        nav_element.append(button);\n",
       "    }\n",
       "\n",
       "    // Add the status bar.\n",
       "    var status_bar = $('<span class=\"mpl-message\" style=\"text-align:right; float: right;\"/>');\n",
       "    nav_element.append(status_bar);\n",
       "    this.message = status_bar[0];\n",
       "\n",
       "    // Add the close button to the window.\n",
       "    var buttongrp = $('<div class=\"btn-group inline pull-right\"></div>');\n",
       "    var button = $('<button class=\"btn btn-mini btn-primary\" href=\"#\" title=\"Stop Interaction\"><i class=\"fa fa-power-off icon-remove icon-large\"></i></button>');\n",
       "    button.click(function (evt) { fig.handle_close(fig, {}); } );\n",
       "    button.mouseover('Stop Interaction', toolbar_mouse_event);\n",
       "    buttongrp.append(button);\n",
       "    var titlebar = this.root.find($('.ui-dialog-titlebar'));\n",
       "    titlebar.prepend(buttongrp);\n",
       "}\n",
       "\n",
       "mpl.figure.prototype._root_extra_style = function(el){\n",
       "    var fig = this\n",
       "    el.on(\"remove\", function(){\n",
       "\tfig.close_ws(fig, {});\n",
       "    });\n",
       "}\n",
       "\n",
       "mpl.figure.prototype._canvas_extra_style = function(el){\n",
       "    // this is important to make the div 'focusable\n",
       "    el.attr('tabindex', 0)\n",
       "    // reach out to IPython and tell the keyboard manager to turn it's self\n",
       "    // off when our div gets focus\n",
       "\n",
       "    // location in version 3\n",
       "    if (IPython.notebook.keyboard_manager) {\n",
       "        IPython.notebook.keyboard_manager.register_events(el);\n",
       "    }\n",
       "    else {\n",
       "        // location in version 2\n",
       "        IPython.keyboard_manager.register_events(el);\n",
       "    }\n",
       "\n",
       "}\n",
       "\n",
       "mpl.figure.prototype._key_event_extra = function(event, name) {\n",
       "    var manager = IPython.notebook.keyboard_manager;\n",
       "    if (!manager)\n",
       "        manager = IPython.keyboard_manager;\n",
       "\n",
       "    // Check for shift+enter\n",
       "    if (event.shiftKey && event.which == 13) {\n",
       "        this.canvas_div.blur();\n",
       "        event.shiftKey = false;\n",
       "        // Send a \"J\" for go to next cell\n",
       "        event.which = 74;\n",
       "        event.keyCode = 74;\n",
       "        manager.command_mode();\n",
       "        manager.handle_keydown(event);\n",
       "    }\n",
       "}\n",
       "\n",
       "mpl.figure.prototype.handle_save = function(fig, msg) {\n",
       "    fig.ondownload(fig, null);\n",
       "}\n",
       "\n",
       "\n",
       "mpl.find_output_cell = function(html_output) {\n",
       "    // Return the cell and output element which can be found *uniquely* in the notebook.\n",
       "    // Note - this is a bit hacky, but it is done because the \"notebook_saving.Notebook\"\n",
       "    // IPython event is triggered only after the cells have been serialised, which for\n",
       "    // our purposes (turning an active figure into a static one), is too late.\n",
       "    var cells = IPython.notebook.get_cells();\n",
       "    var ncells = cells.length;\n",
       "    for (var i=0; i<ncells; i++) {\n",
       "        var cell = cells[i];\n",
       "        if (cell.cell_type === 'code'){\n",
       "            for (var j=0; j<cell.output_area.outputs.length; j++) {\n",
       "                var data = cell.output_area.outputs[j];\n",
       "                if (data.data) {\n",
       "                    // IPython >= 3 moved mimebundle to data attribute of output\n",
       "                    data = data.data;\n",
       "                }\n",
       "                if (data['text/html'] == html_output) {\n",
       "                    return [cell, data, j];\n",
       "                }\n",
       "            }\n",
       "        }\n",
       "    }\n",
       "}\n",
       "\n",
       "// Register the function which deals with the matplotlib target/channel.\n",
       "// The kernel may be null if the page has been refreshed.\n",
       "if (IPython.notebook.kernel != null) {\n",
       "    IPython.notebook.kernel.comm_manager.register_target('matplotlib', mpl.mpl_figure_comm);\n",
       "}\n"
      ],
      "text/plain": [
       "<IPython.core.display.Javascript object>"
      ]
     },
     "metadata": {},
     "output_type": "display_data"
    },
    {
     "data": {
      "text/html": [
       "<img src=\"data:image/png;base64,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\" width=\"640\">"
      ],
      "text/plain": [
       "<IPython.core.display.HTML object>"
      ]
     },
     "metadata": {},
     "output_type": "display_data"
    }
   ],
   "source": [
    "fig = plt.figure()\n",
    "ax = fig.add_subplot(111, projection='3d')\n",
    "ax.plot_surface(X,Y,Z1, alpha = 0.5, cmap=cm.Accent, rstride=100, cstride=100)\n",
    "ax.plot_surface(X,Y,Z2, alpha = 0.5, cmap=cm.Paired, rstride=100, cstride=100)\n",
    "ax.plot_surface(X,Y,Z3, alpha = 0.5, cmap=cm.Pastel1, rstride=100, cstride=100)\n",
    "ax.plot( (Sol[0],), (Sol[1],), (Sol[2],), lw=2, c='k',marker='o', markersize=8 )\n",
    "ax.set_xlabel('X')\n",
    "ax.set_ylabel('Y')\n",
    "ax.set_zlabel('Z')\n",
    "ax.view_init(40, 60)\n",
    "plt.show()"
   ]
  },
  {
   "cell_type": "code",
   "execution_count": null,
   "metadata": {},
   "outputs": [],
   "source": []
  }
 ],
 "metadata": {
  "kernelspec": {
   "display_name": "Python 3",
   "language": "python",
   "name": "python3"
  },
  "language_info": {
   "codemirror_mode": {
    "name": "ipython",
    "version": 2
   },
   "file_extension": ".py",
   "mimetype": "text/x-python",
   "name": "python",
   "nbconvert_exporter": "python",
   "pygments_lexer": "ipython2",
   "version": "2.7.16"
  }
 },
 "nbformat": 4,
 "nbformat_minor": 2
}
