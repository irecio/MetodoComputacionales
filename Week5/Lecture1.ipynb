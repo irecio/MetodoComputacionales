{
 "cells": [
  {
   "cell_type": "code",
   "execution_count": 1,
   "metadata": {},
   "outputs": [],
   "source": [
    "%matplotlib notebook\n",
    "import numpy as np\n",
    "import matplotlib.pyplot as plt\n",
    "from mpl_toolkits.mplot3d import Axes3D\n",
    "from matplotlib import cm"
   ]
  },
  {
   "cell_type": "code",
   "execution_count": 28,
   "metadata": {},
   "outputs": [
    {
     "data": {
      "text/html": [
       "\n",
       "        <iframe\n",
       "            width=\"600\"\n",
       "            height=\"400\"\n",
       "            src=\"Lectures/Jacobi_GaussSeidel.pdf\"\n",
       "            frameborder=\"0\"\n",
       "            allowfullscreen\n",
       "        ></iframe>\n",
       "        "
      ],
      "text/plain": [
       "<IPython.lib.display.IFrame at 0x7faafce3ab10>"
      ]
     },
     "execution_count": 28,
     "metadata": {},
     "output_type": "execute_result"
    }
   ],
   "source": [
    "from IPython.display import IFrame, display\n",
    "file = 'Lectures/Jacobi_GaussSeidel.pdf'\n",
    "IFrame(file, width=600, height=400)"
   ]
  },
  {
   "cell_type": "markdown",
   "metadata": {},
   "source": [
    "# Arrays with numpy "
   ]
  },
  {
   "cell_type": "code",
   "execution_count": 4,
   "metadata": {},
   "outputs": [
    {
     "data": {
      "text/plain": [
       "[1.0, 3.0, 6.0, 1.0, 3.0, 6.0]"
      ]
     },
     "execution_count": 4,
     "metadata": {},
     "output_type": "execute_result"
    }
   ],
   "source": [
    "x = [1.,3.,6.]\n",
    "x+x"
   ]
  },
  {
   "cell_type": "code",
   "execution_count": 5,
   "metadata": {},
   "outputs": [
    {
     "data": {
      "text/plain": [
       "array([ 2.,  6., 12.])"
      ]
     },
     "execution_count": 5,
     "metadata": {},
     "output_type": "execute_result"
    }
   ],
   "source": [
    "y = np.array([1.,3.,6.])\n",
    "y+y"
   ]
  },
  {
   "cell_type": "code",
   "execution_count": 6,
   "metadata": {},
   "outputs": [
    {
     "data": {
      "text/plain": [
       "array([ 8.41470985e-01,  3.42921620e+01, -2.17273491e+03])"
      ]
     },
     "execution_count": 6,
     "metadata": {},
     "output_type": "execute_result"
    }
   ],
   "source": [
    "np.sin(y)*y**5"
   ]
  },
  {
   "cell_type": "code",
   "execution_count": 9,
   "metadata": {},
   "outputs": [
    {
     "data": {
      "text/plain": [
       "array([[ 1,  4,  9],\n",
       "       [16, 25, 36],\n",
       "       [49, 64, 81]])"
      ]
     },
     "execution_count": 9,
     "metadata": {},
     "output_type": "execute_result"
    }
   ],
   "source": [
    "a = np.array([[1,2,3],[4,5,6],[7,8,9]])\n",
    "a*a"
   ]
  },
  {
   "cell_type": "code",
   "execution_count": 10,
   "metadata": {},
   "outputs": [
    {
     "data": {
      "text/plain": [
       "array([[ 30,  36,  42],\n",
       "       [ 66,  81,  96],\n",
       "       [102, 126, 150]])"
      ]
     },
     "execution_count": 10,
     "metadata": {},
     "output_type": "execute_result"
    }
   ],
   "source": [
    "np.dot(a,a)"
   ]
  },
  {
   "cell_type": "code",
   "execution_count": 11,
   "metadata": {},
   "outputs": [
    {
     "data": {
      "text/plain": [
       "array([[ 3,  8, 15],\n",
       "       [12, 20, 30],\n",
       "       [21, 32, 45]])"
      ]
     },
     "execution_count": 11,
     "metadata": {},
     "output_type": "execute_result"
    }
   ],
   "source": [
    "x = np.array([3,4,5])\n",
    "a*x"
   ]
  },
  {
   "cell_type": "code",
   "execution_count": 12,
   "metadata": {},
   "outputs": [
    {
     "data": {
      "text/plain": [
       "array([54, 66, 78])"
      ]
     },
     "execution_count": 12,
     "metadata": {},
     "output_type": "execute_result"
    }
   ],
   "source": [
    "np.dot(x,a)"
   ]
  },
  {
   "cell_type": "code",
   "execution_count": 14,
   "metadata": {},
   "outputs": [
    {
     "name": "stdout",
     "output_type": "stream",
     "text": [
      "[[1 2 3]\n",
      " [4 5 6]\n",
      " [7 8 9]]\n",
      "[[1 4 7]\n",
      " [2 5 8]\n",
      " [3 6 9]]\n"
     ]
    }
   ],
   "source": [
    "# Transpuesta\n",
    "print(a)\n",
    "print(a.T)"
   ]
  },
  {
   "cell_type": "code",
   "execution_count": 16,
   "metadata": {},
   "outputs": [
    {
     "name": "stdout",
     "output_type": "stream",
     "text": [
      "[3 4 5]\n",
      "[3 4 5]\n"
     ]
    }
   ],
   "source": [
    "print(x)\n",
    "print(x.T)"
   ]
  },
  {
   "cell_type": "code",
   "execution_count": 17,
   "metadata": {},
   "outputs": [
    {
     "data": {
      "text/plain": [
       "matrix([[1, 2, 3],\n",
       "        [4, 5, 6],\n",
       "        [7, 8, 9]])"
      ]
     },
     "execution_count": 17,
     "metadata": {},
     "output_type": "execute_result"
    }
   ],
   "source": [
    "# Otras formas de definir M\n",
    "np.matrix(\"1,2,3;4,5,6;7,8,9\")"
   ]
  },
  {
   "cell_type": "code",
   "execution_count": 18,
   "metadata": {},
   "outputs": [
    {
     "data": {
      "text/plain": [
       "4"
      ]
     },
     "execution_count": 18,
     "metadata": {},
     "output_type": "execute_result"
    }
   ],
   "source": [
    "a = np.matrix(\"3,4,5\")\n",
    "a[0,1]"
   ]
  },
  {
   "cell_type": "code",
   "execution_count": 21,
   "metadata": {},
   "outputs": [
    {
     "data": {
      "text/plain": [
       "2"
      ]
     },
     "execution_count": 21,
     "metadata": {},
     "output_type": "execute_result"
    }
   ],
   "source": [
    "#np.rank(np.array(a)) # Actualizado\n",
    "np.ndim(np.array(a))"
   ]
  },
  {
   "cell_type": "code",
   "execution_count": 22,
   "metadata": {},
   "outputs": [],
   "source": [
    "# Obtener auto-valores y auto-vectores."
   ]
  },
  {
   "cell_type": "code",
   "execution_count": 25,
   "metadata": {},
   "outputs": [
    {
     "name": "stdout",
     "output_type": "stream",
     "text": [
      "[ 1.61168440e+01 -1.11684397e+00 -1.30367773e-15]\n",
      "[[-0.23197069 -0.78583024  0.40824829]\n",
      " [-0.52532209 -0.08675134 -0.81649658]\n",
      " [-0.8186735   0.61232756  0.40824829]]\n"
     ]
    }
   ],
   "source": [
    "a=np.array([[1.,2,3],[4,5,6],[7,8,9]])\n",
    "evals, evecs = np.linalg.eig(a)\n",
    "print(evals); print(evecs)"
   ]
  },
  {
   "cell_type": "markdown",
   "metadata": {},
   "source": [
    "# Matriz para invertir"
   ]
  },
  {
   "cell_type": "code",
   "execution_count": 26,
   "metadata": {},
   "outputs": [
    {
     "name": "stdout",
     "output_type": "stream",
     "text": [
      "[[ 3. -1. -1.]\n",
      " [-1.  3.  1.]\n",
      " [ 2.  1.  4.]]\n"
     ]
    }
   ],
   "source": [
    "M = np.array([[3,-1,-1],[-1.,3.,1.],[2,1,4]])\n",
    "print(M)"
   ]
  },
  {
   "cell_type": "code",
   "execution_count": 27,
   "metadata": {},
   "outputs": [
    {
     "name": "stdout",
     "output_type": "stream",
     "text": [
      "[1. 3. 7.]\n"
     ]
    }
   ],
   "source": [
    "b = np.array([1.,3.,7.])\n",
    "print(b)"
   ]
  },
  {
   "cell_type": "code",
   "execution_count": 29,
   "metadata": {},
   "outputs": [
    {
     "name": "stdout",
     "output_type": "stream",
     "text": [
      "(array([ 3., -1., -1.]), array([ 3., -1.,  2.]))\n"
     ]
    }
   ],
   "source": [
    "# M.shape[0] para numero de fila\n",
    "# M.shape[1] para numero de columnas\n",
    "n = M.shape[1]\n",
    "x = np.zeros(n)\n",
    "\n",
    "print(M[0,:], M[:,0])"
   ]
  },
  {
   "cell_type": "markdown",
   "metadata": {},
   "source": [
    "# Método de Jacobi\n",
    "\n",
    "$$ x_{i}^{k+1} = \\frac{1}{a_{ii}}( b_{i} - \\sum_{i \\neq j} a_{ij}x_{j}^{k} ), i = 1,2,3,... $$"
   ]
  },
  {
   "cell_type": "code",
   "execution_count": 30,
   "metadata": {},
   "outputs": [],
   "source": [
    "def GetJacobiMethod(Matrix, bvector, itmax, error):\n",
    "    n = Matrix.shape[1]\n",
    "    x = np.zeros(n)\n",
    "    sumk = np.zeros(n)\n",
    "    \n",
    "    it = 0\n",
    "    \n",
    "    residuo = np.linalg.norm(bvector - np.dot(Matrix, x))\n",
    "    \n",
    "    while( residuo > error and it < itmax ):\n",
    "        it += 1\n",
    "        \n",
    "        for i in range(len(Matrix[0,:])):\n",
    "            sum_ = 0\n",
    "            for j in range(len(Matrix[:,0])):\n",
    "                if( i != j ):\n",
    "                    sum_ += Matrix[i][j]*x[j]\n",
    "            \n",
    "            sumk[i] = sum_;\n",
    "            \n",
    "        for i in range(len(Matrix[0,:])):\n",
    "            \n",
    "            if(Matrix[i,i] != 0):\n",
    "                x[i] = (bvector[i]- sumk[i])/Matrix[i,i]\n",
    "            else:\n",
    "                print('No invertible con Jacobi')\n",
    "                return\n",
    "            \n",
    "        print(x)\n",
    "        residuo = np.linalg.norm(bvector - np.dot(Matrix, x))\n",
    "            \n",
    "    return x, it, error"
   ]
  },
  {
   "cell_type": "code",
   "execution_count": 52,
   "metadata": {},
   "outputs": [
    {
     "name": "stdout",
     "output_type": "stream",
     "text": [
      "[0.33333333 1.         1.75      ]\n",
      "[1.25       0.52777778 1.33333333]\n",
      "[0.9537037  0.97222222 0.99305556]\n",
      "[0.98842593 0.98688272 1.03009259]\n",
      "[1.00565844 0.98611111 1.00906636]\n",
      "[0.99839249 0.99886403 1.000643  ]\n",
      "[0.99983568 0.99924983 1.00108775]\n",
      "[1.00011253 0.99958264 1.0002697 ]\n",
      "[0.99995078 0.99994761 1.00004808]\n",
      "[0.99999856 0.99996757 1.00003771]\n",
      "[1.00000176 0.99998695 1.00000883]\n",
      "[0.99999859 0.99999764 1.00000238]\n",
      "[1.00000001 0.99999874 1.00000129]\n",
      "[1.00000001 0.99999957 1.00000031]\n",
      "[0.99999996 0.9999999  1.0000001 ]\n",
      "[1.         0.99999995 1.00000004]\n",
      "[1.         0.99999999 1.00000001]\n",
      "[1. 1. 1.]\n",
      "[1. 1. 1.]\n",
      "[1. 1. 1.]\n",
      "[1. 1. 1.]\n",
      "[1. 1. 1.]\n",
      "[1. 1. 1.]\n",
      "[1. 1. 1.]\n",
      "(23, 1e-10)\n"
     ]
    }
   ],
   "source": [
    "Xsol, it , error = GetJacobiMethod(M, b, 30, 1e-10)\n",
    "print(Xsol)\n",
    "print(it, error)"
   ]
  },
  {
   "cell_type": "code",
   "execution_count": 33,
   "metadata": {},
   "outputs": [],
   "source": [
    "M1 = np.array([[3,-0.1,-0.2],[0.1,7.,-0.3],[0.3,-0.2,10]])\n",
    "b1 = np.array([7.85,-19.3,71.4])"
   ]
  },
  {
   "cell_type": "code",
   "execution_count": 45,
   "metadata": {},
   "outputs": [
    {
     "name": "stdout",
     "output_type": "stream",
     "text": [
      "[ 2.61666667 -2.75714286  7.14      ]\n",
      "[ 3.0007619  -2.48852381  7.00635714]\n",
      "[ 3.00080635 -2.49973844  7.00020667]\n",
      "[ 3.0000225  -2.50000266  6.99998104]\n",
      "[ 2.99999865 -2.50000113  6.99999927]\n",
      "[ 2.99999991 -2.50000001  7.00000002]\n",
      "[ 3.  -2.5  7. ]\n",
      "[ 3.  -2.5  7. ]\n",
      "[ 3.  -2.5  7. ]\n",
      "[ 3.  -2.5  7. ]\n",
      "(9, 1e-10)\n"
     ]
    }
   ],
   "source": [
    "Xsol, it, error = GetJacobiMethod(M1,b1, 30, 1e-10)\n",
    "print(Xsol)\n",
    "print(it, error)"
   ]
  },
  {
   "cell_type": "markdown",
   "metadata": {},
   "source": [
    "# Get T matrix\n",
    "\n",
    "$$ T = D^{-1}R $$"
   ]
  },
  {
   "cell_type": "code",
   "execution_count": 36,
   "metadata": {},
   "outputs": [],
   "source": [
    "def GetTMatrix(Matrix):\n",
    "    \n",
    "    D = np.zeros((Matrix.shape[0],Matrix.shape[1]))\n",
    "    R = np.zeros((Matrix.shape[0],Matrix.shape[1])) \n",
    "    T = np.zeros((Matrix.shape[0],Matrix.shape[1]))\n",
    "    \n",
    "    for i in range(len(Matrix[0,:])):\n",
    "        for j in range(len(Matrix[:,0])):\n",
    "            if( i == j):\n",
    "                D[i,j] = 1./Matrix[i,j]\n",
    "            else:\n",
    "                R[i,j] = Matrix[i,j]\n",
    "                \n",
    "    T = np.dot(D,R)\n",
    "    return T"
   ]
  },
  {
   "cell_type": "code",
   "execution_count": 37,
   "metadata": {},
   "outputs": [
    {
     "name": "stdout",
     "output_type": "stream",
     "text": [
      "[[ 0.         -0.33333333 -0.33333333]\n",
      " [-0.33333333  0.          0.33333333]\n",
      " [ 0.5         0.25        0.        ]]\n"
     ]
    }
   ],
   "source": [
    "T = GetTMatrix(M)\n",
    "print(T)"
   ]
  },
  {
   "cell_type": "markdown",
   "metadata": {},
   "source": [
    "# Teorema\n",
    "\n",
    "Si A es una matriz estrictamente diagonal dominante, entonces la iteración del método de Jacobi converge para cualquier valor inicial.\n",
    "\n",
    "# Teorema\n",
    "\n",
    "La sucesión $x^{k+1} = Tx^{k} + c$, para $k \\ge 0$ converge a la sucesión única $x = Tx + c$ si y sólo si $\\rho(T) < 1$\n",
    "\n",
    "Definición de radio espectral: \n",
    "\n",
    "Si $\\lambda_{1},...,\\lambda_{n}$ son los valores propios de una matriz $A$, entonces su radio espectral $\\rho(A)$ se define como:\n",
    "\n",
    "$$ \\rho(A) := \\underbrace{max}_{i}(|\\lambda_{i}|) $$"
   ]
  },
  {
   "cell_type": "code",
   "execution_count": 39,
   "metadata": {},
   "outputs": [
    {
     "name": "stdout",
     "output_type": "stream",
     "text": [
      "[-0.33333333+0.j          0.16666667+0.23570226j  0.16666667-0.23570226j]\n",
      "[[-0.07412493+0.00000000e+00j  0.60302269+1.38777878e-17j\n",
      "   0.60302269-1.38777878e-17j]\n",
      " [-0.74124932+0.00000000e+00j -0.60302269+0.00000000e+00j\n",
      "  -0.60302269-0.00000000e+00j]\n",
      " [ 0.66712438+0.00000000e+00j  0.30151134-4.26401433e-01j\n",
      "   0.30151134+4.26401433e-01j]]\n"
     ]
    }
   ],
   "source": [
    "# Calculando eigen-valores y eigen-vectores\n",
    "valores, vectores = np.linalg.eig(T)\n",
    "print(valores)\n",
    "print(vectores)"
   ]
  },
  {
   "cell_type": "code",
   "execution_count": 40,
   "metadata": {},
   "outputs": [
    {
     "name": "stdout",
     "output_type": "stream",
     "text": [
      "(array([0.33333333, 0.28867513, 0.28867513]), 0.33333333333333315)\n"
     ]
    }
   ],
   "source": [
    "print(abs(valores), np.amax(abs(valores)))"
   ]
  },
  {
   "cell_type": "markdown",
   "metadata": {},
   "source": [
    "# Método de Gauss-Seidel"
   ]
  },
  {
   "cell_type": "code",
   "execution_count": 42,
   "metadata": {},
   "outputs": [],
   "source": [
    "M = np.array([[3,-1,-1],[-1.,3.,1.],[2,1,4]])\n",
    "b = np.array([1.,3.,7.])\n",
    "n = M.shape[1]\n",
    "x = np.zeros(n)"
   ]
  },
  {
   "cell_type": "code",
   "execution_count": 50,
   "metadata": {},
   "outputs": [],
   "source": [
    "def GetGaussSeidelMethod(Matrix, bvector, itmax, error):\n",
    "    \n",
    "    n = Matrix.shape[1]\n",
    "    x = np.zeros(n)\n",
    "    \n",
    "    r = np.linalg.norm(bvector - np.dot(Matrix, x)) \n",
    "    it = 0\n",
    "    \n",
    "    while r > error and it < itmax:\n",
    "        it += 1\n",
    "        \n",
    "        for i in range(len(Matrix[0,:])):\n",
    "            sum_ = 0\n",
    "            for j in range(len(Matrix[:,0])):\n",
    "                if( i!=j ):\n",
    "                    sum_ += Matrix[i,j]*x[j]\n",
    "            \n",
    "            x[i] = (bvector[i] - sum_)/Matrix[i,i]\n",
    "            \n",
    "        print(x)\n",
    "        r = np.linalg.norm(bvector - np.dot(Matrix, x)) \n",
    "        \n",
    "    return x, r, it"
   ]
  },
  {
   "cell_type": "code",
   "execution_count": 51,
   "metadata": {},
   "outputs": [
    {
     "name": "stdout",
     "output_type": "stream",
     "text": [
      "[0.33333333 1.11111111 1.30555556]\n",
      "[1.13888889 0.94444444 0.94444444]\n",
      "[0.96296296 1.00617284 1.01697531]\n",
      "[1.00771605 0.99691358 0.99691358]\n",
      "[0.99794239 1.00034294 1.00094307]\n",
      "[1.00042867 0.99982853 0.99982853]\n",
      "[0.99988569 1.00001905 1.00005239]\n",
      "[1.00002381 0.99999047 0.99999047]\n",
      "[0.99999365 1.00000106 1.00000291]\n",
      "[1.00000132 0.99999947 0.99999947]\n",
      "[0.99999965 1.00000006 1.00000016]\n",
      "[1.00000007 0.99999997 0.99999997]\n",
      "[0.99999998 1.         1.00000001]\n",
      "[1. 1. 1.]\n",
      "[1. 1. 1.]\n",
      "[1. 1. 1.]\n",
      "[1. 1. 1.]\n",
      "[1. 1. 1.]\n",
      "[1. 1. 1.]\n",
      "(18, 5.8030712832710874e-11)\n"
     ]
    }
   ],
   "source": [
    "Xsol, error, it = GetGaussSeidelMethod(M, b, 30, 1e-10)\n",
    "print(Xsol)\n",
    "print(it, error)"
   ]
  },
  {
   "cell_type": "markdown",
   "metadata": {},
   "source": [
    "# Usando numpy"
   ]
  },
  {
   "cell_type": "code",
   "execution_count": 54,
   "metadata": {},
   "outputs": [
    {
     "name": "stdout",
     "output_type": "stream",
     "text": [
      "[1. 1. 1.]\n"
     ]
    }
   ],
   "source": [
    "Sol = np.linalg.solve(M,b)\n",
    "print(Sol)"
   ]
  },
  {
   "cell_type": "code",
   "execution_count": 57,
   "metadata": {},
   "outputs": [],
   "source": [
    "x, y = np.linspace(0.,2.,20), np.linspace(0.,2.,20)\n",
    "X, Y = np.meshgrid(x,y)"
   ]
  },
  {
   "cell_type": "code",
   "execution_count": 62,
   "metadata": {},
   "outputs": [],
   "source": [
    "Z1 = (b[0] - M[0,0]*X - M[0,1]*Y)/M[0,2]\n",
    "Z2 = (b[1] - M[1,0]*X - M[1,1]*Y)/M[1,2]\n",
    "Z3 = (b[2] - M[2,0]*X - M[2,1]*Y)/M[2,2]"
   ]
  },
  {
   "cell_type": "code",
   "execution_count": 64,
   "metadata": {},
   "outputs": [
    {
     "data": {
      "application/javascript": [
       "/* Put everything inside the global mpl namespace */\n",
       "window.mpl = {};\n",
       "\n",
       "\n",
       "mpl.get_websocket_type = function() {\n",
       "    if (typeof(WebSocket) !== 'undefined') {\n",
       "        return WebSocket;\n",
       "    } else if (typeof(MozWebSocket) !== 'undefined') {\n",
       "        return MozWebSocket;\n",
       "    } else {\n",
       "        alert('Your browser does not have WebSocket support.' +\n",
       "              'Please try Chrome, Safari or Firefox ≥ 6. ' +\n",
       "              'Firefox 4 and 5 are also supported but you ' +\n",
       "              'have to enable WebSockets in about:config.');\n",
       "    };\n",
       "}\n",
       "\n",
       "mpl.figure = function(figure_id, websocket, ondownload, parent_element) {\n",
       "    this.id = figure_id;\n",
       "\n",
       "    this.ws = websocket;\n",
       "\n",
       "    this.supports_binary = (this.ws.binaryType != undefined);\n",
       "\n",
       "    if (!this.supports_binary) {\n",
       "        var warnings = document.getElementById(\"mpl-warnings\");\n",
       "        if (warnings) {\n",
       "            warnings.style.display = 'block';\n",
       "            warnings.textContent = (\n",
       "                \"This browser does not support binary websocket messages. \" +\n",
       "                    \"Performance may be slow.\");\n",
       "        }\n",
       "    }\n",
       "\n",
       "    this.imageObj = new Image();\n",
       "\n",
       "    this.context = undefined;\n",
       "    this.message = undefined;\n",
       "    this.canvas = undefined;\n",
       "    this.rubberband_canvas = undefined;\n",
       "    this.rubberband_context = undefined;\n",
       "    this.format_dropdown = undefined;\n",
       "\n",
       "    this.image_mode = 'full';\n",
       "\n",
       "    this.root = $('<div/>');\n",
       "    this._root_extra_style(this.root)\n",
       "    this.root.attr('style', 'display: inline-block');\n",
       "\n",
       "    $(parent_element).append(this.root);\n",
       "\n",
       "    this._init_header(this);\n",
       "    this._init_canvas(this);\n",
       "    this._init_toolbar(this);\n",
       "\n",
       "    var fig = this;\n",
       "\n",
       "    this.waiting = false;\n",
       "\n",
       "    this.ws.onopen =  function () {\n",
       "            fig.send_message(\"supports_binary\", {value: fig.supports_binary});\n",
       "            fig.send_message(\"send_image_mode\", {});\n",
       "            if (mpl.ratio != 1) {\n",
       "                fig.send_message(\"set_dpi_ratio\", {'dpi_ratio': mpl.ratio});\n",
       "            }\n",
       "            fig.send_message(\"refresh\", {});\n",
       "        }\n",
       "\n",
       "    this.imageObj.onload = function() {\n",
       "            if (fig.image_mode == 'full') {\n",
       "                // Full images could contain transparency (where diff images\n",
       "                // almost always do), so we need to clear the canvas so that\n",
       "                // there is no ghosting.\n",
       "                fig.context.clearRect(0, 0, fig.canvas.width, fig.canvas.height);\n",
       "            }\n",
       "            fig.context.drawImage(fig.imageObj, 0, 0);\n",
       "        };\n",
       "\n",
       "    this.imageObj.onunload = function() {\n",
       "        fig.ws.close();\n",
       "    }\n",
       "\n",
       "    this.ws.onmessage = this._make_on_message_function(this);\n",
       "\n",
       "    this.ondownload = ondownload;\n",
       "}\n",
       "\n",
       "mpl.figure.prototype._init_header = function() {\n",
       "    var titlebar = $(\n",
       "        '<div class=\"ui-dialog-titlebar ui-widget-header ui-corner-all ' +\n",
       "        'ui-helper-clearfix\"/>');\n",
       "    var titletext = $(\n",
       "        '<div class=\"ui-dialog-title\" style=\"width: 100%; ' +\n",
       "        'text-align: center; padding: 3px;\"/>');\n",
       "    titlebar.append(titletext)\n",
       "    this.root.append(titlebar);\n",
       "    this.header = titletext[0];\n",
       "}\n",
       "\n",
       "\n",
       "\n",
       "mpl.figure.prototype._canvas_extra_style = function(canvas_div) {\n",
       "\n",
       "}\n",
       "\n",
       "\n",
       "mpl.figure.prototype._root_extra_style = function(canvas_div) {\n",
       "\n",
       "}\n",
       "\n",
       "mpl.figure.prototype._init_canvas = function() {\n",
       "    var fig = this;\n",
       "\n",
       "    var canvas_div = $('<div/>');\n",
       "\n",
       "    canvas_div.attr('style', 'position: relative; clear: both; outline: 0');\n",
       "\n",
       "    function canvas_keyboard_event(event) {\n",
       "        return fig.key_event(event, event['data']);\n",
       "    }\n",
       "\n",
       "    canvas_div.keydown('key_press', canvas_keyboard_event);\n",
       "    canvas_div.keyup('key_release', canvas_keyboard_event);\n",
       "    this.canvas_div = canvas_div\n",
       "    this._canvas_extra_style(canvas_div)\n",
       "    this.root.append(canvas_div);\n",
       "\n",
       "    var canvas = $('<canvas/>');\n",
       "    canvas.addClass('mpl-canvas');\n",
       "    canvas.attr('style', \"left: 0; top: 0; z-index: 0; outline: 0\")\n",
       "\n",
       "    this.canvas = canvas[0];\n",
       "    this.context = canvas[0].getContext(\"2d\");\n",
       "\n",
       "    var backingStore = this.context.backingStorePixelRatio ||\n",
       "\tthis.context.webkitBackingStorePixelRatio ||\n",
       "\tthis.context.mozBackingStorePixelRatio ||\n",
       "\tthis.context.msBackingStorePixelRatio ||\n",
       "\tthis.context.oBackingStorePixelRatio ||\n",
       "\tthis.context.backingStorePixelRatio || 1;\n",
       "\n",
       "    mpl.ratio = (window.devicePixelRatio || 1) / backingStore;\n",
       "\n",
       "    var rubberband = $('<canvas/>');\n",
       "    rubberband.attr('style', \"position: absolute; left: 0; top: 0; z-index: 1;\")\n",
       "\n",
       "    var pass_mouse_events = true;\n",
       "\n",
       "    canvas_div.resizable({\n",
       "        start: function(event, ui) {\n",
       "            pass_mouse_events = false;\n",
       "        },\n",
       "        resize: function(event, ui) {\n",
       "            fig.request_resize(ui.size.width, ui.size.height);\n",
       "        },\n",
       "        stop: function(event, ui) {\n",
       "            pass_mouse_events = true;\n",
       "            fig.request_resize(ui.size.width, ui.size.height);\n",
       "        },\n",
       "    });\n",
       "\n",
       "    function mouse_event_fn(event) {\n",
       "        if (pass_mouse_events)\n",
       "            return fig.mouse_event(event, event['data']);\n",
       "    }\n",
       "\n",
       "    rubberband.mousedown('button_press', mouse_event_fn);\n",
       "    rubberband.mouseup('button_release', mouse_event_fn);\n",
       "    // Throttle sequential mouse events to 1 every 20ms.\n",
       "    rubberband.mousemove('motion_notify', mouse_event_fn);\n",
       "\n",
       "    rubberband.mouseenter('figure_enter', mouse_event_fn);\n",
       "    rubberband.mouseleave('figure_leave', mouse_event_fn);\n",
       "\n",
       "    canvas_div.on(\"wheel\", function (event) {\n",
       "        event = event.originalEvent;\n",
       "        event['data'] = 'scroll'\n",
       "        if (event.deltaY < 0) {\n",
       "            event.step = 1;\n",
       "        } else {\n",
       "            event.step = -1;\n",
       "        }\n",
       "        mouse_event_fn(event);\n",
       "    });\n",
       "\n",
       "    canvas_div.append(canvas);\n",
       "    canvas_div.append(rubberband);\n",
       "\n",
       "    this.rubberband = rubberband;\n",
       "    this.rubberband_canvas = rubberband[0];\n",
       "    this.rubberband_context = rubberband[0].getContext(\"2d\");\n",
       "    this.rubberband_context.strokeStyle = \"#000000\";\n",
       "\n",
       "    this._resize_canvas = function(width, height) {\n",
       "        // Keep the size of the canvas, canvas container, and rubber band\n",
       "        // canvas in synch.\n",
       "        canvas_div.css('width', width)\n",
       "        canvas_div.css('height', height)\n",
       "\n",
       "        canvas.attr('width', width * mpl.ratio);\n",
       "        canvas.attr('height', height * mpl.ratio);\n",
       "        canvas.attr('style', 'width: ' + width + 'px; height: ' + height + 'px;');\n",
       "\n",
       "        rubberband.attr('width', width);\n",
       "        rubberband.attr('height', height);\n",
       "    }\n",
       "\n",
       "    // Set the figure to an initial 600x600px, this will subsequently be updated\n",
       "    // upon first draw.\n",
       "    this._resize_canvas(600, 600);\n",
       "\n",
       "    // Disable right mouse context menu.\n",
       "    $(this.rubberband_canvas).bind(\"contextmenu\",function(e){\n",
       "        return false;\n",
       "    });\n",
       "\n",
       "    function set_focus () {\n",
       "        canvas.focus();\n",
       "        canvas_div.focus();\n",
       "    }\n",
       "\n",
       "    window.setTimeout(set_focus, 100);\n",
       "}\n",
       "\n",
       "mpl.figure.prototype._init_toolbar = function() {\n",
       "    var fig = this;\n",
       "\n",
       "    var nav_element = $('<div/>')\n",
       "    nav_element.attr('style', 'width: 100%');\n",
       "    this.root.append(nav_element);\n",
       "\n",
       "    // Define a callback function for later on.\n",
       "    function toolbar_event(event) {\n",
       "        return fig.toolbar_button_onclick(event['data']);\n",
       "    }\n",
       "    function toolbar_mouse_event(event) {\n",
       "        return fig.toolbar_button_onmouseover(event['data']);\n",
       "    }\n",
       "\n",
       "    for(var toolbar_ind in mpl.toolbar_items) {\n",
       "        var name = mpl.toolbar_items[toolbar_ind][0];\n",
       "        var tooltip = mpl.toolbar_items[toolbar_ind][1];\n",
       "        var image = mpl.toolbar_items[toolbar_ind][2];\n",
       "        var method_name = mpl.toolbar_items[toolbar_ind][3];\n",
       "\n",
       "        if (!name) {\n",
       "            // put a spacer in here.\n",
       "            continue;\n",
       "        }\n",
       "        var button = $('<button/>');\n",
       "        button.addClass('ui-button ui-widget ui-state-default ui-corner-all ' +\n",
       "                        'ui-button-icon-only');\n",
       "        button.attr('role', 'button');\n",
       "        button.attr('aria-disabled', 'false');\n",
       "        button.click(method_name, toolbar_event);\n",
       "        button.mouseover(tooltip, toolbar_mouse_event);\n",
       "\n",
       "        var icon_img = $('<span/>');\n",
       "        icon_img.addClass('ui-button-icon-primary ui-icon');\n",
       "        icon_img.addClass(image);\n",
       "        icon_img.addClass('ui-corner-all');\n",
       "\n",
       "        var tooltip_span = $('<span/>');\n",
       "        tooltip_span.addClass('ui-button-text');\n",
       "        tooltip_span.html(tooltip);\n",
       "\n",
       "        button.append(icon_img);\n",
       "        button.append(tooltip_span);\n",
       "\n",
       "        nav_element.append(button);\n",
       "    }\n",
       "\n",
       "    var fmt_picker_span = $('<span/>');\n",
       "\n",
       "    var fmt_picker = $('<select/>');\n",
       "    fmt_picker.addClass('mpl-toolbar-option ui-widget ui-widget-content');\n",
       "    fmt_picker_span.append(fmt_picker);\n",
       "    nav_element.append(fmt_picker_span);\n",
       "    this.format_dropdown = fmt_picker[0];\n",
       "\n",
       "    for (var ind in mpl.extensions) {\n",
       "        var fmt = mpl.extensions[ind];\n",
       "        var option = $(\n",
       "            '<option/>', {selected: fmt === mpl.default_extension}).html(fmt);\n",
       "        fmt_picker.append(option)\n",
       "    }\n",
       "\n",
       "    // Add hover states to the ui-buttons\n",
       "    $( \".ui-button\" ).hover(\n",
       "        function() { $(this).addClass(\"ui-state-hover\");},\n",
       "        function() { $(this).removeClass(\"ui-state-hover\");}\n",
       "    );\n",
       "\n",
       "    var status_bar = $('<span class=\"mpl-message\"/>');\n",
       "    nav_element.append(status_bar);\n",
       "    this.message = status_bar[0];\n",
       "}\n",
       "\n",
       "mpl.figure.prototype.request_resize = function(x_pixels, y_pixels) {\n",
       "    // Request matplotlib to resize the figure. Matplotlib will then trigger a resize in the client,\n",
       "    // which will in turn request a refresh of the image.\n",
       "    this.send_message('resize', {'width': x_pixels, 'height': y_pixels});\n",
       "}\n",
       "\n",
       "mpl.figure.prototype.send_message = function(type, properties) {\n",
       "    properties['type'] = type;\n",
       "    properties['figure_id'] = this.id;\n",
       "    this.ws.send(JSON.stringify(properties));\n",
       "}\n",
       "\n",
       "mpl.figure.prototype.send_draw_message = function() {\n",
       "    if (!this.waiting) {\n",
       "        this.waiting = true;\n",
       "        this.ws.send(JSON.stringify({type: \"draw\", figure_id: this.id}));\n",
       "    }\n",
       "}\n",
       "\n",
       "\n",
       "mpl.figure.prototype.handle_save = function(fig, msg) {\n",
       "    var format_dropdown = fig.format_dropdown;\n",
       "    var format = format_dropdown.options[format_dropdown.selectedIndex].value;\n",
       "    fig.ondownload(fig, format);\n",
       "}\n",
       "\n",
       "\n",
       "mpl.figure.prototype.handle_resize = function(fig, msg) {\n",
       "    var size = msg['size'];\n",
       "    if (size[0] != fig.canvas.width || size[1] != fig.canvas.height) {\n",
       "        fig._resize_canvas(size[0], size[1]);\n",
       "        fig.send_message(\"refresh\", {});\n",
       "    };\n",
       "}\n",
       "\n",
       "mpl.figure.prototype.handle_rubberband = function(fig, msg) {\n",
       "    var x0 = msg['x0'] / mpl.ratio;\n",
       "    var y0 = (fig.canvas.height - msg['y0']) / mpl.ratio;\n",
       "    var x1 = msg['x1'] / mpl.ratio;\n",
       "    var y1 = (fig.canvas.height - msg['y1']) / mpl.ratio;\n",
       "    x0 = Math.floor(x0) + 0.5;\n",
       "    y0 = Math.floor(y0) + 0.5;\n",
       "    x1 = Math.floor(x1) + 0.5;\n",
       "    y1 = Math.floor(y1) + 0.5;\n",
       "    var min_x = Math.min(x0, x1);\n",
       "    var min_y = Math.min(y0, y1);\n",
       "    var width = Math.abs(x1 - x0);\n",
       "    var height = Math.abs(y1 - y0);\n",
       "\n",
       "    fig.rubberband_context.clearRect(\n",
       "        0, 0, fig.canvas.width, fig.canvas.height);\n",
       "\n",
       "    fig.rubberband_context.strokeRect(min_x, min_y, width, height);\n",
       "}\n",
       "\n",
       "mpl.figure.prototype.handle_figure_label = function(fig, msg) {\n",
       "    // Updates the figure title.\n",
       "    fig.header.textContent = msg['label'];\n",
       "}\n",
       "\n",
       "mpl.figure.prototype.handle_cursor = function(fig, msg) {\n",
       "    var cursor = msg['cursor'];\n",
       "    switch(cursor)\n",
       "    {\n",
       "    case 0:\n",
       "        cursor = 'pointer';\n",
       "        break;\n",
       "    case 1:\n",
       "        cursor = 'default';\n",
       "        break;\n",
       "    case 2:\n",
       "        cursor = 'crosshair';\n",
       "        break;\n",
       "    case 3:\n",
       "        cursor = 'move';\n",
       "        break;\n",
       "    }\n",
       "    fig.rubberband_canvas.style.cursor = cursor;\n",
       "}\n",
       "\n",
       "mpl.figure.prototype.handle_message = function(fig, msg) {\n",
       "    fig.message.textContent = msg['message'];\n",
       "}\n",
       "\n",
       "mpl.figure.prototype.handle_draw = function(fig, msg) {\n",
       "    // Request the server to send over a new figure.\n",
       "    fig.send_draw_message();\n",
       "}\n",
       "\n",
       "mpl.figure.prototype.handle_image_mode = function(fig, msg) {\n",
       "    fig.image_mode = msg['mode'];\n",
       "}\n",
       "\n",
       "mpl.figure.prototype.updated_canvas_event = function() {\n",
       "    // Called whenever the canvas gets updated.\n",
       "    this.send_message(\"ack\", {});\n",
       "}\n",
       "\n",
       "// A function to construct a web socket function for onmessage handling.\n",
       "// Called in the figure constructor.\n",
       "mpl.figure.prototype._make_on_message_function = function(fig) {\n",
       "    return function socket_on_message(evt) {\n",
       "        if (evt.data instanceof Blob) {\n",
       "            /* FIXME: We get \"Resource interpreted as Image but\n",
       "             * transferred with MIME type text/plain:\" errors on\n",
       "             * Chrome.  But how to set the MIME type?  It doesn't seem\n",
       "             * to be part of the websocket stream */\n",
       "            evt.data.type = \"image/png\";\n",
       "\n",
       "            /* Free the memory for the previous frames */\n",
       "            if (fig.imageObj.src) {\n",
       "                (window.URL || window.webkitURL).revokeObjectURL(\n",
       "                    fig.imageObj.src);\n",
       "            }\n",
       "\n",
       "            fig.imageObj.src = (window.URL || window.webkitURL).createObjectURL(\n",
       "                evt.data);\n",
       "            fig.updated_canvas_event();\n",
       "            fig.waiting = false;\n",
       "            return;\n",
       "        }\n",
       "        else if (typeof evt.data === 'string' && evt.data.slice(0, 21) == \"data:image/png;base64\") {\n",
       "            fig.imageObj.src = evt.data;\n",
       "            fig.updated_canvas_event();\n",
       "            fig.waiting = false;\n",
       "            return;\n",
       "        }\n",
       "\n",
       "        var msg = JSON.parse(evt.data);\n",
       "        var msg_type = msg['type'];\n",
       "\n",
       "        // Call the  \"handle_{type}\" callback, which takes\n",
       "        // the figure and JSON message as its only arguments.\n",
       "        try {\n",
       "            var callback = fig[\"handle_\" + msg_type];\n",
       "        } catch (e) {\n",
       "            console.log(\"No handler for the '\" + msg_type + \"' message type: \", msg);\n",
       "            return;\n",
       "        }\n",
       "\n",
       "        if (callback) {\n",
       "            try {\n",
       "                // console.log(\"Handling '\" + msg_type + \"' message: \", msg);\n",
       "                callback(fig, msg);\n",
       "            } catch (e) {\n",
       "                console.log(\"Exception inside the 'handler_\" + msg_type + \"' callback:\", e, e.stack, msg);\n",
       "            }\n",
       "        }\n",
       "    };\n",
       "}\n",
       "\n",
       "// from http://stackoverflow.com/questions/1114465/getting-mouse-location-in-canvas\n",
       "mpl.findpos = function(e) {\n",
       "    //this section is from http://www.quirksmode.org/js/events_properties.html\n",
       "    var targ;\n",
       "    if (!e)\n",
       "        e = window.event;\n",
       "    if (e.target)\n",
       "        targ = e.target;\n",
       "    else if (e.srcElement)\n",
       "        targ = e.srcElement;\n",
       "    if (targ.nodeType == 3) // defeat Safari bug\n",
       "        targ = targ.parentNode;\n",
       "\n",
       "    // jQuery normalizes the pageX and pageY\n",
       "    // pageX,Y are the mouse positions relative to the document\n",
       "    // offset() returns the position of the element relative to the document\n",
       "    var x = e.pageX - $(targ).offset().left;\n",
       "    var y = e.pageY - $(targ).offset().top;\n",
       "\n",
       "    return {\"x\": x, \"y\": y};\n",
       "};\n",
       "\n",
       "/*\n",
       " * return a copy of an object with only non-object keys\n",
       " * we need this to avoid circular references\n",
       " * http://stackoverflow.com/a/24161582/3208463\n",
       " */\n",
       "function simpleKeys (original) {\n",
       "  return Object.keys(original).reduce(function (obj, key) {\n",
       "    if (typeof original[key] !== 'object')\n",
       "        obj[key] = original[key]\n",
       "    return obj;\n",
       "  }, {});\n",
       "}\n",
       "\n",
       "mpl.figure.prototype.mouse_event = function(event, name) {\n",
       "    var canvas_pos = mpl.findpos(event)\n",
       "\n",
       "    if (name === 'button_press')\n",
       "    {\n",
       "        this.canvas.focus();\n",
       "        this.canvas_div.focus();\n",
       "    }\n",
       "\n",
       "    var x = canvas_pos.x * mpl.ratio;\n",
       "    var y = canvas_pos.y * mpl.ratio;\n",
       "\n",
       "    this.send_message(name, {x: x, y: y, button: event.button,\n",
       "                             step: event.step,\n",
       "                             guiEvent: simpleKeys(event)});\n",
       "\n",
       "    /* This prevents the web browser from automatically changing to\n",
       "     * the text insertion cursor when the button is pressed.  We want\n",
       "     * to control all of the cursor setting manually through the\n",
       "     * 'cursor' event from matplotlib */\n",
       "    event.preventDefault();\n",
       "    return false;\n",
       "}\n",
       "\n",
       "mpl.figure.prototype._key_event_extra = function(event, name) {\n",
       "    // Handle any extra behaviour associated with a key event\n",
       "}\n",
       "\n",
       "mpl.figure.prototype.key_event = function(event, name) {\n",
       "\n",
       "    // Prevent repeat events\n",
       "    if (name == 'key_press')\n",
       "    {\n",
       "        if (event.which === this._key)\n",
       "            return;\n",
       "        else\n",
       "            this._key = event.which;\n",
       "    }\n",
       "    if (name == 'key_release')\n",
       "        this._key = null;\n",
       "\n",
       "    var value = '';\n",
       "    if (event.ctrlKey && event.which != 17)\n",
       "        value += \"ctrl+\";\n",
       "    if (event.altKey && event.which != 18)\n",
       "        value += \"alt+\";\n",
       "    if (event.shiftKey && event.which != 16)\n",
       "        value += \"shift+\";\n",
       "\n",
       "    value += 'k';\n",
       "    value += event.which.toString();\n",
       "\n",
       "    this._key_event_extra(event, name);\n",
       "\n",
       "    this.send_message(name, {key: value,\n",
       "                             guiEvent: simpleKeys(event)});\n",
       "    return false;\n",
       "}\n",
       "\n",
       "mpl.figure.prototype.toolbar_button_onclick = function(name) {\n",
       "    if (name == 'download') {\n",
       "        this.handle_save(this, null);\n",
       "    } else {\n",
       "        this.send_message(\"toolbar_button\", {name: name});\n",
       "    }\n",
       "};\n",
       "\n",
       "mpl.figure.prototype.toolbar_button_onmouseover = function(tooltip) {\n",
       "    this.message.textContent = tooltip;\n",
       "};\n",
       "mpl.toolbar_items = [[\"Home\", \"Reset original view\", \"fa fa-home icon-home\", \"home\"], [\"Back\", \"Back to  previous view\", \"fa fa-arrow-left icon-arrow-left\", \"back\"], [\"Forward\", \"Forward to next view\", \"fa fa-arrow-right icon-arrow-right\", \"forward\"], [\"\", \"\", \"\", \"\"], [\"Pan\", \"Pan axes with left mouse, zoom with right\", \"fa fa-arrows icon-move\", \"pan\"], [\"Zoom\", \"Zoom to rectangle\", \"fa fa-square-o icon-check-empty\", \"zoom\"], [\"\", \"\", \"\", \"\"], [\"Download\", \"Download plot\", \"fa fa-floppy-o icon-save\", \"download\"]];\n",
       "\n",
       "mpl.extensions = [\"eps\", \"jpeg\", \"pdf\", \"png\", \"ps\", \"raw\", \"svg\", \"tif\"];\n",
       "\n",
       "mpl.default_extension = \"png\";var comm_websocket_adapter = function(comm) {\n",
       "    // Create a \"websocket\"-like object which calls the given IPython comm\n",
       "    // object with the appropriate methods. Currently this is a non binary\n",
       "    // socket, so there is still some room for performance tuning.\n",
       "    var ws = {};\n",
       "\n",
       "    ws.close = function() {\n",
       "        comm.close()\n",
       "    };\n",
       "    ws.send = function(m) {\n",
       "        //console.log('sending', m);\n",
       "        comm.send(m);\n",
       "    };\n",
       "    // Register the callback with on_msg.\n",
       "    comm.on_msg(function(msg) {\n",
       "        //console.log('receiving', msg['content']['data'], msg);\n",
       "        // Pass the mpl event to the overridden (by mpl) onmessage function.\n",
       "        ws.onmessage(msg['content']['data'])\n",
       "    });\n",
       "    return ws;\n",
       "}\n",
       "\n",
       "mpl.mpl_figure_comm = function(comm, msg) {\n",
       "    // This is the function which gets called when the mpl process\n",
       "    // starts-up an IPython Comm through the \"matplotlib\" channel.\n",
       "\n",
       "    var id = msg.content.data.id;\n",
       "    // Get hold of the div created by the display call when the Comm\n",
       "    // socket was opened in Python.\n",
       "    var element = $(\"#\" + id);\n",
       "    var ws_proxy = comm_websocket_adapter(comm)\n",
       "\n",
       "    function ondownload(figure, format) {\n",
       "        window.open(figure.imageObj.src);\n",
       "    }\n",
       "\n",
       "    var fig = new mpl.figure(id, ws_proxy,\n",
       "                           ondownload,\n",
       "                           element.get(0));\n",
       "\n",
       "    // Call onopen now - mpl needs it, as it is assuming we've passed it a real\n",
       "    // web socket which is closed, not our websocket->open comm proxy.\n",
       "    ws_proxy.onopen();\n",
       "\n",
       "    fig.parent_element = element.get(0);\n",
       "    fig.cell_info = mpl.find_output_cell(\"<div id='\" + id + \"'></div>\");\n",
       "    if (!fig.cell_info) {\n",
       "        console.error(\"Failed to find cell for figure\", id, fig);\n",
       "        return;\n",
       "    }\n",
       "\n",
       "    var output_index = fig.cell_info[2]\n",
       "    var cell = fig.cell_info[0];\n",
       "\n",
       "};\n",
       "\n",
       "mpl.figure.prototype.handle_close = function(fig, msg) {\n",
       "    var width = fig.canvas.width/mpl.ratio\n",
       "    fig.root.unbind('remove')\n",
       "\n",
       "    // Update the output cell to use the data from the current canvas.\n",
       "    fig.push_to_output();\n",
       "    var dataURL = fig.canvas.toDataURL();\n",
       "    // Re-enable the keyboard manager in IPython - without this line, in FF,\n",
       "    // the notebook keyboard shortcuts fail.\n",
       "    IPython.keyboard_manager.enable()\n",
       "    $(fig.parent_element).html('<img src=\"' + dataURL + '\" width=\"' + width + '\">');\n",
       "    fig.close_ws(fig, msg);\n",
       "}\n",
       "\n",
       "mpl.figure.prototype.close_ws = function(fig, msg){\n",
       "    fig.send_message('closing', msg);\n",
       "    // fig.ws.close()\n",
       "}\n",
       "\n",
       "mpl.figure.prototype.push_to_output = function(remove_interactive) {\n",
       "    // Turn the data on the canvas into data in the output cell.\n",
       "    var width = this.canvas.width/mpl.ratio\n",
       "    var dataURL = this.canvas.toDataURL();\n",
       "    this.cell_info[1]['text/html'] = '<img src=\"' + dataURL + '\" width=\"' + width + '\">';\n",
       "}\n",
       "\n",
       "mpl.figure.prototype.updated_canvas_event = function() {\n",
       "    // Tell IPython that the notebook contents must change.\n",
       "    IPython.notebook.set_dirty(true);\n",
       "    this.send_message(\"ack\", {});\n",
       "    var fig = this;\n",
       "    // Wait a second, then push the new image to the DOM so\n",
       "    // that it is saved nicely (might be nice to debounce this).\n",
       "    setTimeout(function () { fig.push_to_output() }, 1000);\n",
       "}\n",
       "\n",
       "mpl.figure.prototype._init_toolbar = function() {\n",
       "    var fig = this;\n",
       "\n",
       "    var nav_element = $('<div/>')\n",
       "    nav_element.attr('style', 'width: 100%');\n",
       "    this.root.append(nav_element);\n",
       "\n",
       "    // Define a callback function for later on.\n",
       "    function toolbar_event(event) {\n",
       "        return fig.toolbar_button_onclick(event['data']);\n",
       "    }\n",
       "    function toolbar_mouse_event(event) {\n",
       "        return fig.toolbar_button_onmouseover(event['data']);\n",
       "    }\n",
       "\n",
       "    for(var toolbar_ind in mpl.toolbar_items){\n",
       "        var name = mpl.toolbar_items[toolbar_ind][0];\n",
       "        var tooltip = mpl.toolbar_items[toolbar_ind][1];\n",
       "        var image = mpl.toolbar_items[toolbar_ind][2];\n",
       "        var method_name = mpl.toolbar_items[toolbar_ind][3];\n",
       "\n",
       "        if (!name) { continue; };\n",
       "\n",
       "        var button = $('<button class=\"btn btn-default\" href=\"#\" title=\"' + name + '\"><i class=\"fa ' + image + ' fa-lg\"></i></button>');\n",
       "        button.click(method_name, toolbar_event);\n",
       "        button.mouseover(tooltip, toolbar_mouse_event);\n",
       "        nav_element.append(button);\n",
       "    }\n",
       "\n",
       "    // Add the status bar.\n",
       "    var status_bar = $('<span class=\"mpl-message\" style=\"text-align:right; float: right;\"/>');\n",
       "    nav_element.append(status_bar);\n",
       "    this.message = status_bar[0];\n",
       "\n",
       "    // Add the close button to the window.\n",
       "    var buttongrp = $('<div class=\"btn-group inline pull-right\"></div>');\n",
       "    var button = $('<button class=\"btn btn-mini btn-primary\" href=\"#\" title=\"Stop Interaction\"><i class=\"fa fa-power-off icon-remove icon-large\"></i></button>');\n",
       "    button.click(function (evt) { fig.handle_close(fig, {}); } );\n",
       "    button.mouseover('Stop Interaction', toolbar_mouse_event);\n",
       "    buttongrp.append(button);\n",
       "    var titlebar = this.root.find($('.ui-dialog-titlebar'));\n",
       "    titlebar.prepend(buttongrp);\n",
       "}\n",
       "\n",
       "mpl.figure.prototype._root_extra_style = function(el){\n",
       "    var fig = this\n",
       "    el.on(\"remove\", function(){\n",
       "\tfig.close_ws(fig, {});\n",
       "    });\n",
       "}\n",
       "\n",
       "mpl.figure.prototype._canvas_extra_style = function(el){\n",
       "    // this is important to make the div 'focusable\n",
       "    el.attr('tabindex', 0)\n",
       "    // reach out to IPython and tell the keyboard manager to turn it's self\n",
       "    // off when our div gets focus\n",
       "\n",
       "    // location in version 3\n",
       "    if (IPython.notebook.keyboard_manager) {\n",
       "        IPython.notebook.keyboard_manager.register_events(el);\n",
       "    }\n",
       "    else {\n",
       "        // location in version 2\n",
       "        IPython.keyboard_manager.register_events(el);\n",
       "    }\n",
       "\n",
       "}\n",
       "\n",
       "mpl.figure.prototype._key_event_extra = function(event, name) {\n",
       "    var manager = IPython.notebook.keyboard_manager;\n",
       "    if (!manager)\n",
       "        manager = IPython.keyboard_manager;\n",
       "\n",
       "    // Check for shift+enter\n",
       "    if (event.shiftKey && event.which == 13) {\n",
       "        this.canvas_div.blur();\n",
       "        event.shiftKey = false;\n",
       "        // Send a \"J\" for go to next cell\n",
       "        event.which = 74;\n",
       "        event.keyCode = 74;\n",
       "        manager.command_mode();\n",
       "        manager.handle_keydown(event);\n",
       "    }\n",
       "}\n",
       "\n",
       "mpl.figure.prototype.handle_save = function(fig, msg) {\n",
       "    fig.ondownload(fig, null);\n",
       "}\n",
       "\n",
       "\n",
       "mpl.find_output_cell = function(html_output) {\n",
       "    // Return the cell and output element which can be found *uniquely* in the notebook.\n",
       "    // Note - this is a bit hacky, but it is done because the \"notebook_saving.Notebook\"\n",
       "    // IPython event is triggered only after the cells have been serialised, which for\n",
       "    // our purposes (turning an active figure into a static one), is too late.\n",
       "    var cells = IPython.notebook.get_cells();\n",
       "    var ncells = cells.length;\n",
       "    for (var i=0; i<ncells; i++) {\n",
       "        var cell = cells[i];\n",
       "        if (cell.cell_type === 'code'){\n",
       "            for (var j=0; j<cell.output_area.outputs.length; j++) {\n",
       "                var data = cell.output_area.outputs[j];\n",
       "                if (data.data) {\n",
       "                    // IPython >= 3 moved mimebundle to data attribute of output\n",
       "                    data = data.data;\n",
       "                }\n",
       "                if (data['text/html'] == html_output) {\n",
       "                    return [cell, data, j];\n",
       "                }\n",
       "            }\n",
       "        }\n",
       "    }\n",
       "}\n",
       "\n",
       "// Register the function which deals with the matplotlib target/channel.\n",
       "// The kernel may be null if the page has been refreshed.\n",
       "if (IPython.notebook.kernel != null) {\n",
       "    IPython.notebook.kernel.comm_manager.register_target('matplotlib', mpl.mpl_figure_comm);\n",
       "}\n"
      ],
      "text/plain": [
       "<IPython.core.display.Javascript object>"
      ]
     },
     "metadata": {},
     "output_type": "display_data"
    },
    {
     "data": {
      "text/html": [
       "<img src=\"data:image/png;base64,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\" width=\"640\">"
      ],
      "text/plain": [
       "<IPython.core.display.HTML object>"
      ]
     },
     "metadata": {},
     "output_type": "display_data"
    }
   ],
   "source": [
    "fig = plt.figure()\n",
    "ax = fig.add_subplot(111, projection='3d')\n",
    "ax.plot_surface(X,Y,Z1, alpha = 0.5, cmap=cm.Accent, rstride=100, cstride=100)\n",
    "ax.plot_surface(X,Y,Z2, alpha = 0.5, cmap=cm.Paired, rstride=100, cstride=100)\n",
    "ax.plot_surface(X,Y,Z3, alpha = 0.5, cmap=cm.Pastel1, rstride=100, cstride=100)\n",
    "ax.plot( (Sol[0],), (Sol[1],), (Sol[2],), lw=2, c='k',marker='o', markersize=8 )\n",
    "ax.set_xlabel('X')\n",
    "ax.set_ylabel('Y')\n",
    "ax.set_zlabel('Z')\n",
    "ax.view_init(40, 60)\n",
    "plt.show()"
   ]
  },
  {
   "cell_type": "code",
   "execution_count": null,
   "metadata": {},
   "outputs": [],
   "source": []
  }
 ],
 "metadata": {
  "kernelspec": {
   "display_name": "Python 3",
   "language": "python",
   "name": "python3"
  },
  "language_info": {
   "codemirror_mode": {
    "name": "ipython",
    "version": 2
   },
   "file_extension": ".py",
   "mimetype": "text/x-python",
   "name": "python",
   "nbconvert_exporter": "python",
   "pygments_lexer": "ipython2",
   "version": "2.7.16"
  }
 },
 "nbformat": 4,
 "nbformat_minor": 2
}
